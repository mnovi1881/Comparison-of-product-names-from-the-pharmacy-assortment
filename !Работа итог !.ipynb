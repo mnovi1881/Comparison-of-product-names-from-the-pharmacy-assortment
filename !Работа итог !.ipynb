{
 "cells": [
  {
   "cell_type": "code",
   "execution_count": 5,
   "metadata": {
    "execution": {
     "iopub.execute_input": "2025-02-14T08:25:31.854338Z",
     "iopub.status.busy": "2025-02-14T08:25:31.854051Z",
     "iopub.status.idle": "2025-02-14T08:25:31.865503Z",
     "shell.execute_reply": "2025-02-14T08:25:31.864715Z",
     "shell.execute_reply.started": "2025-02-14T08:25:31.854318Z"
    }
   },
   "outputs": [],
   "source": [
    "import pandas as pd\n",
    "import numpy as np\n",
    "import matplotlib.pyplot as plt\n",
    "import seaborn as sns\n",
    "\n",
    "data_sample = \"utitles_cats_short.tsv\"\n",
    "data = \"utitles_cats.tsv\"\n",
    "data_with_atx = \"utitles_cats_atx.tsv\""
   ]
  },
  {
   "cell_type": "markdown",
   "metadata": {
    "id": "Na1t_8NnhP-Z"
   },
   "source": [
    "# Start"
   ]
  },
  {
   "cell_type": "code",
   "execution_count": 6,
   "metadata": {
    "colab": {
     "base_uri": "https://localhost:8080/",
     "height": 206
    },
    "execution": {
     "iopub.execute_input": "2025-02-14T06:29:11.756255Z",
     "iopub.status.busy": "2025-02-14T06:29:11.755959Z",
     "iopub.status.idle": "2025-02-14T06:29:12.953702Z",
     "shell.execute_reply": "2025-02-14T06:29:12.952940Z",
     "shell.execute_reply.started": "2025-02-14T06:29:11.756235Z"
    },
    "id": "GiuGdn6-hRKN",
    "outputId": "d05ce12e-e9e0-4ef1-8c95-c50d11635727"
   },
   "outputs": [
    {
     "data": {
      "text/html": [
       "<div>\n",
       "<style scoped>\n",
       "    .dataframe tbody tr th:only-of-type {\n",
       "        vertical-align: middle;\n",
       "    }\n",
       "\n",
       "    .dataframe tbody tr th {\n",
       "        vertical-align: top;\n",
       "    }\n",
       "\n",
       "    .dataframe thead th {\n",
       "        text-align: right;\n",
       "    }\n",
       "</style>\n",
       "<table border=\"1\" class=\"dataframe\">\n",
       "  <thead>\n",
       "    <tr style=\"text-align: right;\">\n",
       "      <th></th>\n",
       "      <th>name</th>\n",
       "      <th>category</th>\n",
       "    </tr>\n",
       "  </thead>\n",
       "  <tbody>\n",
       "    <tr>\n",
       "      <th>0</th>\n",
       "      <td>!Алмагель Нео сусп. пак. 10мл №10 (при изжоге,...</td>\n",
       "      <td>АЛМАГЕЛЬ НЕО СУСП ПАК 10 МЛ №10</td>\n",
       "    </tr>\n",
       "    <tr>\n",
       "      <th>1</th>\n",
       "      <td>!Алмагель Нео сусп. пак. 10мл №10 при изжоге и...</td>\n",
       "      <td>АЛМАГЕЛЬ НЕО СУСП ПАК 10 МЛ №10</td>\n",
       "    </tr>\n",
       "    <tr>\n",
       "      <th>2</th>\n",
       "      <td>!Ибупрофен АКОС сусп. д/приема внутрь 100мг/5м...</td>\n",
       "      <td>ИБУПРОФЕН СУСП 20 МГ/МЛ 100 МЛ АПЕЛЬСИН</td>\n",
       "    </tr>\n",
       "    <tr>\n",
       "      <th>3</th>\n",
       "      <td>!Ибупрофен АКОС сусп. д/приема внутрь 100мг/5м...</td>\n",
       "      <td>ИБУПРОФЕН СУСП 20 МГ/МЛ 100 МЛ КЛУБНИКА</td>\n",
       "    </tr>\n",
       "    <tr>\n",
       "      <th>4</th>\n",
       "      <td>!Ибупрофен Велфарм таб. 200мг №30 обезболивающее</td>\n",
       "      <td>ИБУПРОФЕН ТАБ 200 МГ №30</td>\n",
       "    </tr>\n",
       "  </tbody>\n",
       "</table>\n",
       "</div>"
      ],
      "text/plain": [
       "                                                name  \\\n",
       "0  !Алмагель Нео сусп. пак. 10мл №10 (при изжоге,...   \n",
       "1  !Алмагель Нео сусп. пак. 10мл №10 при изжоге и...   \n",
       "2  !Ибупрофен АКОС сусп. д/приема внутрь 100мг/5м...   \n",
       "3  !Ибупрофен АКОС сусп. д/приема внутрь 100мг/5м...   \n",
       "4   !Ибупрофен Велфарм таб. 200мг №30 обезболивающее   \n",
       "\n",
       "                                  category  \n",
       "0          АЛМАГЕЛЬ НЕО СУСП ПАК 10 МЛ №10  \n",
       "1          АЛМАГЕЛЬ НЕО СУСП ПАК 10 МЛ №10  \n",
       "2  ИБУПРОФЕН СУСП 20 МГ/МЛ 100 МЛ АПЕЛЬСИН  \n",
       "3  ИБУПРОФЕН СУСП 20 МГ/МЛ 100 МЛ КЛУБНИКА  \n",
       "4                 ИБУПРОФЕН ТАБ 200 МГ №30  "
      ]
     },
     "execution_count": 6,
     "metadata": {},
     "output_type": "execute_result"
    }
   ],
   "source": [
    "data_sample = \"utitles_cats_short.tsv\"\n",
    "df = pd.read_csv(data_sample, sep=\"\\t\")\n",
    "df.rename(columns={'Название': \"name\", \"Категория\": \"category\"}, inplace=True)\n",
    "df.head()"
   ]
  },
  {
   "cell_type": "code",
   "execution_count": 7,
   "metadata": {
    "execution": {
     "iopub.execute_input": "2025-02-13T06:37:16.711515Z",
     "iopub.status.busy": "2025-02-13T06:37:16.711144Z",
     "iopub.status.idle": "2025-02-13T06:37:16.732309Z",
     "shell.execute_reply": "2025-02-13T06:37:16.731084Z",
     "shell.execute_reply.started": "2025-02-13T06:37:16.711487Z"
    }
   },
   "outputs": [
    {
     "data": {
      "text/plain": [
       "category\n",
       "ИБУПРОФЕН СУСП 20 МГ/МЛ 100 МЛ              3229\n",
       "АЛМАГЕЛЬ А СУСП ПАК 10 МЛ №10               2528\n",
       "НУРОФЕН ЭКСПРЕСС ФОРТЕ КАПС 400 МГ №10      2136\n",
       "НУРОФЕН ТАБ 200 МГ №10                      2071\n",
       "ИБУПРОФЕН ТАБ 400 МГ №20                    1890\n",
       "НУРОФЕН ЭКСПРЕСС КАПС 200 МГ №8             1860\n",
       "НУРОФЕН ЭКСПРЕСС КАПС 200 МГ №16            1818\n",
       "ИБУПРОФЕН ТАБ 200 МГ №50                    1783\n",
       "НУРОФЕН ДЕТ СУСП 100 МЛ КЛУБНИКА            1751\n",
       "АЛМАГЕЛЬ СУСП ПАК 10 МЛ №10                 1683\n",
       "НУРОФЕН ЭКСПРЕСС ФОРТЕ КАПС 400 МГ №20      1652\n",
       "ИБУПРОФЕН ТАБ 200 МГ №20                    1578\n",
       "НУРОФЕН ТАБ 200 МГ №8                       1550\n",
       "НУРОФЕН ТАБ 200 МГ №20                      1545\n",
       "АЛМАГЕЛЬ А СУСП ФЛАК 170 МЛ                 1498\n",
       "ИБУПРОФЕН ГЕЛЬ 5% 50 Г                      1484\n",
       "НУРОФЕН ФОРТЕ ТАБ 400 МГ №12                1455\n",
       "НУРОФЕН ДЕТ СУСП 150 МЛ АПЕЛЬСИН            1438\n",
       "НУРОФЕН ЭКСПРЕСС КАПС 200 МГ №24            1283\n",
       "ИБУПРОФЕН ТАБ 400 МГ №30                    1251\n",
       "АЛМАГЕЛЬ СУСП ФЛАК 170 МЛ                   1243\n",
       "НУРОФЕН ДЕТ СУСП 200 МЛ АПЕЛЬСИН            1170\n",
       "АЛМАГЕЛЬ НЕО СУСП ПАК 10 МЛ №10             1149\n",
       "НУРОФЕН ДЕТ СУСП 150 МЛ КЛУБНИКА            1137\n",
       "ИБУПРОФЕН ТАБ 400 МГ №50                    1135\n",
       "НУРОФЕН ЭКСПРЕСС ЛЕДИ ТАБ 400 МГ №12        1103\n",
       "НУРОФЕН ЭКСПРЕСС ГЕЛЬ 5% 50 Г               1073\n",
       "НУРОФЕН ДЕТ СУСП 200 МЛ КЛУБНИКА            1044\n",
       "ИБУПРОФЕН СУСП 20 МГ/МЛ 100 МЛ АПЕЛЬСИН      961\n",
       "ИБУПРОФЕН СУСП 20 МГ/МЛ 100 МЛ КЛУБНИКА      943\n",
       "НУРОФЕН ИНТЕНСИВ ТАБ 200 МГ + 500 МГ №6      909\n",
       "НУРОФЕН ИНТЕНСИВ ТАБ 200 МГ + 500 МГ №12     881\n",
       "ИБУПРОФЕН ДЕТ СУПП 60 МГ №10                 878\n",
       "НУРОФЕН ЭКСПРЕСС ГЕЛЬ 5% 100 Г               865\n",
       "НУРОФЕН 12+ ТАБ 200 МГ №12                   849\n",
       "АЛМАГЕЛЬ НЕО СУСП 170 МЛ                     760\n",
       "ИБУПРОФЕН СУСП 20 МГ/МЛ 200 МЛ               667\n",
       "НУРОФЕН ЭКСПРЕСС ФОРТЕ КАПС 400 МГ №30       482\n",
       "ИБУПРОФЕН МАЗЬ 5% 25 Г                       477\n",
       "ИБУПРОФЕН СУСП 20 МГ/МЛ 150 МЛ               397\n",
       "ИБУПРОФЕН КАПС 200 МГ №20                    389\n",
       "НУРОФЕН ФОРТЕ ТАБ 400 МГ №24                 384\n",
       "НУРОФЕН ДЕТ СУСП 100 МЛ АПЕЛЬСИН             369\n",
       "НУРОФЕН 12+ ТАБ 200 МГ №24                   330\n",
       "ИБУПРОФЕН КАПС 200 МГ №10                    309\n",
       "ИБУПРОФЕН ТАБ 400 МГ №10                     224\n",
       "ИБУПРОФЕН ТАБ 200 МГ №30                     182\n",
       "ИБУПРОФЕН ТАБ 200 МГ №10                     180\n",
       "НУРОФЕН ПЛЮС ТАБ 200 МГ + 10 МГ №12          141\n",
       "АЛМАГЕЛЬ НЕО СУСП 10 МЛ №20                   57\n",
       "ИБУПРОФЕН КАПС 400 МГ №20                     27\n",
       "dtype: int64"
      ]
     },
     "execution_count": 7,
     "metadata": {},
     "output_type": "execute_result"
    }
   ],
   "source": [
    "df.value_counts('category')"
   ]
  },
  {
   "cell_type": "markdown",
   "metadata": {
    "id": "pAGpS9Imo1bx"
   },
   "source": [
    "### Приведение к общему виду\n"
   ]
  },
  {
   "cell_type": "markdown",
   "metadata": {
    "id": "yvPs59PrK7T1"
   },
   "source": [
    "### Чистка данных"
   ]
  },
  {
   "cell_type": "code",
   "execution_count": 8,
   "metadata": {
    "colab": {
     "base_uri": "https://localhost:8080/"
    },
    "execution": {
     "iopub.execute_input": "2025-02-17T17:51:44.658529Z",
     "iopub.status.busy": "2025-02-17T17:51:44.658187Z",
     "iopub.status.idle": "2025-02-17T17:52:03.268949Z",
     "shell.execute_reply": "2025-02-17T17:52:03.268202Z",
     "shell.execute_reply.started": "2025-02-17T17:51:44.658501Z"
    },
    "id": "qezgADJGPL9n",
    "outputId": "c307feb6-a102-466c-da1c-3f2a061397a2"
   },
   "outputs": [
    {
     "name": "stderr",
     "output_type": "stream",
     "text": [
      "[nltk_data] Downloading package stopwords to\n",
      "[nltk_data]     C:\\Users\\User\\AppData\\Roaming\\nltk_data...\n",
      "[nltk_data]   Package stopwords is already up-to-date!\n",
      "[nltk_data] Downloading package punkt_tab to\n",
      "[nltk_data]     C:\\Users\\User\\AppData\\Roaming\\nltk_data...\n",
      "[nltk_data]   Package punkt_tab is already up-to-date!\n"
     ]
    }
   ],
   "source": [
    "import nltk\n",
    "nltk.download('stopwords')\n",
    "nltk.download('punkt_tab')\n",
    "from nltk.stem.wordnet import WordNetLemmatizer\n",
    "from nltk.stem.porter import PorterStemmer\n",
    "import re\n",
    "\n",
    "from tqdm.notebook import tqdm\n",
    "from pymystem3 import Mystem\n",
    "from gensim.corpora import Dictionary\n",
    "\n",
    "lemmatizer = WordNetLemmatizer()\n",
    "stopwords = nltk.corpus.stopwords.words('russian')\n",
    "alphabet = list('абвгдеёжзийклмнопрстуфхцчшщъыьэюя0123456789/')\n",
    "\n",
    "def preproc(texts, is_list=True):\n",
    "    if not is_list:\n",
    "        texts = [texts]\n",
    "    stemmer = Mystem()\n",
    "    corpus = []\n",
    "    for text in tqdm(texts):\n",
    "        text = re.sub(r'[^\\w\\s\\d№]', ' ', text)\n",
    "        tokens = nltk.word_tokenize(text.lower())\n",
    "        tokens = [word for word in tokens if word not in stopwords]\n",
    "\n",
    "\n",
    "        tokens = [stemmer.lemmatize(word)[0] for word in tokens]\n",
    "\n",
    "        corpus.append(' '.join(tokens))\n",
    "    return corpus"
   ]
  },
  {
   "cell_type": "code",
   "execution_count": 10,
   "metadata": {
    "colab": {
     "base_uri": "https://localhost:8080/",
     "height": 206
    },
    "execution": {
     "iopub.execute_input": "2025-02-14T06:29:52.705425Z",
     "iopub.status.busy": "2025-02-14T06:29:52.704949Z",
     "iopub.status.idle": "2025-02-14T06:29:52.714419Z",
     "shell.execute_reply": "2025-02-14T06:29:52.713635Z",
     "shell.execute_reply.started": "2025-02-14T06:29:52.705392Z"
    },
    "id": "h9rLQ2SqEa3V",
    "outputId": "5fb7661a-5e22-43fd-892e-27d822b2aaef"
   },
   "outputs": [
    {
     "data": {
      "text/html": [
       "<div>\n",
       "<style scoped>\n",
       "    .dataframe tbody tr th:only-of-type {\n",
       "        vertical-align: middle;\n",
       "    }\n",
       "\n",
       "    .dataframe tbody tr th {\n",
       "        vertical-align: top;\n",
       "    }\n",
       "\n",
       "    .dataframe thead th {\n",
       "        text-align: right;\n",
       "    }\n",
       "</style>\n",
       "<table border=\"1\" class=\"dataframe\">\n",
       "  <thead>\n",
       "    <tr style=\"text-align: right;\">\n",
       "      <th></th>\n",
       "      <th>name</th>\n",
       "      <th>category</th>\n",
       "    </tr>\n",
       "  </thead>\n",
       "  <tbody>\n",
       "    <tr>\n",
       "      <th>0</th>\n",
       "      <td>!Алмагель Нео сусп. пак. 10мл №10 (при изжоге,...</td>\n",
       "      <td>АЛМАГЕЛЬ НЕО СУСП ПАК 10 МЛ №10</td>\n",
       "    </tr>\n",
       "    <tr>\n",
       "      <th>1</th>\n",
       "      <td>!Алмагель Нео сусп. пак. 10мл №10 при изжоге и...</td>\n",
       "      <td>АЛМАГЕЛЬ НЕО СУСП ПАК 10 МЛ №10</td>\n",
       "    </tr>\n",
       "    <tr>\n",
       "      <th>2</th>\n",
       "      <td>!Ибупрофен АКОС сусп. д/приема внутрь 100мг/5м...</td>\n",
       "      <td>ИБУПРОФЕН СУСП 20 МГ/МЛ 100 МЛ АПЕЛЬСИН</td>\n",
       "    </tr>\n",
       "    <tr>\n",
       "      <th>3</th>\n",
       "      <td>!Ибупрофен АКОС сусп. д/приема внутрь 100мг/5м...</td>\n",
       "      <td>ИБУПРОФЕН СУСП 20 МГ/МЛ 100 МЛ КЛУБНИКА</td>\n",
       "    </tr>\n",
       "    <tr>\n",
       "      <th>4</th>\n",
       "      <td>!Ибупрофен Велфарм таб. 200мг №30 обезболивающее</td>\n",
       "      <td>ИБУПРОФЕН ТАБ 200 МГ №30</td>\n",
       "    </tr>\n",
       "  </tbody>\n",
       "</table>\n",
       "</div>"
      ],
      "text/plain": [
       "                                                name  \\\n",
       "0  !Алмагель Нео сусп. пак. 10мл №10 (при изжоге,...   \n",
       "1  !Алмагель Нео сусп. пак. 10мл №10 при изжоге и...   \n",
       "2  !Ибупрофен АКОС сусп. д/приема внутрь 100мг/5м...   \n",
       "3  !Ибупрофен АКОС сусп. д/приема внутрь 100мг/5м...   \n",
       "4   !Ибупрофен Велфарм таб. 200мг №30 обезболивающее   \n",
       "\n",
       "                                  category  \n",
       "0          АЛМАГЕЛЬ НЕО СУСП ПАК 10 МЛ №10  \n",
       "1          АЛМАГЕЛЬ НЕО СУСП ПАК 10 МЛ №10  \n",
       "2  ИБУПРОФЕН СУСП 20 МГ/МЛ 100 МЛ АПЕЛЬСИН  \n",
       "3  ИБУПРОФЕН СУСП 20 МГ/МЛ 100 МЛ КЛУБНИКА  \n",
       "4                 ИБУПРОФЕН ТАБ 200 МГ №30  "
      ]
     },
     "execution_count": 10,
     "metadata": {},
     "output_type": "execute_result"
    }
   ],
   "source": [
    "df_2 = df.copy(deep=True)\n",
    "tqdm.pandas()\n",
    "df_2.head()"
   ]
  },
  {
   "cell_type": "code",
   "execution_count": null,
   "metadata": {
    "colab": {
     "base_uri": "https://localhost:8080/",
     "height": 136,
     "referenced_widgets": [
      "f4d8a87507b34c1292a1c4eab00adcaf",
      "f730ffca6fba423fb443ee52d08d66c5",
      "182a0ec5ad524127a7c27cd0ecd1e62b",
      "98e0706f48ff46d88b910f54596a5caa",
      "eb5a52ac790d4dc38dfae031cbec76e5",
      "8e036321f0774c798b9a9a693379d331",
      "b977263145c9466191a7fd34f55a5e45",
      "0aa26366d3684ec5a21352bfe79cb8e3",
      "5b7df4bf0f7047d7afa6a313d05e1c69",
      "e568278444144635a9ba9222a88cae07",
      "8562a9cada434c208431a39c6479e8bb",
      "90756736b46e46af8f979c427fa18279",
      "febdaa20f6514e10877f9a6f1856b3a9",
      "9f00170ed1074d23a63c7bbb6feb3f6c",
      "ce046283174c478b841cbf986d73371a",
      "8fde5133fe1b45fc80d7ce6a91ff15fe",
      "4855d7b0cf63433bbebf2c1648c55543",
      "ba13b93150ba4107bb70905e8aa4ed02",
      "3016b1939d874a6bafc8644ef297b012",
      "e4fdbb4f8888480488694d141f6355a6",
      "da0b74012fb8427fa3d84a74c851a80c",
      "e093c67c04c6463a9df4e894b3f6e1bd"
     ]
    },
    "execution": {
     "iopub.execute_input": "2025-02-14T06:30:03.058848Z",
     "iopub.status.busy": "2025-02-14T06:30:03.058554Z",
     "iopub.status.idle": "2025-02-14T06:30:47.755194Z",
     "shell.execute_reply": "2025-02-14T06:30:47.754512Z",
     "shell.execute_reply.started": "2025-02-14T06:30:03.058805Z"
    },
    "id": "gb5noc2DTOmb",
    "outputId": "8f81c858-c425-4c4d-cf4a-faf0df8c03d7"
   },
   "outputs": [
    {
     "data": {
      "application/vnd.jupyter.widget-view+json": {
       "model_id": "86dc045dd1324669ad0477d2d3d3569c",
       "version_major": 2,
       "version_minor": 0
      },
      "text/plain": [
       "  0%|          | 0/1 [00:00<?, ?it/s]"
      ]
     },
     "metadata": {},
     "output_type": "display_data"
    },
    {
     "name": "stdout",
     "output_type": "stream",
     "text": [
      "['алмагель нео сусп пак 10мл № изжога боль желудок взд']\n"
     ]
    },
    {
     "data": {
      "application/vnd.jupyter.widget-view+json": {
       "model_id": "cc106fa3ba894937b53acaf5beea990e",
       "version_major": 2,
       "version_minor": 0
      },
      "text/plain": [
       "  0%|          | 0/56198 [00:00<?, ?it/s]"
      ]
     },
     "metadata": {},
     "output_type": "display_data"
    }
   ],
   "source": [
    "texts = list(df_2['name'])\n",
    "\n",
    "print(preproc(texts[0], False))\n",
    "\n",
    "texts = preproc(texts)"
   ]
  },
  {
   "cell_type": "code",
   "execution_count": 9,
   "metadata": {
    "colab": {
     "base_uri": "https://localhost:8080/",
     "height": 35
    },
    "id": "a_SQ-_yGUnsF",
    "outputId": "b42bc8af-9562-43e8-8679-91bbca5e49db"
   },
   "outputs": [
    {
     "data": {
      "application/vnd.google.colaboratory.intrinsic+json": {
       "type": "string"
      },
      "text/plain": [
       "'алмагель нео сусп пак 10мл № изжога боль желудок взд'"
      ]
     },
     "execution_count": 9,
     "metadata": {},
     "output_type": "execute_result"
    }
   ],
   "source": [
    "from sklearn.preprocessing import LabelEncoder\n",
    "\n",
    "\n",
    "def prepare_dataset(df):\n",
    "    texts = list(df['name'])\n",
    "    tests = preroc(texts)\n",
    "    df['prepared_text'] = texts\n",
    "    le = LabelEncoder()\n",
    "    df['category_encoded'] = le.fit_transform(df['category'])"
   ]
  },
  {
   "cell_type": "code",
   "execution_count": 39,
   "metadata": {
    "colab": {
     "base_uri": "https://localhost:8080/",
     "height": 293
    },
    "execution": {
     "iopub.execute_input": "2025-02-07T23:26:34.815432Z",
     "iopub.status.busy": "2025-02-07T23:26:34.815085Z",
     "iopub.status.idle": "2025-02-07T23:26:34.831704Z",
     "shell.execute_reply": "2025-02-07T23:26:34.830999Z",
     "shell.execute_reply.started": "2025-02-07T23:26:34.815406Z"
    },
    "id": "UtRE4V6UUXb9",
    "outputId": "24020a59-86db-4181-9606-5bc0501b624f"
   },
   "outputs": [
    {
     "data": {
      "text/html": [
       "<div>\n",
       "<style scoped>\n",
       "    .dataframe tbody tr th:only-of-type {\n",
       "        vertical-align: middle;\n",
       "    }\n",
       "\n",
       "    .dataframe tbody tr th {\n",
       "        vertical-align: top;\n",
       "    }\n",
       "\n",
       "    .dataframe thead th {\n",
       "        text-align: right;\n",
       "    }\n",
       "</style>\n",
       "<table border=\"1\" class=\"dataframe\">\n",
       "  <thead>\n",
       "    <tr style=\"text-align: right;\">\n",
       "      <th></th>\n",
       "      <th>name</th>\n",
       "      <th>category</th>\n",
       "      <th>prepared_text</th>\n",
       "    </tr>\n",
       "  </thead>\n",
       "  <tbody>\n",
       "    <tr>\n",
       "      <th>0</th>\n",
       "      <td>!Алмагель Нео сусп. пак. 10мл №10 (при изжоге,...</td>\n",
       "      <td>АЛМАГЕЛЬ НЕО СУСП ПАК 10 МЛ №10</td>\n",
       "      <td>алмагель нео сусп пак 10мл 10 изжога боль желу...</td>\n",
       "    </tr>\n",
       "    <tr>\n",
       "      <th>1</th>\n",
       "      <td>!Алмагель Нео сусп. пак. 10мл №10 при изжоге и...</td>\n",
       "      <td>АЛМАГЕЛЬ НЕО СУСП ПАК 10 МЛ №10</td>\n",
       "      <td>алмагель нео сусп пак 10мл 10 изжога вздутие ж...</td>\n",
       "    </tr>\n",
       "    <tr>\n",
       "      <th>2</th>\n",
       "      <td>!Ибупрофен АКОС сусп. д/приема внутрь 100мг/5м...</td>\n",
       "      <td>ИБУПРОФЕН СУСП 20 МГ/МЛ 100 МЛ АПЕЛЬСИН</td>\n",
       "      <td>ибупрофный акос сусп д прием внутрь 100мг 5мл ...</td>\n",
       "    </tr>\n",
       "    <tr>\n",
       "      <th>3</th>\n",
       "      <td>!Ибупрофен АКОС сусп. д/приема внутрь 100мг/5м...</td>\n",
       "      <td>ИБУПРОФЕН СУСП 20 МГ/МЛ 100 МЛ КЛУБНИКА</td>\n",
       "      <td>ибупрофный акос сусп д прием внутрь 100мг 5мл ...</td>\n",
       "    </tr>\n",
       "    <tr>\n",
       "      <th>4</th>\n",
       "      <td>!Ибупрофен Велфарм таб. 200мг №30 обезболивающее</td>\n",
       "      <td>ИБУПРОФЕН ТАБ 200 МГ №30</td>\n",
       "      <td>ибупрофный велфарм таб 200мг 30 обезболивать</td>\n",
       "    </tr>\n",
       "  </tbody>\n",
       "</table>\n",
       "</div>"
      ],
      "text/plain": [
       "                                                name  \\\n",
       "0  !Алмагель Нео сусп. пак. 10мл №10 (при изжоге,...   \n",
       "1  !Алмагель Нео сусп. пак. 10мл №10 при изжоге и...   \n",
       "2  !Ибупрофен АКОС сусп. д/приема внутрь 100мг/5м...   \n",
       "3  !Ибупрофен АКОС сусп. д/приема внутрь 100мг/5м...   \n",
       "4   !Ибупрофен Велфарм таб. 200мг №30 обезболивающее   \n",
       "\n",
       "                                  category  \\\n",
       "0          АЛМАГЕЛЬ НЕО СУСП ПАК 10 МЛ №10   \n",
       "1          АЛМАГЕЛЬ НЕО СУСП ПАК 10 МЛ №10   \n",
       "2  ИБУПРОФЕН СУСП 20 МГ/МЛ 100 МЛ АПЕЛЬСИН   \n",
       "3  ИБУПРОФЕН СУСП 20 МГ/МЛ 100 МЛ КЛУБНИКА   \n",
       "4                 ИБУПРОФЕН ТАБ 200 МГ №30   \n",
       "\n",
       "                                       prepared_text  \n",
       "0  алмагель нео сусп пак 10мл 10 изжога боль желу...  \n",
       "1  алмагель нео сусп пак 10мл 10 изжога вздутие ж...  \n",
       "2  ибупрофный акос сусп д прием внутрь 100мг 5мл ...  \n",
       "3  ибупрофный акос сусп д прием внутрь 100мг 5мл ...  \n",
       "4       ибупрофный велфарм таб 200мг 30 обезболивать  "
      ]
     },
     "execution_count": 39,
     "metadata": {},
     "output_type": "execute_result"
    }
   ],
   "source": [
    "df_2['prepared_text'] = texts\n",
    "df_2.head()"
   ]
  },
  {
   "cell_type": "code",
   "execution_count": 8,
   "metadata": {
    "colab": {
     "base_uri": "https://localhost:8080/"
    },
    "execution": {
     "iopub.execute_input": "2025-02-13T06:38:14.062169Z",
     "iopub.status.busy": "2025-02-13T06:38:14.061821Z",
     "iopub.status.idle": "2025-02-13T06:38:14.074019Z",
     "shell.execute_reply": "2025-02-13T06:38:14.072892Z",
     "shell.execute_reply.started": "2025-02-13T06:38:14.062140Z"
    },
    "id": "6qiZSNfUE1Xa",
    "outputId": "24cbbbe9-ab82-4e03-fac8-19ceaa75eed4"
   },
   "outputs": [
    {
     "ename": "NameError",
     "evalue": "name 'df_2' is not defined",
     "output_type": "error",
     "traceback": [
      "\u001b[0;31m---------------------------------------------------------------------------\u001b[0m",
      "\u001b[0;31mNameError\u001b[0m                                 Traceback (most recent call last)",
      "\u001b[0;32m<ipython-input-8-a1e53a575168>\u001b[0m in \u001b[0;36m<cell line: 2>\u001b[0;34m()\u001b[0m\n\u001b[1;32m      1\u001b[0m \u001b[0mcategory_alphabet\u001b[0m \u001b[0;34m=\u001b[0m \u001b[0mset\u001b[0m\u001b[0;34m(\u001b[0m\u001b[0;34m)\u001b[0m\u001b[0;34m\u001b[0m\u001b[0;34m\u001b[0m\u001b[0m\n\u001b[0;32m----> 2\u001b[0;31m \u001b[0;32mfor\u001b[0m \u001b[0mi\u001b[0m \u001b[0;32min\u001b[0m \u001b[0mset\u001b[0m\u001b[0;34m(\u001b[0m\u001b[0mdf_2\u001b[0m\u001b[0;34m[\u001b[0m\u001b[0;34m'category'\u001b[0m\u001b[0;34m]\u001b[0m\u001b[0;34m)\u001b[0m\u001b[0;34m:\u001b[0m\u001b[0;34m\u001b[0m\u001b[0;34m\u001b[0m\u001b[0m\n\u001b[0m\u001b[1;32m      3\u001b[0m    \u001b[0mcategory_alphabet\u001b[0m \u001b[0;34m=\u001b[0m \u001b[0mcategory_alphabet\u001b[0m\u001b[0;34m.\u001b[0m\u001b[0munion\u001b[0m\u001b[0;34m(\u001b[0m\u001b[0mset\u001b[0m\u001b[0;34m(\u001b[0m\u001b[0mi\u001b[0m\u001b[0;34m)\u001b[0m\u001b[0;34m)\u001b[0m\u001b[0;34m\u001b[0m\u001b[0;34m\u001b[0m\u001b[0m\n\u001b[1;32m      4\u001b[0m \u001b[0;34m\u001b[0m\u001b[0m\n\u001b[1;32m      5\u001b[0m \u001b[0mname_alphabet\u001b[0m \u001b[0;34m=\u001b[0m \u001b[0mset\u001b[0m\u001b[0;34m(\u001b[0m\u001b[0;34m)\u001b[0m\u001b[0;34m\u001b[0m\u001b[0;34m\u001b[0m\u001b[0m\n",
      "\u001b[0;31mNameError\u001b[0m: name 'df_2' is not defined"
     ]
    }
   ],
   "source": [
    "category_alphabet = set()\n",
    "for i in set(df_2['category']):\n",
    "   category_alphabet = category_alphabet.union(set(i))\n",
    "\n",
    "name_alphabet = set()\n",
    "for i in set(df_2['name']):\n",
    "   name_alphabet = name_alphabet.union(set(i))\n",
    "\n",
    "len(category_alphabet)\n",
    "\n"
   ]
  },
  {
   "cell_type": "code",
   "execution_count": 5,
   "metadata": {
    "colab": {
     "base_uri": "https://localhost:8080/"
    },
    "execution": {
     "iopub.execute_input": "2025-02-07T22:52:00.706834Z",
     "iopub.status.busy": "2025-02-07T22:52:00.706567Z",
     "iopub.status.idle": "2025-02-07T22:52:07.439926Z",
     "shell.execute_reply": "2025-02-07T22:52:07.438880Z",
     "shell.execute_reply.started": "2025-02-07T22:52:00.706805Z"
    },
    "id": "nUr98ubKNKnp",
    "outputId": "cca6f007-408d-464d-e167-38410bb34bfe"
   },
   "outputs": [
    {
     "name": "stdout",
     "output_type": "stream",
     "text": [
      "Collecting pymorphy2\n",
      "  Downloading pymorphy2-0.9.1-py3-none-any.whl.metadata (3.6 kB)\n",
      "Collecting dawg-python>=0.7.1 (from pymorphy2)\n",
      "  Downloading DAWG_Python-0.7.2-py2.py3-none-any.whl.metadata (7.0 kB)\n",
      "Collecting pymorphy2-dicts-ru<3.0,>=2.4 (from pymorphy2)\n",
      "  Downloading pymorphy2_dicts_ru-2.4.417127.4579844-py2.py3-none-any.whl.metadata (2.1 kB)\n",
      "Collecting docopt>=0.6 (from pymorphy2)\n",
      "  Downloading docopt-0.6.2.tar.gz (25 kB)\n",
      "  Preparing metadata (setup.py) ... \u001b[?25l\u001b[?25hdone\n",
      "Downloading pymorphy2-0.9.1-py3-none-any.whl (55 kB)\n",
      "\u001b[2K   \u001b[90m━━━━━━━━━━━━━━━━━━━━━━━━━━━━━━━━━━━━━━━━\u001b[0m \u001b[32m55.5/55.5 kB\u001b[0m \u001b[31m2.9 MB/s\u001b[0m eta \u001b[36m0:00:00\u001b[0m\n",
      "\u001b[?25hDownloading DAWG_Python-0.7.2-py2.py3-none-any.whl (11 kB)\n",
      "Downloading pymorphy2_dicts_ru-2.4.417127.4579844-py2.py3-none-any.whl (8.2 MB)\n",
      "\u001b[2K   \u001b[90m━━━━━━━━━━━━━━━━━━━━━━━━━━━━━━━━━━━━━━━━\u001b[0m \u001b[32m8.2/8.2 MB\u001b[0m \u001b[31m79.1 MB/s\u001b[0m eta \u001b[36m0:00:00\u001b[0m:00:01\u001b[0m0:01\u001b[0m\n",
      "\u001b[?25hBuilding wheels for collected packages: docopt\n",
      "  Building wheel for docopt (setup.py) ... \u001b[?25l\u001b[?25hdone\n",
      "  Created wheel for docopt: filename=docopt-0.6.2-py2.py3-none-any.whl size=13706 sha256=1a5a8ed3a2c15e2bbc5030fa2547a1705b7d009cef8a8c129bb7c0c81308f83b\n",
      "  Stored in directory: /root/.cache/pip/wheels/fc/ab/d4/5da2067ac95b36618c629a5f93f809425700506f72c9732fac\n",
      "Successfully built docopt\n",
      "Installing collected packages: pymorphy2-dicts-ru, docopt, dawg-python, pymorphy2\n",
      "Successfully installed dawg-python-0.7.2 docopt-0.6.2 pymorphy2-0.9.1 pymorphy2-dicts-ru-2.4.417127.4579844\n"
     ]
    }
   ],
   "source": [
    "!pip3 install pymorphy2"
   ]
  },
  {
   "cell_type": "markdown",
   "metadata": {
    "id": "kplKRzn3NieZ"
   },
   "source": [
    "## Модель\n",
    "### Векторизация\n",
    "#### CountVectorize"
   ]
  },
  {
   "cell_type": "code",
   "execution_count": 12,
   "metadata": {
    "colab": {
     "base_uri": "https://localhost:8080/"
    },
    "execution": {
     "iopub.execute_input": "2025-02-07T19:35:25.967221Z",
     "iopub.status.busy": "2025-02-07T19:35:25.966861Z",
     "iopub.status.idle": "2025-02-07T19:35:27.361281Z",
     "shell.execute_reply": "2025-02-07T19:35:27.360471Z",
     "shell.execute_reply.started": "2025-02-07T19:35:25.967189Z"
    },
    "id": "c_EDtjBPl8Z0",
    "outputId": "20e668bf-d748-4e84-aeae-92857049b585"
   },
   "outputs": [
    {
     "data": {
      "text/plain": [
       "(56198, 4001)"
      ]
     },
     "execution_count": 12,
     "metadata": {},
     "output_type": "execute_result"
    }
   ],
   "source": [
    "from sklearn.feature_extraction.text import CountVectorizer\n",
    "\n",
    "texts = list(df_2['prepared_text'])\n",
    "cv = CountVectorizer()\n",
    "cv.fit(texts)\n",
    "transformed_cvec = cv.transform(texts)\n",
    "dense_cvec = transformed_cvec.todense()\n",
    "dense_cvec.shape"
   ]
  },
  {
   "cell_type": "markdown",
   "metadata": {
    "id": "5L0Z_kk7sH1e"
   },
   "source": [
    "#### Doc2Vec"
   ]
  },
  {
   "cell_type": "code",
   "execution_count": 69,
   "metadata": {
    "execution": {
     "iopub.execute_input": "2025-02-07T23:49:08.855981Z",
     "iopub.status.busy": "2025-02-07T23:49:08.855671Z",
     "iopub.status.idle": "2025-02-07T23:49:09.084232Z",
     "shell.execute_reply": "2025-02-07T23:49:09.083375Z",
     "shell.execute_reply.started": "2025-02-07T23:49:08.855958Z"
    }
   },
   "outputs": [
    {
     "name": "stdout",
     "output_type": "stream",
     "text": [
      "57\n"
     ]
    },
    {
     "data": {
      "image/png": "[encoded data removed]",
      "text/plain": [
       "<Figure size 640x480 with 1 Axes>"
      ]
     },
     "metadata": {},
     "output_type": "display_data"
    }
   ],
   "source": [
    "df_2['length'] = df_2['prepared_text'].apply(lambda x: len(x.split()) if isinstance(x, str) else 0)\n",
    "\n",
    "df_2[['name', 'length']].groupby('length').count().rename(columns={'name': 'count'}).plot()\n"
   ]
  },
  {
   "cell_type": "code",
   "execution_count": 73,
   "metadata": {
    "execution": {
     "iopub.execute_input": "2025-02-07T23:49:27.694305Z",
     "iopub.status.busy": "2025-02-07T23:49:27.693978Z",
     "iopub.status.idle": "2025-02-07T23:49:27.700285Z",
     "shell.execute_reply": "2025-02-07T23:49:27.699399Z",
     "shell.execute_reply.started": "2025-02-07T23:49:27.694278Z"
    }
   },
   "outputs": [
    {
     "name": "stdout",
     "output_type": "stream",
     "text": [
      "57\n"
     ]
    }
   ],
   "source": [
    "print(len(df_2[df_2['length'] < 3]))"
   ]
  },
  {
   "cell_type": "code",
   "execution_count": 44,
   "metadata": {
    "execution": {
     "iopub.execute_input": "2025-02-07T23:36:46.719614Z",
     "iopub.status.busy": "2025-02-07T23:36:46.719294Z",
     "iopub.status.idle": "2025-02-07T23:41:59.260912Z",
     "shell.execute_reply": "2025-02-07T23:41:59.260010Z",
     "shell.execute_reply.started": "2025-02-07T23:36:46.719586Z"
    },
    "id": "c04BdUsqoW2F"
   },
   "outputs": [],
   "source": [
    "from gensim.models.doc2vec import Doc2Vec, TaggedDocument\n",
    "\n",
    "tagged_data = []\n",
    "for i, el in enumerate(texts):\n",
    "    tokens = nltk.word_tokenize(el)\n",
    "    tagged_data.append(TaggedDocument(words=tokens, tags=[i]))\n",
    "\n",
    "model = Doc2Vec(tagged_data, vector_size=20, window=3, min_count=1, epochs=80)"
   ]
  },
  {
   "cell_type": "markdown",
   "metadata": {},
   "source": [
    "## TF-IDF\n",
    "### функция подготовки данных"
   ]
  },
  {
   "cell_type": "code",
   "execution_count": 2,
   "metadata": {
    "execution": {
     "iopub.execute_input": "2025-02-17T13:13:21.255333Z",
     "iopub.status.busy": "2025-02-17T13:13:21.254972Z",
     "iopub.status.idle": "2025-02-17T13:13:21.260695Z",
     "shell.execute_reply": "2025-02-17T13:13:21.259874Z",
     "shell.execute_reply.started": "2025-02-17T13:13:21.255304Z"
    }
   },
   "outputs": [],
   "source": [
    "from sklearn.feature_extraction.text import TfidfVectorizer\n",
    "from sklearn.model_selection import train_test_split\n",
    "from sklearn.naive_bayes import MultinomialNB\n",
    "from sklearn.preprocessing import LabelEncoder\n",
    "import numpy as np\n",
    "import torch\n",
    "\n",
    "\n",
    "def TFIDF_vect_lite(text: list, category, test_size=0.3, stratify=True):\n",
    "    le = LabelEncoder()\n",
    "    y = le.fit_transform(category)\n",
    "    \n",
    "    if stratify:\n",
    "        X_train, X_test, y_train, y_test,  = train_test_split(texts, y, random_state=42, test_size=test_size, stratify=y)\n",
    "    else:\n",
    "        X_train, X_test, y_train, y_test = train_test_split(texts, y, random_state=42, test_size=test_size)\n",
    "\n",
    "    tfidf_vectorizer = TfidfVectorizer(max_features=5000)\n",
    "    X_train = tfidf_vectorizer.fit_transform(X_train)\n",
    "    X_test = tfidf_vectorizer.transform(X_test)\n",
    "    print('done')\n",
    "    return X_train, y_train, X_test, y_test, le, tfidf_vectorizer"
   ]
  },
  {
   "cell_type": "code",
   "execution_count": 2,
   "metadata": {
    "execution": {
     "iopub.execute_input": "2025-02-17T15:13:30.039159Z",
     "iopub.status.busy": "2025-02-17T15:13:30.038858Z",
     "iopub.status.idle": "2025-02-17T15:13:33.592733Z",
     "shell.execute_reply": "2025-02-17T15:13:33.591855Z",
     "shell.execute_reply.started": "2025-02-17T15:13:30.039132Z"
    }
   },
   "outputs": [],
   "source": [
    "from sklearn.feature_extraction.text import TfidfVectorizer\n",
    "from sklearn.model_selection import train_test_split\n",
    "from sklearn.naive_bayes import MultinomialNB\n",
    "from sklearn.preprocessing import LabelEncoder\n",
    "import numpy as np\n",
    "import torch\n",
    "from torch.utils.data import TensorDataset, DataLoader\n",
    "\n",
    "def sparse_collate_fn(batch):\n",
    "    data = [item[0] for item in batch]  \n",
    "    target = torch.tensor([item[1] for item in batch], dtype=torch.long)\n",
    "    return torch.stack(data), target\n",
    "\n",
    "\n",
    "def TFIDF_vect(texts: list, category, test_size=0.3, stratify=True):\n",
    "    le = LabelEncoder()\n",
    "    y = le.fit_transform(category)\n",
    "    \n",
    "    if stratify:\n",
    "        X_train, X_test, y_train, y_test = train_test_split(texts, y, random_state=42, test_size=test_size, stratify=y)\n",
    "        X_train, X_val, y_train, y_val = train_test_split(X_train, y_train, random_state=42, test_size=0.1, stratify=y_train)\n",
    "    else:\n",
    "        X_train, X_test, y_train, y_test = train_test_split(texts, y, random_state=42, test_size=test_size)\n",
    "        X_train, X_val, y_train, y_val = train_test_split(X_train, y_train, random_state=42, test_size=0.1)\n",
    "\n",
    "    tfidf_vectorizer = TfidfVectorizer(max_features=5000)\n",
    "    X_train = tfidf_vectorizer.fit_transform(X_train)\n",
    "    X_test = tfidf_vectorizer.transform(X_test)\n",
    "    X_val = tfidf_vectorizer.transform(X_val)\n",
    "    X_train_coo = X_train.tocoo()\n",
    "    X_test_coo = X_test.tocoo()\n",
    "    X_val_coo = X_val.tocoo()\n",
    "    print('X_train starting...')\n",
    "\n",
    "    X_train_tensor = torch.sparse_coo_tensor(\n",
    "        torch.tensor(np.vstack((X_train_coo.row, X_train_coo.col))),\n",
    "        torch.tensor(X_train_coo.data),\n",
    "        X_train.shape,\n",
    "        dtype=torch.float32 \n",
    "        ).to('cuda' if torch.cuda.is_available() else 'cpu')\n",
    "\n",
    "    X_test_tensor = torch.sparse_coo_tensor(\n",
    "        torch.tensor(np.vstack((X_test_coo.row, X_test_coo.col))),\n",
    "        torch.tensor(X_test_coo.data),\n",
    "        X_test.shape,\n",
    "        dtype=torch.float32\n",
    "        ).to('cuda' if torch.cuda.is_available() else 'cpu')\n",
    "\n",
    "    X_val_tensor = torch.sparse_coo_tensor(\n",
    "        torch.tensor(np.vstack((X_val_coo.row, X_val_coo.col))),\n",
    "        torch.tensor(X_val_coo.data),\n",
    "        X_val.shape,\n",
    "        dtype=torch.float32\n",
    "        ).to('cuda' if torch.cuda.is_available() else 'cpu')\n",
    "    \n",
    "    y_train = torch.tensor(y_train, dtype=torch.long)\n",
    "    y_test = torch.tensor(y_test, dtype=torch.long)\n",
    "    y_val = torch.tensor(y_val, dtype=torch.long)\n",
    "    train_dataset = TensorDataset(X_train_tensor, y_train)\n",
    "    test_dataset = TensorDataset(X_test_tensor, y_test)\n",
    "    val_dataset = TensorDataset(X_val_tensor, y_val)\n",
    "    input_dim = train_dataset[0][0].shape[0]\n",
    "    print(\"input dim:\", input_dim)\n",
    "    \n",
    "    batch_size = 1024\n",
    "    train_dataloader = DataLoader(train_dataset, batch_size=batch_size, shuffle=True, collate_fn=sparse_collate_fn)\n",
    "    test_dataloader = DataLoader(test_dataset, batch_size=batch_size, shuffle=False, collate_fn=sparse_collate_fn)\n",
    "    val_dataloader = DataLoader(val_dataset, batch_size=batch_size, shuffle=False, collate_fn=sparse_collate_fn)\n",
    "    return train_dataloader, test_dataloader, val_dataloader, le, tfidf_vectorizer, input_dim\n",
    "    "
   ]
  },
  {
   "cell_type": "code",
   "execution_count": 83,
   "metadata": {
    "execution": {
     "iopub.execute_input": "2025-02-07T23:56:35.092043Z",
     "iopub.status.busy": "2025-02-07T23:56:35.091764Z",
     "iopub.status.idle": "2025-02-07T23:56:49.492417Z",
     "shell.execute_reply": "2025-02-07T23:56:49.491572Z",
     "shell.execute_reply.started": "2025-02-07T23:56:35.092022Z"
    }
   },
   "outputs": [
    {
     "name": "stdout",
     "output_type": "stream",
     "text": [
      "balanced accuracy:\n",
      "0.8817567981474956\n",
      "precion: \n",
      "0.6610556322910852\n",
      "recall: \n",
      "0.7780207042477902\n",
      "f1: \n",
      "0.6611566490430766\n",
      "accuracy: \n",
      "0.8182087781731909\n",
      "logic_regression:\n"
     ]
    },
    {
     "name": "stderr",
     "output_type": "stream",
     "text": [
      "/usr/local/lib/python3.10/dist-packages/sklearn/metrics/_classification.py:2184: UserWarning: y_pred contains classes not in y_true\n",
      "  warnings.warn(\"y_pred contains classes not in y_true\")\n",
      "/usr/local/lib/python3.10/dist-packages/sklearn/metrics/_classification.py:1344: UndefinedMetricWarning: Recall is ill-defined and being set to 0.0 in labels with no true samples. Use `zero_division` parameter to control this behavior.\n",
      "  _warn_prf(average, modifier, msg_start, len(result))\n"
     ]
    },
    {
     "name": "stdout",
     "output_type": "stream",
     "text": [
      "balanced accuracy:\n",
      "0.9444689886165158\n",
      "precion: \n",
      "0.917267705331208\n",
      "recall: \n",
      "0.9444689886165158\n",
      "f1: \n",
      "0.9255029032894694\n",
      "accuracy: \n",
      "0.9284697508896798\n"
     ]
    }
   ],
   "source": [
    "from sklearn.model_selection import train_test_split\n",
    "from sklearn.naive_bayes import MultinomialNB\n",
    "from sklearn.metrics import accuracy_score\n",
    "from sklearn.feature_extraction.text import TfidfVectorizer\n",
    "from sklearn.linear_model import LogisticRegression\n",
    "\n",
    "le = LabelEncoder()\n",
    "y = le.fit_transform(df_2['category'])\n",
    "\n",
    "X_train, X_test, y_train, y_test = train_test_split(texts, y, random_state=42, test_size=0.3, stratify=y)\n",
    "\n",
    "tfidf_vectorizer = TfidfVectorizer()\n",
    "X_train = tfidf_vectorizer.fit_transform(X_train)\n",
    "X_test = tfidf_vectorizer.transform(X_test)\n",
    "\n",
    "classifier = MultinomialNB()\n",
    "classifier.fit(X_train, y_train)\n",
    "\n",
    "y_pred = classifier.predict(X_test)\n",
    "\n",
    "print(\"balanced accuracy:\")\n",
    "print(balanced_accuracy_score(y_pred, y_test))\n",
    "print(\"precion: \")\n",
    "print(precision_score(y_pred, y_test, average='macro'))\n",
    "print(\"recall: \")\n",
    "print(recall_score(y_pred, y_test, average='macro'))\n",
    "print(\"f1: \")\n",
    "print(f1_score(y_pred, y_test, average='macro'))\n",
    "print(\"accuracy: \")\n",
    "print(accuracy_score(y_pred, y_test))\n",
    "\n",
    "print(\"logic_regression:\")\n",
    "model = LogisticRegression(max_iter=200)\n",
    "model.fit(X_train, y_train)\n",
    "\n",
    "y_pred = model.predict(X_test)\n",
    "print(\"balanced accuracy:\")\n",
    "print(balanced_accuracy_score(y_pred, y_test))\n",
    "print(\"precion: \")\n",
    "print(precision_score(y_pred, y_test, average='macro'))\n",
    "print(\"recall: \")\n",
    "print(recall_score(y_pred, y_test, average='macro'))\n",
    "print(\"f1: \")\n",
    "print(f1_score(y_pred, y_test, average='macro'))\n",
    "print(\"accuracy: \")\n",
    "print(accuracy_score(y_pred, y_test))"
   ]
  },
  {
   "cell_type": "code",
   "execution_count": 79,
   "metadata": {
    "execution": {
     "iopub.execute_input": "2025-02-07T23:51:09.265209Z",
     "iopub.status.busy": "2025-02-07T23:51:09.264890Z",
     "iopub.status.idle": "2025-02-07T23:51:09.269975Z",
     "shell.execute_reply": "2025-02-07T23:51:09.269209Z",
     "shell.execute_reply.started": "2025-02-07T23:51:09.265183Z"
    }
   },
   "outputs": [
    {
     "data": {
      "text/plain": [
       "array(<39338x3578 sparse matrix of type '<class 'numpy.float64'>'\n",
       "\twith 259615 stored elements in Compressed Sparse Row format>,\n",
       "      dtype=object)"
      ]
     },
     "execution_count": 79,
     "metadata": {},
     "output_type": "execute_result"
    }
   ],
   "source": [
    "X_train"
   ]
  },
  {
   "cell_type": "markdown",
   "metadata": {
    "id": "TwOREXY_Oym0"
   },
   "source": [
    "### Разбиваем на обучающуюся и тестовую выборки"
   ]
  },
  {
   "cell_type": "code",
   "execution_count": 19,
   "metadata": {
    "execution": {
     "iopub.execute_input": "2025-02-07T19:36:51.001303Z",
     "iopub.status.busy": "2025-02-07T19:36:51.000938Z",
     "iopub.status.idle": "2025-02-07T19:36:52.154516Z",
     "shell.execute_reply": "2025-02-07T19:36:52.153623Z",
     "shell.execute_reply.started": "2025-02-07T19:36:51.001272Z"
    },
    "id": "jdsEJjpUNguO"
   },
   "outputs": [],
   "source": [
    "from sklearn.model_selection import train_test_split\n",
    "from sklearn.linear_model import LogisticRegression\n",
    "from sklearn.experimental import enable_halving_search_cv\n",
    "from sklearn.model_selection import HalvingRandomSearchCV\n",
    "from sklearn.metrics import balanced_accuracy_score, precision_score, recall_score, f1_score, accuracy_score, precision_recall_curve, average_precision_score\n",
    "from sklearn.preprocessing import StandardScaler\n",
    "import numpy as np\n",
    "from sklearn.preprocessing import LabelEncoder\n",
    "\n",
    "\n",
    "le = LabelEncoder()\n",
    "df_2['category_encoded'] = le.fit_transform(df_2['category'])\n",
    "\n",
    "X_train, X_test, y_train, y_test = train_test_split(np.array(dense_cvec), list(df_2['category_encoded']), random_state=42, test_size=0.3, stratify=df_2['category_encoded'])\n"
   ]
  },
  {
   "cell_type": "markdown",
   "metadata": {},
   "source": [
    "### LogicRegression + CountVecttorize"
   ]
  },
  {
   "cell_type": "code",
   "execution_count": 17,
   "metadata": {
    "colab": {
     "base_uri": "https://localhost:8080/"
    },
    "id": "d_DNKVDym-wQ",
    "outputId": "f35b3304-092d-44d0-f0e7-8f8202f72033"
   },
   "outputs": [
    {
     "name": "stdout",
     "output_type": "stream",
     "text": [
      "balanced accuracy:\n",
      "0.8890430150704535\n",
      "0.845115106018204\n",
      "precion: \n",
      "0.8260198794712476\n",
      "0.784164898589826\n",
      "recall: \n",
      "0.8890430150704535\n",
      "0.845115106018204\n",
      "f1: \n",
      "0.8425577827703142\n",
      "0.7965527505789589\n",
      "accuracy: \n",
      "0.8634145101428644\n",
      "0.8298932384341637\n"
     ]
    }
   ],
   "source": [
    "model = LogisticRegression(max_iter=200)\n",
    "model.fit(X_train, y_train)\n",
    "\n",
    "print(\"balanced accuracy:\")\n",
    "print(balanced_accuracy_score(model.predict(X_train), y_train))\n",
    "print(balanced_accuracy_score(model.predict(X_test), y_test))\n",
    "print(\"precion: \")\n",
    "print(precision_score(model.predict(X_train), y_train, average='macro'))\n",
    "print(precision_score(model.predict(X_test), y_test, average='macro'))\n",
    "print(\"recall: \")\n",
    "print(recall_score(model.predict(X_train), y_train, average='macro'))\n",
    "print(recall_score(model.predict(X_test), y_test, average='macro'))\n",
    "print(\"f1: \")\n",
    "print(f1_score(model.predict(X_train), y_train, average='macro'))\n",
    "print(f1_score(model.predict(X_test), y_test, average='macro'))\n",
    "print(\"accuracy: \")\n",
    "print(accuracy_score(model.predict(X_train), y_train))\n",
    "print(accuracy_score(model.predict(X_test), y_test))\n"
   ]
  },
  {
   "cell_type": "code",
   "execution_count": 18,
   "metadata": {
    "id": "BTgRkMswvV5d"
   },
   "outputs": [],
   "source": [
    "import pickle\n",
    "\n",
    "with open('models/logic_regression_2.pkl', 'wb') as file:\n",
    "    pickle.dump(model, file)"
   ]
  },
  {
   "cell_type": "markdown",
   "metadata": {
    "id": "p9_Kr46pEjJb"
   },
   "source": [
    "pytourch"
   ]
  },
  {
   "cell_type": "code",
   "execution_count": 76,
   "metadata": {
    "execution": {
     "iopub.execute_input": "2025-02-07T23:50:34.031509Z",
     "iopub.status.busy": "2025-02-07T23:50:34.031178Z",
     "iopub.status.idle": "2025-02-07T23:50:34.053149Z",
     "shell.execute_reply": "2025-02-07T23:50:34.052037Z",
     "shell.execute_reply.started": "2025-02-07T23:50:34.031482Z"
    },
    "id": "rx3a0sUQHAwA"
   },
   "outputs": [
    {
     "ename": "TypeError",
     "evalue": "can't convert np.ndarray of type numpy.object_. The only supported types are: float64, float32, float16, complex64, complex128, int64, int32, int16, int8, uint64, uint32, uint16, uint8, and bool.",
     "output_type": "error",
     "traceback": [
      "\u001b[0;31m---------------------------------------------------------------------------\u001b[0m",
      "\u001b[0;31mTypeError\u001b[0m                                 Traceback (most recent call last)",
      "\u001b[0;32m<ipython-input-76-8c44e73d3d3d>\u001b[0m in \u001b[0;36m<cell line: 16>\u001b[0;34m()\u001b[0m\n\u001b[1;32m     14\u001b[0m \u001b[0;31m# df_2['category_encoded'] = le.fit_transform(df_2['category'])\u001b[0m\u001b[0;34m\u001b[0m\u001b[0;34m\u001b[0m\u001b[0m\n\u001b[1;32m     15\u001b[0m \u001b[0;31m# X_train = np.array(X_train)\u001b[0m\u001b[0;34m\u001b[0m\u001b[0;34m\u001b[0m\u001b[0m\n\u001b[0;32m---> 16\u001b[0;31m \u001b[0mX_train\u001b[0m \u001b[0;34m=\u001b[0m \u001b[0mtorch\u001b[0m\u001b[0;34m.\u001b[0m\u001b[0mtensor\u001b[0m\u001b[0;34m(\u001b[0m\u001b[0mX_train\u001b[0m\u001b[0;34m,\u001b[0m \u001b[0mdtype\u001b[0m\u001b[0;34m=\u001b[0m\u001b[0mtorch\u001b[0m\u001b[0;34m.\u001b[0m\u001b[0mfloat32\u001b[0m\u001b[0;34m)\u001b[0m\u001b[0;34m\u001b[0m\u001b[0;34m\u001b[0m\u001b[0m\n\u001b[0m\u001b[1;32m     17\u001b[0m \u001b[0my_train\u001b[0m \u001b[0;34m=\u001b[0m \u001b[0mtorch\u001b[0m\u001b[0;34m.\u001b[0m\u001b[0mtensor\u001b[0m\u001b[0;34m(\u001b[0m\u001b[0my_train\u001b[0m\u001b[0;34m,\u001b[0m \u001b[0mdtype\u001b[0m\u001b[0;34m=\u001b[0m\u001b[0mtorch\u001b[0m\u001b[0;34m.\u001b[0m\u001b[0mlong\u001b[0m\u001b[0;34m)\u001b[0m\u001b[0;34m\u001b[0m\u001b[0;34m\u001b[0m\u001b[0m\n\u001b[1;32m     18\u001b[0m \u001b[0;31m# X_test = np.array(X_test)\u001b[0m\u001b[0;34m\u001b[0m\u001b[0;34m\u001b[0m\u001b[0m\n",
      "\u001b[0;31mTypeError\u001b[0m: can't convert np.ndarray of type numpy.object_. The only supported types are: float64, float32, float16, complex64, complex128, int64, int32, int16, int8, uint64, uint32, uint16, uint8, and bool."
     ]
    }
   ],
   "source": [
    "import torch\n",
    "from torch.utils.data import DataLoader, TensorDataset\n",
    "from sklearn.preprocessing import LabelEncoder\n",
    "import torch\n",
    "import torch.nn as nn\n",
    "import torch.optim as optim\n",
    "from sklearn.experimental import enable_halving_search_cv\n",
    "from sklearn.model_selection import HalvingRandomSearchCV\n",
    "from sklearn.preprocessing import StandardScaler\n",
    "from sklearn.datasets import make_classification\n",
    "\n",
    "\n",
    "X_train = torch.tensor(X_train, dtype=torch.float32)\n",
    "y_train = torch.tensor(y_train, dtype=torch.long)\n",
    "X_test = torch.tensor(X_test, dtype=torch.float32)\n",
    "y_test = torch.tensor(y_test, dtype=torch.long)\n",
    "train_dataset = TensorDataset(X_train, y_train)\n",
    "test_dataset = TensorDataset(X_test, y_test)\n",
    "\n",
    "batch_size = 128\n",
    "train_dataloader = DataLoader(train_dataset, batch_size=batch_size, shuffle=True)\n",
    "test_dataloader = DataLoader(test_dataset, batch_size=batch_size, shuffle=True)\n"
   ]
  },
  {
   "cell_type": "markdown",
   "metadata": {},
   "source": [
    "# Функции обучения модели"
   ]
  },
  {
   "cell_type": "code",
   "execution_count": 5,
   "metadata": {
    "execution": {
     "iopub.execute_input": "2025-02-17T15:13:48.239692Z",
     "iopub.status.busy": "2025-02-17T15:13:48.239401Z",
     "iopub.status.idle": "2025-02-17T15:13:48.321930Z",
     "shell.execute_reply": "2025-02-17T15:13:48.321299Z",
     "shell.execute_reply.started": "2025-02-17T15:13:48.239671Z"
    },
    "id": "iBkhW70X2iiw"
   },
   "outputs": [],
   "source": [
    "import torch\n",
    "from torch.utils.data import DataLoader, TensorDataset\n",
    "from sklearn.preprocessing import LabelEncoder\n",
    "import torch.nn as nn\n",
    "import torch.optim as optim\n",
    "from sklearn.experimental import enable_halving_search_cv\n",
    "from sklearn.model_selection import HalvingRandomSearchCV\n",
    "from sklearn.preprocessing import StandardScaler\n",
    "from sklearn.datasets import make_classification\n",
    "\n",
    "\n",
    "class LogisticRegression(nn.Module):\n",
    "    def __init__(self, input_dim, num_classes):\n",
    "        super(LogisticRegression, self).__init__()\n",
    "        self.linear = nn.Linear(input_dim, num_classes)\n",
    "\n",
    "    def forward(self, x):\n",
    "        out = self.linear(x)\n",
    "        return out\n",
    "\n",
    "class MyNetwork(nn.Module):\n",
    "    def __init__(self, input_dim, num_classes):\n",
    "        super(MyNetwork, self).__init__()\n",
    "        self.fc1 = nn.Linear(input_dim, 8192)\n",
    "        self.fc2 = nn.Linear(8192, 4096)\n",
    "        self.fc3 = nn.Linear(4096, 2048)\n",
    "        self.fc4 = nn.Linear(2048, 1024)\n",
    "        self.fc5 = nn.Linear(1024, 512)\n",
    "        self.fc6 = nn.Linear(512, num_classes)\n",
    "\n",
    "    def forward(self, x):\n",
    "        x = torch.relu(self.fc1(x))\n",
    "        x = torch.relu(self.fc2(x))\n",
    "        x = torch.relu(self.fc3(x))\n",
    "        x = torch.relu(self.fc4(x))\n",
    "        x = torch.relu(self.fc5(x))\n",
    "        x = self.fc6(x)\n",
    "        return x"
   ]
  },
  {
   "cell_type": "code",
   "execution_count": 3,
   "metadata": {
    "execution": {
     "iopub.execute_input": "2025-02-17T15:13:33.796594Z",
     "iopub.status.busy": "2025-02-17T15:13:33.796122Z",
     "iopub.status.idle": "2025-02-17T15:13:33.929279Z",
     "shell.execute_reply": "2025-02-17T15:13:33.928458Z",
     "shell.execute_reply.started": "2025-02-17T15:13:33.796562Z"
    }
   },
   "outputs": [],
   "source": [
    "from tqdm.notebook import tqdm\n",
    "from sklearn.metrics import accuracy_score, precision_score, recall_score, f1_score\n",
    "import matplotlib.pyplot as plt\n",
    "\n",
    "def train_single_epoch(model, train_dataloader, val_dataloader, criterion, optimizer, device):\n",
    "    model.train()\n",
    "    train_loss = [0]\n",
    "    val_loss = [0]\n",
    "    val_acc = []\n",
    "    val_recall = []\n",
    "    val_precision = []\n",
    "    val_f1 = []\n",
    "    \n",
    "    avg_loss = 0.0\n",
    "    for ind, (X_batch, y_batch) in enumerate(tqdm(train_dataloader)):\n",
    "        X_batch, y_batch = X_batch.to(device), y_batch.to(device)\n",
    "        y_pred = model(X_batch)\n",
    "        loss = criterion(y_pred, y_batch)\n",
    "        loss.backward()\n",
    "        optimizer.step()\n",
    "        optimizer.zero_grad()\n",
    "        avg_loss += loss.item()\n",
    "        train_loss[ind // 501] += loss.item()\n",
    "        if ind % 500 == 0 and ind != 0:\n",
    "            model.eval()\n",
    "            val_temp_loss, val_temp_acc, val_temp_recall, val_temp_precision, val_temp_f1 = val_single_epoch(model, val_dataloader, criterion, device)\n",
    "            print(\"VALIDATION - batch:\", ind, \"loss:\", val_temp_loss, \"accuracy:\", val_temp_acc, \"recall:\", val_temp_recall, \"precision:\", val_temp_precision, \"f1:\", val_temp_f1)\n",
    "            train_loss.append(0)\n",
    "            val_loss.append(val_temp_loss)\n",
    "            val_acc.append(val_temp_acc)\n",
    "            val_recall.append(val_temp_recall)\n",
    "            val_precision.append(val_temp_precision)\n",
    "            val_f1.append(val_temp_f1)\n",
    "            train_loss[ind // 501] /= (ind - (ind // 501) * 500 + 1)\n",
    "            print(\"ind // 501:\", ind // 501, \"del:\", ind - (ind // 501) * 500 + 1)\n",
    "            print(\"train Loss:\", train_loss[ind // 501])\n",
    "\n",
    "            model.train()\n",
    "\n",
    "\n",
    "    avg_loss = avg_loss/len(train_dataloader)\n",
    "    return model, avg_loss\n",
    "\n",
    "def test_single_epoch(model, test_dataloader, criterion, device):\n",
    "    model.eval()\n",
    "\n",
    "    avg_loss = 0.0\n",
    "    with torch.no_grad():\n",
    "        for X_batch, y_batch in tqdm(test_dataloader):\n",
    "            X_batch, y_batch = X_batch.to(device), y_batch.to(device)\n",
    "            y_pred = model(X_batch)\n",
    "            loss = criterion(y_pred, y_batch)\n",
    "            avg_loss += loss.item()\n",
    "\n",
    "    avg_loss = avg_loss/len(test_dataloader)\n",
    "    return avg_loss\n",
    "\n",
    "def val_single_epoch(model, val_dataloader, criterion, device):\n",
    "    # model.eval()\n",
    "    avg_loss = 0.0\n",
    "    acc = 0.0\n",
    "    f1 = 0.0\n",
    "    recall = 0.0\n",
    "    precision = 0.0\n",
    "    with torch.no_grad():\n",
    "        for X_batch, y_batch in tqdm(val_dataloader):\n",
    "            X_batch, y_batch = X_batch.to(device), y_batch.to(device)\n",
    "            y_pred = model(X_batch)\n",
    "            loss = criterion(y_pred, y_batch)\n",
    "            avg_loss += loss.item()\n",
    "            y_pred = y_pred.argmax(dim=1).cpu().numpy()\n",
    "            y_true = y_batch.cpu().numpy()\n",
    "            acc += accuracy_score(y_true, y_pred)\n",
    "            precision += precision_score(y_true, y_pred, average='weighted', zero_division=0)\n",
    "            recall += recall_score(y_true, y_pred, average='weighted',  zero_division=0)\n",
    "            f1 += f1_score(y_true, y_pred, average=\"weighted\",  zero_division=0)\n",
    "            \n",
    "    avg_loss = avg_loss/len(val_dataloader)\n",
    "    acc /= len(val_dataloader)\n",
    "    precision /= len(val_dataloader)\n",
    "    recall /= len(val_dataloader)\n",
    "    f1 /= len(val_dataloader)\n",
    "    return avg_loss, acc, recall, precision, f1\n",
    "    \n",
    "def train_test_model(model, train_dataloader, test_dataloader, val_dataloader, criterion,\n",
    "                     optimizer, device=\"cuda\", log_freq = 20, num_epochs=100, scheduler=None):\n",
    "    \n",
    "    for epoch in range(num_epochs):\n",
    "        model, train_loss = train_single_epoch(model, train_dataloader, val_dataloader, criterion, optimizer, device)\n",
    "        test_loss = test_single_epoch(model, test_dataloader, criterion, device)\n",
    "        if epoch % log_freq == 0:\n",
    "            print(f\"Epoch {epoch+1}/{num_epochs}, Train Loss: {train_loss:.4f}, Test Loss: {test_loss:.4f}\")\n",
    "        if scheduler != None:\n",
    "            scheduler.step()\n"
   ]
  },
  {
   "cell_type": "code",
   "execution_count": 4,
   "metadata": {
    "execution": {
     "iopub.execute_input": "2025-02-17T15:13:38.095276Z",
     "iopub.status.busy": "2025-02-17T15:13:38.094980Z",
     "iopub.status.idle": "2025-02-17T15:13:38.158507Z",
     "shell.execute_reply": "2025-02-17T15:13:38.157423Z",
     "shell.execute_reply.started": "2025-02-17T15:13:38.095254Z"
    },
    "id": "G6PKQaOVEiqx"
   },
   "outputs": [
    {
     "ename": "NameError",
     "evalue": "name 'X_train' is not defined",
     "output_type": "error",
     "traceback": [
      "\u001b[0;31m---------------------------------------------------------------------------\u001b[0m",
      "\u001b[0;31mNameError\u001b[0m                                 Traceback (most recent call last)",
      "\u001b[0;32m<ipython-input-4-bbb8f57bae67>\u001b[0m in \u001b[0;36m<cell line: 3>\u001b[0;34m()\u001b[0m\n\u001b[1;32m      1\u001b[0m \u001b[0mdevice\u001b[0m \u001b[0;34m=\u001b[0m \u001b[0mtorch\u001b[0m\u001b[0;34m.\u001b[0m\u001b[0mdevice\u001b[0m\u001b[0;34m(\u001b[0m\u001b[0;34m\"cuda\"\u001b[0m \u001b[0;32mif\u001b[0m \u001b[0mtorch\u001b[0m\u001b[0;34m.\u001b[0m\u001b[0mcuda\u001b[0m\u001b[0;34m.\u001b[0m\u001b[0mis_available\u001b[0m\u001b[0;34m(\u001b[0m\u001b[0;34m)\u001b[0m \u001b[0;32melse\u001b[0m \u001b[0;34m\"cpu\"\u001b[0m\u001b[0;34m)\u001b[0m\u001b[0;34m\u001b[0m\u001b[0;34m\u001b[0m\u001b[0m\n\u001b[1;32m      2\u001b[0m \u001b[0;34m\u001b[0m\u001b[0m\n\u001b[0;32m----> 3\u001b[0;31m \u001b[0minput_dim\u001b[0m \u001b[0;34m=\u001b[0m \u001b[0mX_train\u001b[0m\u001b[0;34m.\u001b[0m\u001b[0mshape\u001b[0m\u001b[0;34m[\u001b[0m\u001b[0;36m1\u001b[0m\u001b[0;34m]\u001b[0m\u001b[0;34m\u001b[0m\u001b[0;34m\u001b[0m\u001b[0m\n\u001b[0m\u001b[1;32m      4\u001b[0m \u001b[0mnum_classes\u001b[0m \u001b[0;34m=\u001b[0m \u001b[0mlen\u001b[0m\u001b[0;34m(\u001b[0m\u001b[0mtorch\u001b[0m\u001b[0;34m.\u001b[0m\u001b[0munique\u001b[0m\u001b[0;34m(\u001b[0m\u001b[0my_train\u001b[0m\u001b[0;34m)\u001b[0m\u001b[0;34m)\u001b[0m\u001b[0;34m\u001b[0m\u001b[0;34m\u001b[0m\u001b[0m\n\u001b[1;32m      5\u001b[0m \u001b[0mmodel\u001b[0m \u001b[0;34m=\u001b[0m \u001b[0mLogisticRegression\u001b[0m\u001b[0;34m(\u001b[0m\u001b[0minput_dim\u001b[0m\u001b[0;34m,\u001b[0m \u001b[0mnum_classes\u001b[0m\u001b[0;34m)\u001b[0m\u001b[0;34m\u001b[0m\u001b[0;34m\u001b[0m\u001b[0m\n",
      "\u001b[0;31mNameError\u001b[0m: name 'X_train' is not defined"
     ]
    }
   ],
   "source": [
    "device = torch.device(\"cuda\" if torch.cuda.is_available() else \"cpu\")\n",
    "\n",
    "input_dim = X_train.shape[1]\n",
    "num_classes = len(torch.unique(y_train))\n",
    "model = LogisticRegression(input_dim, num_classes)\n",
    "model.to(device)\n",
    "\n",
    "criterion = nn.CrossEntropyLoss()\n",
    "optimizer = optim.SGD(model.parameters(), lr=0.01)\n",
    "\n",
    "num_epochs = 100\n",
    "\n",
    "\n",
    "\n",
    "for epoch in range(num_epochs):\n",
    "    model, train_loss = train_single_epoch(model, train_dataloader, criterion, optimizer, device)\n",
    "    test_loss = test_single_epoch(model, test_dataloader, criterion, device)\n",
    "    if epoch % 20 == 0:\n",
    "        print(f\"Epoch {epoch+1}/{num_epochs}, Train Loss: {train_loss:.4f}, Test Loss: {test_loss:.4f}\")\n"
   ]
  },
  {
   "cell_type": "code",
   "execution_count": 49,
   "metadata": {
    "colab": {
     "base_uri": "https://localhost:8080/"
    },
    "execution": {
     "iopub.execute_input": "2025-02-07T23:43:00.952213Z",
     "iopub.status.busy": "2025-02-07T23:43:00.951914Z",
     "iopub.status.idle": "2025-02-07T23:43:00.977530Z",
     "shell.execute_reply": "2025-02-07T23:43:00.976840Z",
     "shell.execute_reply.started": "2025-02-07T23:43:00.952181Z"
    },
    "id": "D12UY-Cxzsmr",
    "outputId": "f88c7a9a-02d1-40a5-fa97-f2c58dd7ee63"
   },
   "outputs": [
    {
     "name": "stdout",
     "output_type": "stream",
     "text": [
      "Accuracy: 0.3586\n",
      "Precision: 0.3382\n",
      "Recall: 0.3586\n",
      "F1-score: 0.2853\n"
     ]
    },
    {
     "name": "stderr",
     "output_type": "stream",
     "text": [
      "/usr/local/lib/python3.10/dist-packages/sklearn/metrics/_classification.py:1344: UndefinedMetricWarning: Precision is ill-defined and being set to 0.0 in labels with no predicted samples. Use `zero_division` parameter to control this behavior.\n",
      "  _warn_prf(average, modifier, msg_start, len(result))\n"
     ]
    }
   ],
   "source": [
    "import torch\n",
    "from sklearn.metrics import accuracy_score, precision_score, recall_score, f1_score\n",
    "from sklearn.preprocessing import LabelBinarizer\n",
    "\n",
    "model.eval()\n",
    "with torch.no_grad():\n",
    "    y_pred = model(X_test.to(device))\n",
    "\n",
    "y_pred = y_pred.argmax(dim=1).cpu().numpy()\n",
    "y_true = y_test.cpu().numpy()\n",
    "\n",
    "\n",
    "accuracy = accuracy_score(y_true, y_pred)\n",
    "precision = precision_score(y_true, y_pred, average='weighted') \n",
    "recall = recall_score(y_true, y_pred, average='weighted')\n",
    "f1 = f1_score(y_true, y_pred, average='weighted')\n",
    "\n",
    "print(f\"Accuracy: {accuracy:.4f}\")\n",
    "print(f\"Precision: {precision:.4f}\")\n",
    "print(f\"Recall: {recall:.4f}\")\n",
    "print(f\"F1-score: {f1:.4f}\")"
   ]
  },
  {
   "cell_type": "markdown",
   "metadata": {
    "id": "5_fBiMoqsy7R"
   },
   "source": [
    "### randomforestclassifier"
   ]
  },
  {
   "cell_type": "code",
   "execution_count": 20,
   "metadata": {
    "colab": {
     "base_uri": "https://localhost:8080/"
    },
    "id": "CYE2HBL8vOiT",
    "outputId": "318b6179-1afd-4aba-e091-7fb362a20ed7"
   },
   "outputs": [
    {
     "name": "stdout",
     "output_type": "stream",
     "text": [
      "n_iterations: 4\n",
      "n_required_iterations: 4\n",
      "n_possible_iterations: 4\n",
      "min_resources_: 510\n",
      "max_resources_: 39338\n",
      "aggressive_elimination: False\n",
      "factor: 3\n",
      "----------\n",
      "iter: 0\n",
      "n_candidates: 77\n",
      "n_resources: 510\n",
      "Fitting 5 folds for each of 77 candidates, totalling 385 fits\n",
      "----------\n",
      "iter: 1\n",
      "n_candidates: 26\n",
      "n_resources: 1530\n",
      "Fitting 5 folds for each of 26 candidates, totalling 130 fits\n",
      "----------\n",
      "iter: 2\n",
      "n_candidates: 9\n",
      "n_resources: 4590\n",
      "Fitting 5 folds for each of 9 candidates, totalling 45 fits\n",
      "----------\n",
      "iter: 3\n",
      "n_candidates: 3\n",
      "n_resources: 13770\n",
      "Fitting 5 folds for each of 3 candidates, totalling 15 fits\n",
      "Наилучшие параметры: {'n_estimators': 100, 'min_samples_split': 5, 'min_samples_leaf': 1, 'max_depth': None, 'criterion': 'gini', 'class_weight': None}\n",
      "Наилучшая оценка: 0.8005524573311587\n"
     ]
    }
   ],
   "source": [
    "from sklearn.ensemble import RandomForestClassifier\n",
    "\n",
    "model = RandomForestClassifier()\n",
    "\n",
    "param_grid = {\n",
    "    'n_estimators': [50, 100, 200, 500],\n",
    "    'max_depth': [None, 10, 20, 30, 50],\n",
    "    'min_samples_split': [2, 5, 10, 20],\n",
    "    'min_samples_leaf': [1, 2, 4, 8],\n",
    "    'criterion': ['gini', 'entropy'],\n",
    "    'class_weight': ['balanced', 'balanced_subsample', None]\n",
    "}\n",
    "\n",
    "halving_search = HalvingRandomSearchCV(model, param_grid, cv=5, verbose=1, random_state=42)\n",
    "halving_search.fit(X_train, y_train)\n",
    "\n",
    "print(\"Наилучшие параметры:\", halving_search.best_params_)\n",
    "print(\"Наилучшая оценка:\", halving_search.best_score_)\n",
    "best_model = halving_search.best_estimator_"
   ]
  },
  {
   "cell_type": "code",
   "execution_count": 21,
   "metadata": {
    "id": "OaLgOunsvTyG"
   },
   "outputs": [],
   "source": [
    "import pickle\n",
    "\n",
    "with open('models/random_forest_3.pkl', 'wb') as file:\n",
    "    pickle.dump(best_model, file)"
   ]
  },
  {
   "cell_type": "markdown",
   "metadata": {},
   "source": [
    "## Catboost"
   ]
  },
  {
   "cell_type": "code",
   "execution_count": 8,
   "metadata": {
    "collapsed": true,
    "execution": {
     "iopub.execute_input": "2025-02-13T21:11:48.598342Z",
     "iopub.status.busy": "2025-02-13T21:11:48.597988Z",
     "iopub.status.idle": "2025-02-13T21:11:53.279149Z",
     "shell.execute_reply": "2025-02-13T21:11:53.278039Z",
     "shell.execute_reply.started": "2025-02-13T21:11:48.598319Z"
    },
    "jupyter": {
     "outputs_hidden": true
    }
   },
   "outputs": [
    {
     "name": "stdout",
     "output_type": "stream",
     "text": [
      "Requirement already satisfied: catboost in /usr/local/lib/python3.10/dist-packages (1.2.7)\n",
      "Requirement already satisfied: graphviz in /usr/local/lib/python3.10/dist-packages (from catboost) (0.20.3)\n",
      "Requirement already satisfied: matplotlib in /usr/local/lib/python3.10/dist-packages (from catboost) (3.7.5)\n",
      "Requirement already satisfied: numpy<2.0,>=1.16.0 in /usr/local/lib/python3.10/dist-packages (from catboost) (1.26.4)\n",
      "Requirement already satisfied: pandas>=0.24 in /usr/local/lib/python3.10/dist-packages (from catboost) (2.2.2)\n",
      "Requirement already satisfied: scipy in /usr/local/lib/python3.10/dist-packages (from catboost) (1.13.1)\n",
      "Requirement already satisfied: plotly in /usr/local/lib/python3.10/dist-packages (from catboost) (5.24.1)\n",
      "Requirement already satisfied: six in /usr/local/lib/python3.10/dist-packages (from catboost) (1.17.0)\n",
      "Requirement already satisfied: mkl_fft in /usr/local/lib/python3.10/dist-packages (from numpy<2.0,>=1.16.0->catboost) (1.3.8)\n",
      "Requirement already satisfied: mkl_random in /usr/local/lib/python3.10/dist-packages (from numpy<2.0,>=1.16.0->catboost) (1.2.4)\n",
      "Requirement already satisfied: mkl_umath in /usr/local/lib/python3.10/dist-packages (from numpy<2.0,>=1.16.0->catboost) (0.1.1)\n",
      "Requirement already satisfied: mkl in /usr/local/lib/python3.10/dist-packages (from numpy<2.0,>=1.16.0->catboost) (2025.0.1)\n",
      "Requirement already satisfied: tbb4py in /usr/local/lib/python3.10/dist-packages (from numpy<2.0,>=1.16.0->catboost) (2022.0.0)\n",
      "Requirement already satisfied: mkl-service in /usr/local/lib/python3.10/dist-packages (from numpy<2.0,>=1.16.0->catboost) (2.4.1)\n",
      "Requirement already satisfied: python-dateutil>=2.8.2 in /usr/local/lib/python3.10/dist-packages (from pandas>=0.24->catboost) (2.8.2)\n",
      "Requirement already satisfied: pytz>=2020.1 in /usr/local/lib/python3.10/dist-packages (from pandas>=0.24->catboost) (2024.2)\n",
      "Requirement already satisfied: tzdata>=2022.7 in /usr/local/lib/python3.10/dist-packages (from pandas>=0.24->catboost) (2024.2)\n",
      "Requirement already satisfied: contourpy>=1.0.1 in /usr/local/lib/python3.10/dist-packages (from matplotlib->catboost) (1.3.1)\n",
      "Requirement already satisfied: cycler>=0.10 in /usr/local/lib/python3.10/dist-packages (from matplotlib->catboost) (0.12.1)\n",
      "Requirement already satisfied: fonttools>=4.22.0 in /usr/local/lib/python3.10/dist-packages (from matplotlib->catboost) (4.55.3)\n",
      "Requirement already satisfied: kiwisolver>=1.0.1 in /usr/local/lib/python3.10/dist-packages (from matplotlib->catboost) (1.4.7)\n",
      "Requirement already satisfied: packaging>=20.0 in /usr/local/lib/python3.10/dist-packages (from matplotlib->catboost) (24.2)\n",
      "Requirement already satisfied: pillow>=6.2.0 in /usr/local/lib/python3.10/dist-packages (from matplotlib->catboost) (11.0.0)\n",
      "Requirement already satisfied: pyparsing>=2.3.1 in /usr/local/lib/python3.10/dist-packages (from matplotlib->catboost) (3.2.0)\n",
      "Requirement already satisfied: tenacity>=6.2.0 in /usr/local/lib/python3.10/dist-packages (from plotly->catboost) (9.0.0)\n",
      "Requirement already satisfied: intel-openmp>=2024 in /usr/local/lib/python3.10/dist-packages (from mkl->numpy<2.0,>=1.16.0->catboost) (2024.2.0)\n",
      "Requirement already satisfied: tbb==2022.* in /usr/local/lib/python3.10/dist-packages (from mkl->numpy<2.0,>=1.16.0->catboost) (2022.0.0)\n",
      "Requirement already satisfied: tcmlib==1.* in /usr/local/lib/python3.10/dist-packages (from tbb==2022.*->mkl->numpy<2.0,>=1.16.0->catboost) (1.2.0)\n",
      "Requirement already satisfied: intel-cmplr-lib-rt in /usr/local/lib/python3.10/dist-packages (from mkl_umath->numpy<2.0,>=1.16.0->catboost) (2024.2.0)\n",
      "Requirement already satisfied: intel-cmplr-lib-ur==2024.2.0 in /usr/local/lib/python3.10/dist-packages (from intel-openmp>=2024->mkl->numpy<2.0,>=1.16.0->catboost) (2024.2.0)\n"
     ]
    }
   ],
   "source": [
    "!pip install catboost"
   ]
  },
  {
   "cell_type": "code",
   "execution_count": null,
   "metadata": {
    "collapsed": true,
    "execution": {
     "iopub.execute_input": "2025-02-14T07:17:42.743513Z",
     "iopub.status.busy": "2025-02-14T07:17:42.743223Z"
    },
    "jupyter": {
     "outputs_hidden": true
    }
   },
   "outputs": [
    {
     "name": "stdout",
     "output_type": "stream",
     "text": [
      "0:\tlearn: 0.4378138\ttotal: 669ms\tremaining: 5m 33s\n",
      "100:\tlearn: 0.8202415\ttotal: 48.8s\tremaining: 3m 12s\n",
      "200:\tlearn: 0.8355577\ttotal: 1m 34s\tremaining: 2m 20s\n",
      "300:\tlearn: 0.8453765\ttotal: 2m 19s\tremaining: 1m 32s\n",
      "400:\tlearn: 0.8519225\ttotal: 3m 5s\tremaining: 45.7s\n",
      "499:\tlearn: 0.8582777\ttotal: 3m 50s\tremaining: 0us\n",
      "0:\tlearn: 0.4436289\ttotal: 548ms\tremaining: 4m 33s\n",
      "100:\tlearn: 0.8227836\ttotal: 48.3s\tremaining: 3m 10s\n",
      "200:\tlearn: 0.8374325\ttotal: 1m 34s\tremaining: 2m 19s\n",
      "300:\tlearn: 0.8493168\ttotal: 2m 20s\tremaining: 1m 32s\n",
      "400:\tlearn: 0.8549094\ttotal: 3m 5s\tremaining: 45.8s\n",
      "499:\tlearn: 0.8612647\ttotal: 3m 50s\tremaining: 0us\n",
      "0:\tlearn: 0.4427073\ttotal: 549ms\tremaining: 4m 33s\n",
      "100:\tlearn: 0.8237369\ttotal: 48.3s\tremaining: 3m 10s\n",
      "200:\tlearn: 0.8375596\ttotal: 1m 33s\tremaining: 2m 19s\n",
      "300:\tlearn: 0.8476644\ttotal: 2m 19s\tremaining: 1m 32s\n",
      "400:\tlearn: 0.8536384\ttotal: 3m 4s\tremaining: 45.5s\n",
      "499:\tlearn: 0.8598983\ttotal: 3m 49s\tremaining: 0us\n",
      "0:\tlearn: 0.4376092\ttotal: 554ms\tremaining: 4m 36s\n",
      "300:\tlearn: 0.8443647\ttotal: 2m 20s\tremaining: 1m 33s\n",
      "400:\tlearn: 0.8525627\ttotal: 3m 6s\tremaining: 46.1s\n",
      "499:\tlearn: 0.8590131\ttotal: 3m 51s\tremaining: 0us\n",
      "0:\tlearn: 0.4361158\ttotal: 543ms\tremaining: 4m 31s\n",
      "100:\tlearn: 0.8212640\ttotal: 48.6s\tremaining: 3m 11s\n",
      "200:\tlearn: 0.8367386\ttotal: 1m 34s\tremaining: 2m 20s\n",
      "300:\tlearn: 0.8459852\ttotal: 2m 20s\tremaining: 1m 32s\n",
      "400:\tlearn: 0.8511646\ttotal: 3m 5s\tremaining: 45.9s\n",
      "499:\tlearn: 0.8577420\ttotal: 3m 50s\tremaining: 0us\n",
      "0:\tlearn: 0.4378138\ttotal: 544ms\tremaining: 2m 42s\n",
      "100:\tlearn: 0.8209406\ttotal: 48.2s\tremaining: 1m 35s\n",
      "200:\tlearn: 0.8355895\ttotal: 1m 33s\tremaining: 46.1s\n",
      "299:\tlearn: 0.8454083\ttotal: 2m 18s\tremaining: 0us\n",
      "0:\tlearn: 0.4436289\ttotal: 546ms\tremaining: 2m 43s\n",
      "100:\tlearn: 0.8236098\ttotal: 48.2s\tremaining: 1m 34s\n",
      "200:\tlearn: 0.8392119\ttotal: 1m 33s\tremaining: 46.2s\n",
      "299:\tlearn: 0.8480140\ttotal: 2m 18s\tremaining: 0us\n",
      "0:\tlearn: 0.4427073\ttotal: 555ms\tremaining: 2m 46s\n",
      "100:\tlearn: 0.8212901\ttotal: 48.3s\tremaining: 1m 35s\n",
      "200:\tlearn: 0.8392755\ttotal: 1m 33s\tremaining: 46.2s\n",
      "299:\tlearn: 0.8500477\ttotal: 2m 19s\tremaining: 0us\n",
      "0:\tlearn: 0.4376092\ttotal: 544ms\tremaining: 2m 42s\n",
      "100:\tlearn: 0.8191033\ttotal: 49.3s\tremaining: 1m 37s\n",
      "200:\tlearn: 0.8363891\ttotal: 1m 35s\tremaining: 47s\n",
      "299:\tlearn: 0.8448095\ttotal: 2m 20s\tremaining: 0us\n",
      "0:\tlearn: 0.4361158\ttotal: 544ms\tremaining: 2m 42s\n",
      "100:\tlearn: 0.8221220\ttotal: 48.3s\tremaining: 1m 35s\n",
      "200:\tlearn: 0.8395030\ttotal: 1m 34s\tremaining: 46.4s\n",
      "299:\tlearn: 0.8485272\ttotal: 2m 19s\tremaining: 0us\n",
      "0:\tlearn: 0.4378138\ttotal: 546ms\tremaining: 4m 32s\n",
      "100:\tlearn: 0.7995869\ttotal: 51.2s\tremaining: 3m 22s\n",
      "200:\tlearn: 0.8210677\ttotal: 1m 37s\tremaining: 2m 25s\n",
      "300:\tlearn: 0.8301557\ttotal: 2m 23s\tremaining: 1m 34s\n",
      "400:\tlearn: 0.8371783\ttotal: 3m 9s\tremaining: 46.7s\n",
      "499:\tlearn: 0.8429933\ttotal: 3m 54s\tremaining: 0us\n",
      "0:\tlearn: 0.4436289\ttotal: 551ms\tremaining: 4m 35s\n",
      "100:\tlearn: 0.7996505\ttotal: 51.7s\tremaining: 3m 24s\n"
     ]
    }
   ],
   "source": [
    "from catboost import CatBoostClassifier\n",
    "from sklearn.model_selection import RandomizedSearchCV\n",
    "from scipy.stats import randint as sp_randint\n",
    "import numpy as np\n",
    "\n",
    "X_train, X_test, y_train, y_test, le, tf_idf = TFIDF_vect(texts, df_2['category'], test_size=0.3, stratify=True)\n",
    "\n",
    "\n",
    "params = {\n",
    "    'depth': [4, 5, 7, 8, 10],\n",
    "    'learning_rate': [0.1, 0.2, 0.3],\n",
    "    'iterations': [ 200, 300, 500],\n",
    "    'l2_leaf_reg': [0.5, 1, 2, 2.5, 3]\n",
    "    \n",
    "}\n",
    "\n",
    "model = CatBoostClassifier(\n",
    "    loss_function='MultiClass',\n",
    "    custom_metric=\"F1\",\n",
    "    eval_metric='Accuracy',\n",
    "    random_seed=42,\n",
    "    verbose=100,\n",
    "    task_type=\"GPU\",\n",
    "    devices='0-1'\n",
    ")\n",
    "\n",
    "random_search = RandomizedSearchCV(model, params, n_iter=10, cv=5, scoring='accuracy')\n",
    "random_search.fit(X_train, y_train)\n",
    "\n",
    "y_pred = model.predict(X_test)\n",
    "\n",
    "print(random_search.best_params_)"
   ]
  },
  {
   "cell_type": "code",
   "execution_count": null,
   "metadata": {},
   "outputs": [],
   "source": [
    "from sklearn.metrics import accuracy_score\n",
    "\n",
    "print(accuracy_score(y_pred, y_test))"
   ]
  },
  {
   "cell_type": "markdown",
   "metadata": {},
   "source": [
    "# Большой датасет\n",
    "Обработка"
   ]
  },
  {
   "cell_type": "code",
   "execution_count": 6,
   "metadata": {
    "execution": {
     "iopub.execute_input": "2025-02-17T15:13:53.876887Z",
     "iopub.status.busy": "2025-02-17T15:13:53.876589Z",
     "iopub.status.idle": "2025-02-17T15:15:05.899030Z",
     "shell.execute_reply": "2025-02-17T15:15:05.898198Z",
     "shell.execute_reply.started": "2025-02-17T15:13:53.876864Z"
    }
   },
   "outputs": [
    {
     "data": {
      "text/html": [
       "<div>\n",
       "<style scoped>\n",
       "    .dataframe tbody tr th:only-of-type {\n",
       "        vertical-align: middle;\n",
       "    }\n",
       "\n",
       "    .dataframe tbody tr th {\n",
       "        vertical-align: top;\n",
       "    }\n",
       "\n",
       "    .dataframe thead th {\n",
       "        text-align: right;\n",
       "    }\n",
       "</style>\n",
       "<table border=\"1\" class=\"dataframe\">\n",
       "  <thead>\n",
       "    <tr style=\"text-align: right;\">\n",
       "      <th></th>\n",
       "      <th>title</th>\n",
       "      <th>title_cat</th>\n",
       "      <th>is_drug</th>\n",
       "    </tr>\n",
       "  </thead>\n",
       "  <tbody>\n",
       "    <tr>\n",
       "      <th>0</th>\n",
       "      <td>NaN</td>\n",
       "      <td>NaN</td>\n",
       "      <td>False</td>\n",
       "    </tr>\n",
       "    <tr>\n",
       "      <th>1</th>\n",
       "      <td>\u0011б/л чай \"мелисса,чабрец,фенхель\"успокаив</td>\n",
       "      <td>NaN</td>\n",
       "      <td>False</td>\n",
       "    </tr>\n",
       "    <tr>\n",
       "      <th>2</th>\n",
       "      <td>! Accu-chek перформа глюкометр комплект N 1</td>\n",
       "      <td>NaN</td>\n",
       "      <td>False</td>\n",
       "    </tr>\n",
       "    <tr>\n",
       "      <th>3</th>\n",
       "      <td>! Blend-a-med про эксперт паста зубная отбелив...</td>\n",
       "      <td>БЛЕНД-А-МЕД ЗУБНАЯ ПАСТА ПРО ЭКСПЕРТ КРЕПКИЕ З...</td>\n",
       "      <td>False</td>\n",
       "    </tr>\n",
       "    <tr>\n",
       "      <th>4</th>\n",
       "      <td>! Hartmann cosmos hyd act платырь от ожогов N 3</td>\n",
       "      <td>NaN</td>\n",
       "      <td>False</td>\n",
       "    </tr>\n",
       "  </tbody>\n",
       "</table>\n",
       "</div>"
      ],
      "text/plain": [
       "                                               title  \\\n",
       "0                                                NaN   \n",
       "1          \u0011б/л чай \"мелисса,чабрец,фенхель\"успокаив   \n",
       "2        ! Accu-chek перформа глюкометр комплект N 1   \n",
       "3  ! Blend-a-med про эксперт паста зубная отбелив...   \n",
       "4    ! Hartmann cosmos hyd act платырь от ожогов N 3   \n",
       "\n",
       "                                           title_cat  is_drug  \n",
       "0                                                NaN    False  \n",
       "1                                                NaN    False  \n",
       "2                                                NaN    False  \n",
       "3  БЛЕНД-А-МЕД ЗУБНАЯ ПАСТА ПРО ЭКСПЕРТ КРЕПКИЕ З...    False  \n",
       "4                                                NaN    False  "
      ]
     },
     "execution_count": 6,
     "metadata": {},
     "output_type": "execute_result"
    }
   ],
   "source": [
    "import pandas as pd\n",
    "\n",
    "\n",
    "bdf = pd.read_csv(data_sample, sep=\"\\t\", usecols=[0, 3, 5])\n",
    "\n",
    "bdf.head()"
   ]
  },
  {
   "cell_type": "code",
   "execution_count": 7,
   "metadata": {
    "execution": {
     "iopub.execute_input": "2025-02-17T15:15:05.900248Z",
     "iopub.status.busy": "2025-02-17T15:15:05.899971Z",
     "iopub.status.idle": "2025-02-17T15:15:07.013186Z",
     "shell.execute_reply": "2025-02-17T15:15:07.012432Z",
     "shell.execute_reply.started": "2025-02-17T15:15:05.900225Z"
    }
   },
   "outputs": [
    {
     "data": {
      "text/html": [
       "<div>\n",
       "<style scoped>\n",
       "    .dataframe tbody tr th:only-of-type {\n",
       "        vertical-align: middle;\n",
       "    }\n",
       "\n",
       "    .dataframe tbody tr th {\n",
       "        vertical-align: top;\n",
       "    }\n",
       "\n",
       "    .dataframe thead th {\n",
       "        text-align: right;\n",
       "    }\n",
       "</style>\n",
       "<table border=\"1\" class=\"dataframe\">\n",
       "  <thead>\n",
       "    <tr style=\"text-align: right;\">\n",
       "      <th></th>\n",
       "      <th>title</th>\n",
       "      <th>title_cat</th>\n",
       "    </tr>\n",
       "  </thead>\n",
       "  <tbody>\n",
       "    <tr>\n",
       "      <th>6</th>\n",
       "      <td>! Велвумен капс д/женщин N30</td>\n",
       "      <td>ВЕЛВУМЕН КАПС 1,262 Г №30</td>\n",
       "    </tr>\n",
       "    <tr>\n",
       "      <th>7</th>\n",
       "      <td>! Велвумен капс д/женщин N30</td>\n",
       "      <td>ВЕЛВУМЕН КАПС 1,262 Г №30</td>\n",
       "    </tr>\n",
       "    <tr>\n",
       "      <th>8</th>\n",
       "      <td>! Вечернее дрраже валериана + пустырник n120</td>\n",
       "      <td>ВЕЧЕРНЕЕ ПЛЮС ДРАЖЕ №120 ВАЛЕРИАНА ПУСТЫРНИК</td>\n",
       "    </tr>\n",
       "    <tr>\n",
       "      <th>9</th>\n",
       "      <td>! Вечернее дрраже валериана + пустырник n120</td>\n",
       "      <td>ВЕЧЕРНЕЕ ПЛЮС ДРАЖЕ №120 ВАЛЕРИАНА ПУСТЫРНИК</td>\n",
       "    </tr>\n",
       "    <tr>\n",
       "      <th>14</th>\n",
       "      <td>! Перфектил платинум тб N 60</td>\n",
       "      <td>ПЕРФЕКТИЛ ПЛАТИНУМ ТАБ №60</td>\n",
       "    </tr>\n",
       "  </tbody>\n",
       "</table>\n",
       "</div>"
      ],
      "text/plain": [
       "                                           title  \\\n",
       "6                   ! Велвумен капс д/женщин N30   \n",
       "7                   ! Велвумен капс д/женщин N30   \n",
       "8   ! Вечернее дрраже валериана + пустырник n120   \n",
       "9   ! Вечернее дрраже валериана + пустырник n120   \n",
       "14                  ! Перфектил платинум тб N 60   \n",
       "\n",
       "                                       title_cat  \n",
       "6                      ВЕЛВУМЕН КАПС 1,262 Г №30  \n",
       "7                      ВЕЛВУМЕН КАПС 1,262 Г №30  \n",
       "8   ВЕЧЕРНЕЕ ПЛЮС ДРАЖЕ №120 ВАЛЕРИАНА ПУСТЫРНИК  \n",
       "9   ВЕЧЕРНЕЕ ПЛЮС ДРАЖЕ №120 ВАЛЕРИАНА ПУСТЫРНИК  \n",
       "14                    ПЕРФЕКТИЛ ПЛАТИНУМ ТАБ №60  "
      ]
     },
     "execution_count": 7,
     "metadata": {},
     "output_type": "execute_result"
    }
   ],
   "source": [
    "bdf_2 = bdf[bdf['is_drug'] == True].copy(deep=True)\n",
    "bdf_2.drop('is_drug', inplace=True, axis=1)\n",
    "bdf_2.head(5)"
   ]
  },
  {
   "cell_type": "code",
   "execution_count": 8,
   "metadata": {
    "execution": {
     "iopub.execute_input": "2025-02-17T15:15:07.015020Z",
     "iopub.status.busy": "2025-02-17T15:15:07.014799Z",
     "iopub.status.idle": "2025-02-17T15:15:10.651320Z",
     "shell.execute_reply": "2025-02-17T15:15:10.650454Z",
     "shell.execute_reply.started": "2025-02-17T15:15:07.015001Z"
    }
   },
   "outputs": [
    {
     "name": "stdout",
     "output_type": "stream",
     "text": [
      "mean: 38.88533872112567 std: 15.486427783524716 lower bound: 7.912483154076238 upper_bound: 69.8581942881751\n"
     ]
    },
    {
     "data": {
      "text/plain": [
       "<Axes: >"
      ]
     },
     "execution_count": 8,
     "metadata": {},
     "output_type": "execute_result"
    },
    {
     "data": {
      "image/png": "[encoded data removed]",
      "text/plain": [
       "<Figure size 640x480 with 1 Axes>"
      ]
     },
     "metadata": {},
     "output_type": "display_data"
    }
   ],
   "source": [
    "bdf_2['title_length'] = bdf_2['title'].str.len()\n",
    "std = bdf_2['title_length'].std()\n",
    "mean = bdf_2['title_length'].mean()\n",
    "lower_bound, upper_bound = mean - 2 * std, mean + 2 * std\n",
    "\n",
    "print(\"mean:\", mean, \"std:\", std, \"lower bound:\", lower_bound, \"upper_bound:\", upper_bound)\n",
    "\n",
    "bdf_2 = bdf_2[(bdf_2['title_length'] >= lower_bound) & (bdf_2['title_length'] <= upper_bound)]\n",
    "\n",
    "bdf_2['title_length'].hist()"
   ]
  },
  {
   "cell_type": "code",
   "execution_count": 5,
   "metadata": {
    "execution": {
     "iopub.execute_input": "2025-02-16T13:46:12.637061Z",
     "iopub.status.busy": "2025-02-16T13:46:12.636749Z",
     "iopub.status.idle": "2025-02-16T13:46:12.642082Z",
     "shell.execute_reply": "2025-02-16T13:46:12.641124Z",
     "shell.execute_reply.started": "2025-02-16T13:46:12.637017Z"
    }
   },
   "outputs": [
    {
     "data": {
      "text/plain": [
       "8935447"
      ]
     },
     "execution_count": 5,
     "metadata": {},
     "output_type": "execute_result"
    }
   ],
   "source": [
    "len(bdf_2)"
   ]
  },
  {
   "cell_type": "code",
   "execution_count": 9,
   "metadata": {
    "execution": {
     "iopub.execute_input": "2025-02-17T15:15:10.653201Z",
     "iopub.status.busy": "2025-02-17T15:15:10.652945Z",
     "iopub.status.idle": "2025-02-17T15:15:11.254610Z",
     "shell.execute_reply": "2025-02-17T15:15:11.253744Z",
     "shell.execute_reply.started": "2025-02-17T15:15:10.653178Z"
    }
   },
   "outputs": [
    {
     "name": "stdout",
     "output_type": "stream",
     "text": [
      "17266\n"
     ]
    },
    {
     "data": {
      "text/html": [
       "<div>\n",
       "<style scoped>\n",
       "    .dataframe tbody tr th:only-of-type {\n",
       "        vertical-align: middle;\n",
       "    }\n",
       "\n",
       "    .dataframe tbody tr th {\n",
       "        vertical-align: top;\n",
       "    }\n",
       "\n",
       "    .dataframe thead th {\n",
       "        text-align: right;\n",
       "    }\n",
       "</style>\n",
       "<table border=\"1\" class=\"dataframe\">\n",
       "  <thead>\n",
       "    <tr style=\"text-align: right;\">\n",
       "      <th></th>\n",
       "      <th>title_cat</th>\n",
       "      <th>count</th>\n",
       "    </tr>\n",
       "  </thead>\n",
       "  <tbody>\n",
       "    <tr>\n",
       "      <th>0</th>\n",
       "      <td>НИМЕСИЛ ГРАН 100 МГ (2 Г) №30</td>\n",
       "      <td>13082</td>\n",
       "    </tr>\n",
       "    <tr>\n",
       "      <th>1</th>\n",
       "      <td>АТОРВАСТАТИН ТАБ 20 МГ №30</td>\n",
       "      <td>12162</td>\n",
       "    </tr>\n",
       "    <tr>\n",
       "      <th>2</th>\n",
       "      <td>АМЛОДИПИН ТАБ 5 МГ №30</td>\n",
       "      <td>11421</td>\n",
       "    </tr>\n",
       "    <tr>\n",
       "      <th>3</th>\n",
       "      <td>АМЛОДИПИН ТАБ 10 МГ №30</td>\n",
       "      <td>11063</td>\n",
       "    </tr>\n",
       "    <tr>\n",
       "      <th>4</th>\n",
       "      <td>ЦЕФТРИАКСОН ПОР 1 Г №1</td>\n",
       "      <td>10817</td>\n",
       "    </tr>\n",
       "  </tbody>\n",
       "</table>\n",
       "</div>"
      ],
      "text/plain": [
       "                       title_cat  count\n",
       "0  НИМЕСИЛ ГРАН 100 МГ (2 Г) №30  13082\n",
       "1     АТОРВАСТАТИН ТАБ 20 МГ №30  12162\n",
       "2         АМЛОДИПИН ТАБ 5 МГ №30  11421\n",
       "3        АМЛОДИПИН ТАБ 10 МГ №30  11063\n",
       "4         ЦЕФТРИАКСОН ПОР 1 Г №1  10817"
      ]
     },
     "execution_count": 9,
     "metadata": {},
     "output_type": "execute_result"
    }
   ],
   "source": [
    "cat_count = bdf_2['title_cat'].value_counts().reset_index()\n",
    "print(len(cat_count))\n",
    "cat_count.head(5)"
   ]
  },
  {
   "cell_type": "code",
   "execution_count": 7,
   "metadata": {
    "execution": {
     "iopub.execute_input": "2025-02-16T13:46:17.612704Z",
     "iopub.status.busy": "2025-02-16T13:46:17.612431Z",
     "iopub.status.idle": "2025-02-16T13:46:17.620112Z",
     "shell.execute_reply": "2025-02-16T13:46:17.619244Z",
     "shell.execute_reply.started": "2025-02-16T13:46:17.612683Z"
    }
   },
   "outputs": [
    {
     "data": {
      "text/html": [
       "<div>\n",
       "<style scoped>\n",
       "    .dataframe tbody tr th:only-of-type {\n",
       "        vertical-align: middle;\n",
       "    }\n",
       "\n",
       "    .dataframe tbody tr th {\n",
       "        vertical-align: top;\n",
       "    }\n",
       "\n",
       "    .dataframe thead th {\n",
       "        text-align: right;\n",
       "    }\n",
       "</style>\n",
       "<table border=\"1\" class=\"dataframe\">\n",
       "  <thead>\n",
       "    <tr style=\"text-align: right;\">\n",
       "      <th></th>\n",
       "      <th>title_cat</th>\n",
       "      <th>count</th>\n",
       "    </tr>\n",
       "  </thead>\n",
       "  <tbody>\n",
       "    <tr>\n",
       "      <th>17261</th>\n",
       "      <td>МААЛОКС ЖЕВ ТАБ 400 МГ №40 БЕЗ САХАРА ЛИМОН</td>\n",
       "      <td>1</td>\n",
       "    </tr>\n",
       "    <tr>\n",
       "      <th>17262</th>\n",
       "      <td>АТЕРОКЛЕФИТ ЧАЙ 2 Г №20</td>\n",
       "      <td>1</td>\n",
       "    </tr>\n",
       "    <tr>\n",
       "      <th>17263</th>\n",
       "      <td>ЛЮТЕИН ФОРТЕ ТАБ №100 ЧЕРНИКА</td>\n",
       "      <td>1</td>\n",
       "    </tr>\n",
       "    <tr>\n",
       "      <th>17264</th>\n",
       "      <td>АСКОРБИНОВАЯ ТАБ 25 МГ 2,9 Г №10 ЧЕРНИКА</td>\n",
       "      <td>1</td>\n",
       "    </tr>\n",
       "    <tr>\n",
       "      <th>17265</th>\n",
       "      <td>ЭМОЦИВИТ КАПС 440 МГ №30</td>\n",
       "      <td>1</td>\n",
       "    </tr>\n",
       "  </tbody>\n",
       "</table>\n",
       "</div>"
      ],
      "text/plain": [
       "                                         title_cat  count\n",
       "17261  МААЛОКС ЖЕВ ТАБ 400 МГ №40 БЕЗ САХАРА ЛИМОН      1\n",
       "17262                      АТЕРОКЛЕФИТ ЧАЙ 2 Г №20      1\n",
       "17263                ЛЮТЕИН ФОРТЕ ТАБ №100 ЧЕРНИКА      1\n",
       "17264     АСКОРБИНОВАЯ ТАБ 25 МГ 2,9 Г №10 ЧЕРНИКА      1\n",
       "17265                     ЭМОЦИВИТ КАПС 440 МГ №30      1"
      ]
     },
     "execution_count": 7,
     "metadata": {},
     "output_type": "execute_result"
    }
   ],
   "source": [
    "cat_count.tail(5)"
   ]
  },
  {
   "cell_type": "code",
   "execution_count": 19,
   "metadata": {
    "execution": {
     "iopub.execute_input": "2025-02-16T13:50:25.419505Z",
     "iopub.status.busy": "2025-02-16T13:50:25.419235Z",
     "iopub.status.idle": "2025-02-16T13:50:25.426710Z",
     "shell.execute_reply": "2025-02-16T13:50:25.425969Z",
     "shell.execute_reply.started": "2025-02-16T13:50:25.419485Z"
    }
   },
   "outputs": [
    {
     "name": "stdout",
     "output_type": "stream",
     "text": [
      "len: 7873 mean: 517.5169118498784\n"
     ]
    }
   ],
   "source": [
    "print(\"len:\", len(cat_count[cat_count['count'] < 150]), 'mean:', cat_count['count'].mean())\n"
   ]
  },
  {
   "cell_type": "code",
   "execution_count": 15,
   "metadata": {
    "execution": {
     "iopub.execute_input": "2025-02-16T13:49:10.627368Z",
     "iopub.status.busy": "2025-02-16T13:49:10.627043Z",
     "iopub.status.idle": "2025-02-16T13:49:10.802664Z",
     "shell.execute_reply": "2025-02-16T13:49:10.801730Z",
     "shell.execute_reply.started": "2025-02-16T13:49:10.627341Z"
    }
   },
   "outputs": [
    {
     "data": {
      "text/plain": [
       "<Axes: >"
      ]
     },
     "execution_count": 15,
     "metadata": {},
     "output_type": "execute_result"
    },
    {
     "data": {
      "image/png": "[encoded data removed]",
      "text/plain": [
       "<Figure size 640x480 with 1 Axes>"
      ]
     },
     "metadata": {},
     "output_type": "display_data"
    }
   ],
   "source": [
    "cat_count[cat_count['count'] < float('inf')]['count'].hist()"
   ]
  },
  {
   "cell_type": "code",
   "execution_count": 59,
   "metadata": {
    "execution": {
     "iopub.execute_input": "2025-02-15T08:01:48.119181Z",
     "iopub.status.busy": "2025-02-15T08:01:48.118815Z",
     "iopub.status.idle": "2025-02-15T08:01:48.127089Z",
     "shell.execute_reply": "2025-02-15T08:01:48.126400Z",
     "shell.execute_reply.started": "2025-02-15T08:01:48.119148Z"
    }
   },
   "outputs": [
    {
     "data": {
      "text/plain": [
       "14595"
      ]
     },
     "execution_count": 59,
     "metadata": {},
     "output_type": "execute_result"
    }
   ],
   "source": [
    "len(cat_count[cat_count['count'] < 1000])"
   ]
  },
  {
   "cell_type": "code",
   "execution_count": 58,
   "metadata": {
    "execution": {
     "iopub.execute_input": "2025-02-15T08:01:41.901807Z",
     "iopub.status.busy": "2025-02-15T08:01:41.901508Z",
     "iopub.status.idle": "2025-02-15T08:01:42.586545Z",
     "shell.execute_reply": "2025-02-15T08:01:42.585570Z",
     "shell.execute_reply.started": "2025-02-15T08:01:41.901783Z"
    }
   },
   "outputs": [
    {
     "name": "stdout",
     "output_type": "stream",
     "text": [
      "categories:  17266\n"
     ]
    }
   ],
   "source": [
    "print(\"categories: \",len(set(bdf_2['title_cat'])))"
   ]
  },
  {
   "cell_type": "markdown",
   "metadata": {},
   "source": [
    "Попробую отрезать классы с очень малым числом примеров, сделаем порог в 1000"
   ]
  },
  {
   "cell_type": "code",
   "execution_count": 12,
   "metadata": {
    "execution": {
     "iopub.execute_input": "2025-02-14T10:17:11.735622Z",
     "iopub.status.busy": "2025-02-14T10:17:11.735292Z",
     "iopub.status.idle": "2025-02-14T10:17:11.749365Z",
     "shell.execute_reply": "2025-02-14T10:17:11.748335Z",
     "shell.execute_reply.started": "2025-02-14T10:17:11.735598Z"
    }
   },
   "outputs": [
    {
     "name": "stdout",
     "output_type": "stream",
     "text": [
      "<class 'pandas.core.frame.DataFrame'>\n",
      "Index: 9361905 entries, 6 to 21376725\n",
      "Data columns (total 3 columns):\n",
      " #   Column     Dtype \n",
      "---  ------     ----- \n",
      " 0   title      object\n",
      " 1   title_cat  object\n",
      " 2   is_drug    bool  \n",
      "dtypes: bool(1), object(2)\n",
      "memory usage: 223.2+ MB\n"
     ]
    }
   ],
   "source": [
    "bdf_2.info()"
   ]
  },
  {
   "cell_type": "code",
   "execution_count": 10,
   "metadata": {
    "execution": {
     "iopub.execute_input": "2025-02-17T15:15:11.255864Z",
     "iopub.status.busy": "2025-02-17T15:15:11.255571Z",
     "iopub.status.idle": "2025-02-17T15:15:13.430129Z",
     "shell.execute_reply": "2025-02-17T15:15:13.429363Z",
     "shell.execute_reply.started": "2025-02-17T15:15:11.255841Z"
    }
   },
   "outputs": [
    {
     "name": "stdout",
     "output_type": "stream",
     "text": [
      "categories:  2670\n"
     ]
    }
   ],
   "source": [
    "cat_count_2 = cat_count[cat_count['count'] > 1000].copy(deep=True)\n",
    "bdf_3 = pd.merge(cat_count_2, bdf_2, how='inner', on='title_cat')\n",
    "bdf_3.head()\n",
    "print(\"categories: \",len(set(bdf_3['title_cat'])))"
   ]
  },
  {
   "cell_type": "code",
   "execution_count": 83,
   "metadata": {
    "execution": {
     "iopub.execute_input": "2025-02-16T17:50:44.565390Z",
     "iopub.status.busy": "2025-02-16T17:50:44.564966Z",
     "iopub.status.idle": "2025-02-16T17:50:44.570930Z",
     "shell.execute_reply": "2025-02-16T17:50:44.569845Z",
     "shell.execute_reply.started": "2025-02-16T17:50:44.565357Z"
    }
   },
   "outputs": [
    {
     "data": {
      "text/plain": [
       "5515630"
      ]
     },
     "execution_count": 83,
     "metadata": {},
     "output_type": "execute_result"
    }
   ],
   "source": [
    "len(bdf_3)"
   ]
  },
  {
   "cell_type": "markdown",
   "metadata": {},
   "source": [
    "Обработка текстов"
   ]
  },
  {
   "cell_type": "code",
   "execution_count": 14,
   "metadata": {
    "execution": {
     "iopub.execute_input": "2025-02-16T15:20:18.753602Z",
     "iopub.status.busy": "2025-02-16T15:20:18.752999Z",
     "iopub.status.idle": "2025-02-16T16:17:01.590365Z",
     "shell.execute_reply": "2025-02-16T16:17:01.589422Z",
     "shell.execute_reply.started": "2025-02-16T15:20:18.753553Z"
    }
   },
   "outputs": [
    {
     "data": {
      "application/vnd.jupyter.widget-view+json": {
       "model_id": "2be4ffe37a424efc8a3b74097b689a1d",
       "version_major": 2,
       "version_minor": 0
      },
      "text/plain": [
       "  0%|          | 0/5515630 [00:00<?, ?it/s]"
      ]
     },
     "metadata": {},
     "output_type": "display_data"
    }
   ],
   "source": [
    "texts = preproc(list(bdf_3['title']))"
   ]
  },
  {
   "cell_type": "markdown",
   "metadata": {},
   "source": [
    "### сохраним промежуточный этап"
   ]
  },
  {
   "cell_type": "code",
   "execution_count": 15,
   "metadata": {
    "execution": {
     "iopub.execute_input": "2025-02-16T16:17:01.592560Z",
     "iopub.status.busy": "2025-02-16T16:17:01.592231Z",
     "iopub.status.idle": "2025-02-16T16:17:07.448474Z",
     "shell.execute_reply": "2025-02-16T16:17:07.447485Z",
     "shell.execute_reply.started": "2025-02-16T16:17:01.592524Z"
    }
   },
   "outputs": [],
   "source": [
    "import csv\n",
    "with open(\"out_text.tsv\", 'w', encoding='utf-8') as f:\n",
    "    for text in texts:\n",
    "        f.write(f\"{text}\\n\")"
   ]
  },
  {
   "cell_type": "code",
   "execution_count": 54,
   "metadata": {
    "execution": {
     "iopub.execute_input": "2025-02-15T07:46:25.790616Z",
     "iopub.status.busy": "2025-02-15T07:46:25.790315Z",
     "iopub.status.idle": "2025-02-15T07:46:25.884996Z",
     "shell.execute_reply": "2025-02-15T07:46:25.884198Z",
     "shell.execute_reply.started": "2025-02-15T07:46:25.790593Z"
    }
   },
   "outputs": [
    {
     "data": {
      "text/html": [
       "<div>\n",
       "<style scoped>\n",
       "    .dataframe tbody tr th:only-of-type {\n",
       "        vertical-align: middle;\n",
       "    }\n",
       "\n",
       "    .dataframe tbody tr th {\n",
       "        vertical-align: top;\n",
       "    }\n",
       "\n",
       "    .dataframe thead th {\n",
       "        text-align: right;\n",
       "    }\n",
       "</style>\n",
       "<table border=\"1\" class=\"dataframe\">\n",
       "  <thead>\n",
       "    <tr style=\"text-align: right;\">\n",
       "      <th></th>\n",
       "      <th>title_length</th>\n",
       "      <th>count</th>\n",
       "    </tr>\n",
       "  </thead>\n",
       "  <tbody>\n",
       "    <tr>\n",
       "      <th>0</th>\n",
       "      <td>32.0</td>\n",
       "      <td>441422</td>\n",
       "    </tr>\n",
       "    <tr>\n",
       "      <th>1</th>\n",
       "      <td>36.0</td>\n",
       "      <td>345943</td>\n",
       "    </tr>\n",
       "    <tr>\n",
       "      <th>2</th>\n",
       "      <td>30.0</td>\n",
       "      <td>317484</td>\n",
       "    </tr>\n",
       "    <tr>\n",
       "      <th>3</th>\n",
       "      <td>31.0</td>\n",
       "      <td>309243</td>\n",
       "    </tr>\n",
       "    <tr>\n",
       "      <th>4</th>\n",
       "      <td>29.0</td>\n",
       "      <td>283296</td>\n",
       "    </tr>\n",
       "  </tbody>\n",
       "</table>\n",
       "</div>"
      ],
      "text/plain": [
       "   title_length   count\n",
       "0          32.0  441422\n",
       "1          36.0  345943\n",
       "2          30.0  317484\n",
       "3          31.0  309243\n",
       "4          29.0  283296"
      ]
     },
     "execution_count": 54,
     "metadata": {},
     "output_type": "execute_result"
    }
   ],
   "source": [
    "title_len_cnt = bdf_2['title_length'].value_counts().reset_index()\n",
    "title_len_cnt.head() "
   ]
  },
  {
   "cell_type": "code",
   "execution_count": 55,
   "metadata": {
    "execution": {
     "iopub.execute_input": "2025-02-15T07:46:27.269533Z",
     "iopub.status.busy": "2025-02-15T07:46:27.269251Z",
     "iopub.status.idle": "2025-02-15T07:46:27.434222Z",
     "shell.execute_reply": "2025-02-15T07:46:27.433426Z",
     "shell.execute_reply.started": "2025-02-15T07:46:27.269513Z"
    }
   },
   "outputs": [
    {
     "data": {
      "text/plain": [
       "<Axes: xlabel='title_length'>"
      ]
     },
     "execution_count": 55,
     "metadata": {},
     "output_type": "execute_result"
    },
    {
     "data": {
      "image/png": "[encoded data removed]",
      "text/plain": [
       "<Figure size 640x480 with 1 Axes>"
      ]
     },
     "metadata": {},
     "output_type": "display_data"
    }
   ],
   "source": [
    "import matplotlib.pyplot as plt\n",
    "\n",
    "title_len_cnt.sort_values(by='title_length').plot(x='title_length', y='count')\n"
   ]
  },
  {
   "cell_type": "code",
   "execution_count": 26,
   "metadata": {
    "execution": {
     "iopub.execute_input": "2025-02-15T07:24:24.404210Z",
     "iopub.status.busy": "2025-02-15T07:24:24.403792Z",
     "iopub.status.idle": "2025-02-15T07:24:24.561114Z",
     "shell.execute_reply": "2025-02-15T07:24:24.560455Z",
     "shell.execute_reply.started": "2025-02-15T07:24:24.404185Z"
    }
   },
   "outputs": [
    {
     "name": "stdout",
     "output_type": "stream",
     "text": [
      "mean: 111.29223744292237 std: 65.53860466117804 lower bound: -19.784971879433712 upper_bound: 176.8308421041004\n"
     ]
    },
    {
     "data": {
      "image/png": "[encoded data removed]",
      "text/plain": [
       "<Figure size 640x480 with 1 Axes>"
      ]
     },
     "metadata": {},
     "output_type": "display_data"
    },
    {
     "data": {
      "text/plain": [
       "<Figure size 2400x3200 with 0 Axes>"
      ]
     },
     "metadata": {},
     "output_type": "display_data"
    }
   ],
   "source": [
    "import matplotlib.pyplot as plt\n",
    "\n",
    "mean = title_len_cnt['title_length'].mean()\n",
    "std = title_len_cnt['title_length'].std()\n",
    "lower_bound, upper_bound = mean - 2 * std, mean + 1 * std\n",
    "print(\"mean:\", mean, \"std:\", std, \"lower bound:\", lower_bound, \"upper_bound:\", upper_bound)\n",
    "\n",
    "plt.figure(figsize=(24, 32))\n",
    "plt.show()"
   ]
  },
  {
   "cell_type": "code",
   "execution_count": 27,
   "metadata": {
    "execution": {
     "iopub.execute_input": "2025-02-15T07:25:43.157465Z",
     "iopub.status.busy": "2025-02-15T07:25:43.157124Z",
     "iopub.status.idle": "2025-02-15T07:25:43.169226Z",
     "shell.execute_reply": "2025-02-15T07:25:43.168428Z",
     "shell.execute_reply.started": "2025-02-15T07:25:43.157438Z"
    }
   },
   "outputs": [
    {
     "name": "stderr",
     "output_type": "stream",
     "text": [
      "/usr/local/lib/python3.10/dist-packages/pandas/io/formats/format.py:1458: RuntimeWarning: invalid value encountered in greater\n",
      "  has_large_values = (abs_vals > 1e6).any()\n",
      "/usr/local/lib/python3.10/dist-packages/pandas/io/formats/format.py:1459: RuntimeWarning: invalid value encountered in less\n",
      "  has_small_values = ((abs_vals < 10 ** (-self.digits)) & (abs_vals > 0)).any()\n",
      "/usr/local/lib/python3.10/dist-packages/pandas/io/formats/format.py:1459: RuntimeWarning: invalid value encountered in greater\n",
      "  has_small_values = ((abs_vals < 10 ** (-self.digits)) & (abs_vals > 0)).any()\n"
     ]
    },
    {
     "data": {
      "text/html": [
       "<div>\n",
       "<style scoped>\n",
       "    .dataframe tbody tr th:only-of-type {\n",
       "        vertical-align: middle;\n",
       "    }\n",
       "\n",
       "    .dataframe tbody tr th {\n",
       "        vertical-align: top;\n",
       "    }\n",
       "\n",
       "    .dataframe thead th {\n",
       "        text-align: right;\n",
       "    }\n",
       "</style>\n",
       "<table border=\"1\" class=\"dataframe\">\n",
       "  <thead>\n",
       "    <tr style=\"text-align: right;\">\n",
       "      <th></th>\n",
       "      <th>title</th>\n",
       "      <th>title_cat</th>\n",
       "      <th>is_drug</th>\n",
       "      <th>title_length</th>\n",
       "    </tr>\n",
       "  </thead>\n",
       "  <tbody>\n",
       "    <tr>\n",
       "      <th>0</th>\n",
       "      <td>NaN</td>\n",
       "      <td>NaN</td>\n",
       "      <td>False</td>\n",
       "      <td>NaN</td>\n",
       "    </tr>\n",
       "    <tr>\n",
       "      <th>1</th>\n",
       "      <td>\u0011б/л чай \"мелисса,чабрец,фенхель\"успокаив</td>\n",
       "      <td>NaN</td>\n",
       "      <td>False</td>\n",
       "      <td>41.0</td>\n",
       "    </tr>\n",
       "    <tr>\n",
       "      <th>2</th>\n",
       "      <td>! Accu-chek перформа глюкометр комплект N 1</td>\n",
       "      <td>NaN</td>\n",
       "      <td>False</td>\n",
       "      <td>43.0</td>\n",
       "    </tr>\n",
       "    <tr>\n",
       "      <th>3</th>\n",
       "      <td>! Blend-a-med про эксперт паста зубная отбелив...</td>\n",
       "      <td>БЛЕНД-А-МЕД ЗУБНАЯ ПАСТА ПРО ЭКСПЕРТ КРЕПКИЕ З...</td>\n",
       "      <td>False</td>\n",
       "      <td>72.0</td>\n",
       "    </tr>\n",
       "    <tr>\n",
       "      <th>4</th>\n",
       "      <td>! Hartmann cosmos hyd act платырь от ожогов N 3</td>\n",
       "      <td>NaN</td>\n",
       "      <td>False</td>\n",
       "      <td>47.0</td>\n",
       "    </tr>\n",
       "  </tbody>\n",
       "</table>\n",
       "</div>"
      ],
      "text/plain": [
       "                                               title  \\\n",
       "0                                                NaN   \n",
       "1          \u0011б/л чай \"мелисса,чабрец,фенхель\"успокаив   \n",
       "2        ! Accu-chek перформа глюкометр комплект N 1   \n",
       "3  ! Blend-a-med про эксперт паста зубная отбелив...   \n",
       "4    ! Hartmann cosmos hyd act платырь от ожогов N 3   \n",
       "\n",
       "                                           title_cat  is_drug  title_length  \n",
       "0                                                NaN    False           NaN  \n",
       "1                                                NaN    False          41.0  \n",
       "2                                                NaN    False          43.0  \n",
       "3  БЛЕНД-А-МЕД ЗУБНАЯ ПАСТА ПРО ЭКСПЕРТ КРЕПКИЕ З...    False          72.0  \n",
       "4                                                NaN    False          47.0  "
      ]
     },
     "execution_count": 27,
     "metadata": {},
     "output_type": "execute_result"
    }
   ],
   "source": [
    "bdf.head()"
   ]
  },
  {
   "cell_type": "markdown",
   "metadata": {},
   "source": [
    "### read tsv\n",
    "чтение заранее обработанных текстов"
   ]
  },
  {
   "cell_type": "code",
   "execution_count": 11,
   "metadata": {
    "execution": {
     "iopub.execute_input": "2025-02-17T15:15:13.431139Z",
     "iopub.status.busy": "2025-02-17T15:15:13.430914Z",
     "iopub.status.idle": "2025-02-17T15:15:20.537452Z",
     "shell.execute_reply": "2025-02-17T15:15:20.536605Z",
     "shell.execute_reply.started": "2025-02-17T15:15:13.431110Z"
    }
   },
   "outputs": [
    {
     "data": {
      "text/plain": [
       "5515630"
      ]
     },
     "execution_count": 11,
     "metadata": {},
     "output_type": "execute_result"
    }
   ],
   "source": [
    "import csv\n",
    "\n",
    "with open('out_text.tsv', 'r', encoding='utf-8') as file:\n",
    "    content = file.read()\n",
    "    print(content)\n",
    "print(len(texts), len(bdf_3['title_cat']))"
   ]
  },
  {
   "cell_type": "markdown",
   "metadata": {},
   "source": [
    "векторизация текстов и создаение dataloaders"
   ]
  },
  {
   "cell_type": "code",
   "execution_count": 12,
   "metadata": {
    "execution": {
     "iopub.execute_input": "2025-02-17T15:15:20.538699Z",
     "iopub.status.busy": "2025-02-17T15:15:20.538358Z",
     "iopub.status.idle": "2025-02-17T15:16:07.656134Z",
     "shell.execute_reply": "2025-02-17T15:16:07.655216Z",
     "shell.execute_reply.started": "2025-02-17T15:15:20.538675Z"
    }
   },
   "outputs": [
    {
     "name": "stdout",
     "output_type": "stream",
     "text": [
      "start: 15:15:20\n",
      "X_train starting...\n",
      "input dim: 5000\n",
      "end: 15:16:07\n",
      "delta: 0:00:47.112268\n"
     ]
    }
   ],
   "source": [
    "from datetime import datetime\n",
    "\n",
    "start = datetime.now()\n",
    "print(\"start:\", start.strftime(\"%H:%M:%S\"))\n",
    "train_dataloader, test_dataloader, val_dataloader, le, tf_idf_vect, input_dim = TFIDF_vect(texts, bdf_3['title_cat'])\n",
    "end = datetime.now()\n",
    "print(\"end:\", end.strftime(\"%H:%M:%S\"))\n",
    "print(\"delta:\", end - start)"
   ]
  },
  {
   "cell_type": "markdown",
   "metadata": {},
   "source": [
    "## PCA"
   ]
  },
  {
   "cell_type": "code",
   "execution_count": 33,
   "metadata": {
    "execution": {
     "iopub.execute_input": "2025-02-16T19:47:02.954471Z",
     "iopub.status.busy": "2025-02-16T19:47:02.954158Z",
     "iopub.status.idle": "2025-02-16T19:47:03.050172Z",
     "shell.execute_reply": "2025-02-16T19:47:03.048978Z",
     "shell.execute_reply.started": "2025-02-16T19:47:02.954437Z"
    }
   },
   "outputs": [
    {
     "ename": "NameError",
     "evalue": "name 'TFIDF_vect_lite' is not defined",
     "output_type": "error",
     "traceback": [
      "\u001b[0;31m---------------------------------------------------------------------------\u001b[0m",
      "\u001b[0;31mNameError\u001b[0m                                 Traceback (most recent call last)",
      "\u001b[0;32m<ipython-input-33-9025b7da5d92>\u001b[0m in \u001b[0;36m<cell line: 7>\u001b[0;34m()\u001b[0m\n\u001b[1;32m      5\u001b[0m \u001b[0;32mfrom\u001b[0m \u001b[0msklearn\u001b[0m\u001b[0;34m.\u001b[0m\u001b[0mlinear_model\u001b[0m \u001b[0;32mimport\u001b[0m \u001b[0mLogisticRegression\u001b[0m\u001b[0;34m\u001b[0m\u001b[0;34m\u001b[0m\u001b[0m\n\u001b[1;32m      6\u001b[0m \u001b[0;34m\u001b[0m\u001b[0m\n\u001b[0;32m----> 7\u001b[0;31m \u001b[0mX_train\u001b[0m\u001b[0;34m,\u001b[0m \u001b[0my_train\u001b[0m\u001b[0;34m,\u001b[0m \u001b[0mX_test\u001b[0m\u001b[0;34m,\u001b[0m \u001b[0my_test\u001b[0m\u001b[0;34m,\u001b[0m \u001b[0mle\u001b[0m\u001b[0;34m,\u001b[0m \u001b[0mtfifd\u001b[0m \u001b[0;34m=\u001b[0m \u001b[0mTFIDF_vect_lite\u001b[0m\u001b[0;34m(\u001b[0m\u001b[0mtexts\u001b[0m\u001b[0;34m,\u001b[0m \u001b[0mbdf_3\u001b[0m\u001b[0;34m[\u001b[0m\u001b[0;34m'title_cat'\u001b[0m\u001b[0;34m]\u001b[0m\u001b[0;34m)\u001b[0m\u001b[0;34m\u001b[0m\u001b[0;34m\u001b[0m\u001b[0m\n\u001b[0m\u001b[1;32m      8\u001b[0m \u001b[0;34m\u001b[0m\u001b[0m\n\u001b[1;32m      9\u001b[0m \u001b[0mclassifier\u001b[0m \u001b[0;34m=\u001b[0m \u001b[0mMultinomialNB\u001b[0m\u001b[0;34m(\u001b[0m\u001b[0;34m)\u001b[0m\u001b[0;34m\u001b[0m\u001b[0;34m\u001b[0m\u001b[0m\n",
      "\u001b[0;31mNameError\u001b[0m: name 'TFIDF_vect_lite' is not defined"
     ]
    }
   ],
   "source": [
    "from sklearn.model_selection import train_test_split\n",
    "from sklearn.naive_bayes import MultinomialNB\n",
    "from sklearn.metrics import accuracy_score\n",
    "from sklearn.feature_extraction.text import TfidfVectorizer\n",
    "from sklearn.linear_model import LogisticRegression\n",
    "\n",
    "X_train, y_train, X_test, y_test, le, tfifd = TFIDF_vect_lite(texts, bdf_3['title_cat'])\n",
    "\n",
    "classifier = MultinomialNB()\n",
    "classifier.fit(X_train, y_train)\n",
    "\n",
    "y_pred = classifier.predict(X_test)\n",
    "\n",
    "print(\"balanced accuracy:\")\n",
    "print(balanced_accuracy_score(y_pred, y_test))\n",
    "print(\"precion: \")\n",
    "print(precision_score(y_pred, y_test, average='macro'))\n",
    "print(\"recall: \")\n",
    "print(recall_score(y_pred, y_test, average='macro'))\n",
    "print(\"f1: \")\n",
    "print(f1_score(y_pred, y_test, average='macro'))\n",
    "print(\"accuracy: \")\n",
    "print(accuracy_score(y_pred, y_test))\n",
    "\n",
    "print(\"logic_regression:\")\n",
    "model = LogisticRegression(max_iter=200)\n",
    "model.fit(X_train, y_train)\n",
    "\n",
    "y_pred = model.predict(X_test)\n",
    "print(\"balanced accuracy:\")\n",
    "print(balanced_accuracy_score(y_pred, y_test))\n",
    "print(\"precion: \")\n",
    "print(precision_score(y_pred, y_test, average='macro'))\n",
    "print(\"recall: \")\n",
    "print(recall_score(y_pred, y_test, average='macro'))\n",
    "print(\"f1: \")\n",
    "print(f1_score(y_pred, y_test, average='macro'))\n",
    "print(\"accuracy: \")\n",
    "print(accuracy_score(y_pred, y_test))"
   ]
  },
  {
   "cell_type": "markdown",
   "metadata": {},
   "source": [
    "## Линейная модель"
   ]
  },
  {
   "cell_type": "code",
   "execution_count": 41,
   "metadata": {
    "execution": {
     "iopub.execute_input": "2025-02-16T20:09:29.088353Z",
     "iopub.status.busy": "2025-02-16T20:09:29.088049Z",
     "iopub.status.idle": "2025-02-16T20:09:29.093335Z",
     "shell.execute_reply": "2025-02-16T20:09:29.092427Z",
     "shell.execute_reply.started": "2025-02-16T20:09:29.088328Z"
    }
   },
   "outputs": [
    {
     "data": {
      "text/plain": [
       "2670"
      ]
     },
     "execution_count": 41,
     "metadata": {},
     "output_type": "execute_result"
    }
   ],
   "source": [
    "len(cat_count_2)"
   ]
  },
  {
   "cell_type": "code",
   "execution_count": 13,
   "metadata": {
    "execution": {
     "iopub.execute_input": "2025-02-17T15:16:07.658009Z",
     "iopub.status.busy": "2025-02-17T15:16:07.657759Z",
     "iopub.status.idle": "2025-02-17T17:31:43.932665Z",
     "shell.execute_reply": "2025-02-17T17:31:43.931217Z",
     "shell.execute_reply.started": "2025-02-17T15:16:07.657987Z"
    }
   },
   "outputs": [
    {
     "name": "stdout",
     "output_type": "stream",
     "text": [
      "input_dim: 5000 num_classes: 2670\n"
     ]
    },
    {
     "data": {
      "application/vnd.jupyter.widget-view+json": {
       "model_id": "61020e3a49d3422e968ceaa264a4c9c7",
       "version_major": 2,
       "version_minor": 0
      },
      "text/plain": [
       "  0%|          | 0/3394 [00:00<?, ?it/s]"
      ]
     },
     "metadata": {},
     "output_type": "display_data"
    },
    {
     "data": {
      "application/vnd.jupyter.widget-view+json": {
       "model_id": "619d870bf73b4a7e95d79936fb7e92cb",
       "version_major": 2,
       "version_minor": 0
      },
      "text/plain": [
       "  0%|          | 0/378 [00:00<?, ?it/s]"
      ]
     },
     "metadata": {},
     "output_type": "display_data"
    },
    {
     "name": "stdout",
     "output_type": "stream",
     "text": [
      "VALIDATION - batch: 500 loss: 1.077146140671281 accuracy: 0.8652935755973489 recall: 0.8652935755973489 precision: 0.8613433651119201 f1: 0.8555967096604298\n",
      "ind // 501: 0 del: 501\n",
      "train Loss: 1785.190338730812\n"
     ]
    },
    {
     "data": {
      "application/vnd.jupyter.widget-view+json": {
       "model_id": "449c1486e4be4d1c9e827ed693fe1dee",
       "version_major": 2,
       "version_minor": 0
      },
      "text/plain": [
       "  0%|          | 0/378 [00:00<?, ?it/s]"
      ]
     },
     "metadata": {},
     "output_type": "display_data"
    },
    {
     "name": "stdout",
     "output_type": "stream",
     "text": [
      "VALIDATION - batch: 1000 loss: 0.43880008105878476 accuracy: 0.8855393553698074 recall: 0.8855393553698074 precision: 0.8873674677393693 f1: 0.8796695056158437\n",
      "ind // 501: 1 del: 501\n",
      "train Loss: 324.1034071147442\n"
     ]
    },
    {
     "data": {
      "application/vnd.jupyter.widget-view+json": {
       "model_id": "56ee8d2a9b774a27ab4b7e22fc7598e7",
       "version_major": 2,
       "version_minor": 0
      },
      "text/plain": [
       "  0%|          | 0/378 [00:00<?, ?it/s]"
      ]
     },
     "metadata": {},
     "output_type": "display_data"
    },
    {
     "name": "stdout",
     "output_type": "stream",
     "text": [
      "VALIDATION - batch: 1500 loss: 0.32633442569662025 accuracy: 0.8902867265774513 recall: 0.8902867265774513 precision: 0.8929626811338829 f1: 0.8850931489466679\n",
      "ind // 501: 2 del: 501\n",
      "train Loss: 185.71134200692177\n"
     ]
    },
    {
     "data": {
      "application/vnd.jupyter.widget-view+json": {
       "model_id": "aa85150754594afd94e37e338d126f05",
       "version_major": 2,
       "version_minor": 0
      },
      "text/plain": [
       "  0%|          | 0/378 [00:00<?, ?it/s]"
      ]
     },
     "metadata": {},
     "output_type": "display_data"
    },
    {
     "name": "stdout",
     "output_type": "stream",
     "text": [
      "VALIDATION - batch: 2000 loss: 0.282235170207011 accuracy: 0.8921230444564054 recall: 0.8921230444564054 precision: 0.8955059442622575 f1: 0.8873761015183728\n",
      "ind // 501: 3 del: 501\n",
      "train Loss: 149.91514618694782\n"
     ]
    },
    {
     "data": {
      "application/vnd.jupyter.widget-view+json": {
       "model_id": "765961edfd8b45d89191d2132a375b6f",
       "version_major": 2,
       "version_minor": 0
      },
      "text/plain": [
       "  0%|          | 0/378 [00:00<?, ?it/s]"
      ]
     },
     "metadata": {},
     "output_type": "display_data"
    },
    {
     "name": "stdout",
     "output_type": "stream",
     "text": [
      "VALIDATION - batch: 2500 loss: 0.2588141942544589 accuracy: 0.8929932987342396 recall: 0.8929932987342396 precision: 0.8965809337211299 f1: 0.8883931922343653\n",
      "ind // 501: 4 del: 501\n",
      "train Loss: 133.86697636544704\n"
     ]
    },
    {
     "data": {
      "application/vnd.jupyter.widget-view+json": {
       "model_id": "9317c7473370462fb21ffe146a8117cc",
       "version_major": 2,
       "version_minor": 0
      },
      "text/plain": [
       "  0%|          | 0/378 [00:00<?, ?it/s]"
      ]
     },
     "metadata": {},
     "output_type": "display_data"
    },
    {
     "name": "stdout",
     "output_type": "stream",
     "text": [
      "VALIDATION - batch: 3000 loss: 0.24424259597189213 accuracy: 0.8943490858592255 recall: 0.8943490858592255 precision: 0.8982734577151575 f1: 0.8900097101474593\n",
      "ind // 501: 5 del: 501\n",
      "train Loss: 123.54864045977592\n"
     ]
    },
    {
     "data": {
      "application/vnd.jupyter.widget-view+json": {
       "model_id": "0306e3e1e5464f8ea14f67dda7090e05",
       "version_major": 2,
       "version_minor": 0
      },
      "text/plain": [
       "  0%|          | 0/1616 [00:00<?, ?it/s]"
      ]
     },
     "metadata": {},
     "output_type": "display_data"
    },
    {
     "name": "stdout",
     "output_type": "stream",
     "text": [
      "Epoch 1/100, Train Loss: 0.8249, Test Loss: 0.2363\n"
     ]
    },
    {
     "data": {
      "application/vnd.jupyter.widget-view+json": {
       "model_id": "54e9ff28a8cb46c889cac346f2013167",
       "version_major": 2,
       "version_minor": 0
      },
      "text/plain": [
       "  0%|          | 0/3394 [00:00<?, ?it/s]"
      ]
     },
     "metadata": {},
     "output_type": "display_data"
    },
    {
     "data": {
      "application/vnd.jupyter.widget-view+json": {
       "model_id": "7f0de57f7b5240f780ad0b820f43c24a",
       "version_major": 2,
       "version_minor": 0
      },
      "text/plain": [
       "  0%|          | 0/378 [00:00<?, ?it/s]"
      ]
     },
     "metadata": {},
     "output_type": "display_data"
    },
    {
     "name": "stdout",
     "output_type": "stream",
     "text": [
      "VALIDATION - batch: 500 loss: 0.23438885106296137 accuracy: 0.8951189684650456 recall: 0.8951189684650456 precision: 0.8992727873517825 f1: 0.8909117824504657\n",
      "ind // 501: 0 del: 501\n",
      "train Loss: 108.95844201743603\n"
     ]
    },
    {
     "data": {
      "application/vnd.jupyter.widget-view+json": {
       "model_id": "f13a5469e5c04499809e32a79c3ebc98",
       "version_major": 2,
       "version_minor": 0
      },
      "text/plain": [
       "  0%|          | 0/378 [00:00<?, ?it/s]"
      ]
     },
     "metadata": {},
     "output_type": "display_data"
    },
    {
     "name": "stdout",
     "output_type": "stream",
     "text": [
      "VALIDATION - batch: 1000 loss: 0.2331111424026035 accuracy: 0.8954625737891196 recall: 0.8954625737891196 precision: 0.8995324966319059 f1: 0.8912415177934541\n",
      "ind // 501: 1 del: 501\n",
      "train Loss: 108.48041918873787\n"
     ]
    },
    {
     "data": {
      "application/vnd.jupyter.widget-view+json": {
       "model_id": "0b5ac0da72d147eeba3b83e9ab784f77",
       "version_major": 2,
       "version_minor": 0
      },
      "text/plain": [
       "  0%|          | 0/378 [00:00<?, ?it/s]"
      ]
     },
     "metadata": {},
     "output_type": "display_data"
    },
    {
     "name": "stdout",
     "output_type": "stream",
     "text": [
      "VALIDATION - batch: 1500 loss: 0.23198214634543374 accuracy: 0.8957048729842113 recall: 0.8957048729842113 precision: 0.8998505261697719 f1: 0.8915399508887708\n",
      "ind // 501: 2 del: 501\n",
      "train Loss: 107.99519230425358\n"
     ]
    },
    {
     "data": {
      "application/vnd.jupyter.widget-view+json": {
       "model_id": "5ccf841dd0714af58f28f0941e92a0b3",
       "version_major": 2,
       "version_minor": 0
      },
      "text/plain": [
       "  0%|          | 0/378 [00:00<?, ?it/s]"
      ]
     },
     "metadata": {},
     "output_type": "display_data"
    },
    {
     "name": "stdout",
     "output_type": "stream",
     "text": [
      "VALIDATION - batch: 2000 loss: 0.23092697410987167 accuracy: 0.8957069068023191 recall: 0.8957069068023191 precision: 0.9000768568825632 f1: 0.8916683212047437\n",
      "ind // 501: 3 del: 501\n",
      "train Loss: 107.25242879986763\n"
     ]
    },
    {
     "data": {
      "application/vnd.jupyter.widget-view+json": {
       "model_id": "be4ba32d744d4fb3a38a7cc4d7f350a5",
       "version_major": 2,
       "version_minor": 0
      },
      "text/plain": [
       "  0%|          | 0/378 [00:00<?, ?it/s]"
      ]
     },
     "metadata": {},
     "output_type": "display_data"
    },
    {
     "name": "stdout",
     "output_type": "stream",
     "text": [
      "VALIDATION - batch: 2500 loss: 0.22984274315140235 accuracy: 0.8959368381845942 recall: 0.8959368381845942 precision: 0.900034472126288 f1: 0.8917887423824871\n",
      "ind // 501: 4 del: 501\n",
      "train Loss: 106.50607126951218\n"
     ]
    },
    {
     "data": {
      "application/vnd.jupyter.widget-view+json": {
       "model_id": "207e5f8fba3c43e2b735b86f6d64e892",
       "version_major": 2,
       "version_minor": 0
      },
      "text/plain": [
       "  0%|          | 0/378 [00:00<?, ?it/s]"
      ]
     },
     "metadata": {},
     "output_type": "display_data"
    },
    {
     "name": "stdout",
     "output_type": "stream",
     "text": [
      "VALIDATION - batch: 3000 loss: 0.22875783679188874 accuracy: 0.8960536453056399 recall: 0.8960536453056399 precision: 0.900049397131641 f1: 0.8918683102154568\n",
      "ind // 501: 5 del: 501\n",
      "train Loss: 106.27735549211502\n"
     ]
    },
    {
     "data": {
      "application/vnd.jupyter.widget-view+json": {
       "model_id": "6c74441df5d241c0b21648259b986dd7",
       "version_major": 2,
       "version_minor": 0
      },
      "text/plain": [
       "  0%|          | 0/1616 [00:00<?, ?it/s]"
      ]
     },
     "metadata": {},
     "output_type": "display_data"
    },
    {
     "name": "stdout",
     "output_type": "stream",
     "text": [
      "Epoch 2/100, Train Loss: 0.2153, Test Loss: 0.2276\n"
     ]
    },
    {
     "data": {
      "application/vnd.jupyter.widget-view+json": {
       "model_id": "502ebab4f679439f997f887f95cdf855",
       "version_major": 2,
       "version_minor": 0
      },
      "text/plain": [
       "  0%|          | 0/3394 [00:00<?, ?it/s]"
      ]
     },
     "metadata": {},
     "output_type": "display_data"
    },
    {
     "ename": "KeyboardInterrupt",
     "evalue": "",
     "output_type": "error",
     "traceback": [
      "\u001b[0;31m---------------------------------------------------------------------------\u001b[0m",
      "\u001b[0;31mKeyboardInterrupt\u001b[0m                         Traceback (most recent call last)",
      "\u001b[0;32m<ipython-input-13-aa0ca710c096>\u001b[0m in \u001b[0;36m<cell line: 17>\u001b[0;34m()\u001b[0m\n\u001b[1;32m     15\u001b[0m \u001b[0;34m\u001b[0m\u001b[0m\n\u001b[1;32m     16\u001b[0m \u001b[0;34m\u001b[0m\u001b[0m\n\u001b[0;32m---> 17\u001b[0;31m \u001b[0mtrain_test_model\u001b[0m\u001b[0;34m(\u001b[0m\u001b[0mmodel\u001b[0m\u001b[0;34m,\u001b[0m \u001b[0mtrain_dataloader\u001b[0m\u001b[0;34m,\u001b[0m \u001b[0mtest_dataloader\u001b[0m\u001b[0;34m,\u001b[0m \u001b[0mval_dataloader\u001b[0m\u001b[0;34m,\u001b[0m \u001b[0mlog_freq\u001b[0m\u001b[0;34m=\u001b[0m\u001b[0;36m1\u001b[0m\u001b[0;34m,\u001b[0m \u001b[0moptimizer\u001b[0m\u001b[0;34m=\u001b[0m\u001b[0moptimizer\u001b[0m\u001b[0;34m,\u001b[0m \u001b[0mcriterion\u001b[0m\u001b[0;34m=\u001b[0m\u001b[0mcriterion\u001b[0m\u001b[0;34m,\u001b[0m \u001b[0mscheduler\u001b[0m\u001b[0;34m=\u001b[0m\u001b[0mscheduler\u001b[0m\u001b[0;34m)\u001b[0m\u001b[0;34m\u001b[0m\u001b[0;34m\u001b[0m\u001b[0m\n\u001b[0m",
      "\u001b[0;32m<ipython-input-3-59defec0cf88>\u001b[0m in \u001b[0;36mtrain_test_model\u001b[0;34m(model, train_dataloader, test_dataloader, val_dataloader, criterion, optimizer, device, log_freq, num_epochs, scheduler)\u001b[0m\n\u001b[1;32m    110\u001b[0m \u001b[0;34m\u001b[0m\u001b[0m\n\u001b[1;32m    111\u001b[0m     \u001b[0;32mfor\u001b[0m \u001b[0mepoch\u001b[0m \u001b[0;32min\u001b[0m \u001b[0mrange\u001b[0m\u001b[0;34m(\u001b[0m\u001b[0mnum_epochs\u001b[0m\u001b[0;34m)\u001b[0m\u001b[0;34m:\u001b[0m\u001b[0;34m\u001b[0m\u001b[0;34m\u001b[0m\u001b[0m\n\u001b[0;32m--> 112\u001b[0;31m         \u001b[0mmodel\u001b[0m\u001b[0;34m,\u001b[0m \u001b[0mtrain_loss\u001b[0m \u001b[0;34m=\u001b[0m \u001b[0mtrain_single_epoch\u001b[0m\u001b[0;34m(\u001b[0m\u001b[0mmodel\u001b[0m\u001b[0;34m,\u001b[0m \u001b[0mtrain_dataloader\u001b[0m\u001b[0;34m,\u001b[0m \u001b[0mval_dataloader\u001b[0m\u001b[0;34m,\u001b[0m \u001b[0mcriterion\u001b[0m\u001b[0;34m,\u001b[0m \u001b[0moptimizer\u001b[0m\u001b[0;34m,\u001b[0m \u001b[0mdevice\u001b[0m\u001b[0;34m)\u001b[0m\u001b[0;34m\u001b[0m\u001b[0;34m\u001b[0m\u001b[0m\n\u001b[0m\u001b[1;32m    113\u001b[0m         \u001b[0mtest_loss\u001b[0m \u001b[0;34m=\u001b[0m \u001b[0mtest_single_epoch\u001b[0m\u001b[0;34m(\u001b[0m\u001b[0mmodel\u001b[0m\u001b[0;34m,\u001b[0m \u001b[0mtest_dataloader\u001b[0m\u001b[0;34m,\u001b[0m \u001b[0mcriterion\u001b[0m\u001b[0;34m,\u001b[0m \u001b[0mdevice\u001b[0m\u001b[0;34m)\u001b[0m\u001b[0;34m\u001b[0m\u001b[0;34m\u001b[0m\u001b[0m\n\u001b[1;32m    114\u001b[0m         \u001b[0;32mif\u001b[0m \u001b[0mepoch\u001b[0m \u001b[0;34m%\u001b[0m \u001b[0mlog_freq\u001b[0m \u001b[0;34m==\u001b[0m \u001b[0;36m0\u001b[0m\u001b[0;34m:\u001b[0m\u001b[0;34m\u001b[0m\u001b[0;34m\u001b[0m\u001b[0m\n",
      "\u001b[0;32m<ipython-input-3-59defec0cf88>\u001b[0m in \u001b[0;36mtrain_single_epoch\u001b[0;34m(model, train_dataloader, val_dataloader, criterion, optimizer, device)\u001b[0m\n\u001b[1;32m     13\u001b[0m \u001b[0;34m\u001b[0m\u001b[0m\n\u001b[1;32m     14\u001b[0m     \u001b[0mavg_loss\u001b[0m \u001b[0;34m=\u001b[0m \u001b[0;36m0.0\u001b[0m\u001b[0;34m\u001b[0m\u001b[0;34m\u001b[0m\u001b[0m\n\u001b[0;32m---> 15\u001b[0;31m     \u001b[0;32mfor\u001b[0m \u001b[0mind\u001b[0m\u001b[0;34m,\u001b[0m \u001b[0;34m(\u001b[0m\u001b[0mX_batch\u001b[0m\u001b[0;34m,\u001b[0m \u001b[0my_batch\u001b[0m\u001b[0;34m)\u001b[0m \u001b[0;32min\u001b[0m \u001b[0menumerate\u001b[0m\u001b[0;34m(\u001b[0m\u001b[0mtqdm\u001b[0m\u001b[0;34m(\u001b[0m\u001b[0mtrain_dataloader\u001b[0m\u001b[0;34m)\u001b[0m\u001b[0;34m)\u001b[0m\u001b[0;34m:\u001b[0m\u001b[0;34m\u001b[0m\u001b[0;34m\u001b[0m\u001b[0m\n\u001b[0m\u001b[1;32m     16\u001b[0m         \u001b[0mX_batch\u001b[0m\u001b[0;34m,\u001b[0m \u001b[0my_batch\u001b[0m \u001b[0;34m=\u001b[0m \u001b[0mX_batch\u001b[0m\u001b[0;34m.\u001b[0m\u001b[0mto\u001b[0m\u001b[0;34m(\u001b[0m\u001b[0mdevice\u001b[0m\u001b[0;34m)\u001b[0m\u001b[0;34m,\u001b[0m \u001b[0my_batch\u001b[0m\u001b[0;34m.\u001b[0m\u001b[0mto\u001b[0m\u001b[0;34m(\u001b[0m\u001b[0mdevice\u001b[0m\u001b[0;34m)\u001b[0m\u001b[0;34m\u001b[0m\u001b[0;34m\u001b[0m\u001b[0m\n\u001b[1;32m     17\u001b[0m         \u001b[0;31m# with torch.autocast(device_type=device, dtype=torch.float16):\u001b[0m\u001b[0;34m\u001b[0m\u001b[0;34m\u001b[0m\u001b[0m\n",
      "\u001b[0;32m/usr/local/lib/python3.10/dist-packages/tqdm/notebook.py\u001b[0m in \u001b[0;36m__iter__\u001b[0;34m(self)\u001b[0m\n\u001b[1;32m    248\u001b[0m         \u001b[0;32mtry\u001b[0m\u001b[0;34m:\u001b[0m\u001b[0;34m\u001b[0m\u001b[0;34m\u001b[0m\u001b[0m\n\u001b[1;32m    249\u001b[0m             \u001b[0mit\u001b[0m \u001b[0;34m=\u001b[0m \u001b[0msuper\u001b[0m\u001b[0;34m(\u001b[0m\u001b[0;34m)\u001b[0m\u001b[0;34m.\u001b[0m\u001b[0m__iter__\u001b[0m\u001b[0;34m(\u001b[0m\u001b[0;34m)\u001b[0m\u001b[0;34m\u001b[0m\u001b[0;34m\u001b[0m\u001b[0m\n\u001b[0;32m--> 250\u001b[0;31m             \u001b[0;32mfor\u001b[0m \u001b[0mobj\u001b[0m \u001b[0;32min\u001b[0m \u001b[0mit\u001b[0m\u001b[0;34m:\u001b[0m\u001b[0;34m\u001b[0m\u001b[0;34m\u001b[0m\u001b[0m\n\u001b[0m\u001b[1;32m    251\u001b[0m                 \u001b[0;31m# return super(tqdm...) will not catch exception\u001b[0m\u001b[0;34m\u001b[0m\u001b[0;34m\u001b[0m\u001b[0m\n\u001b[1;32m    252\u001b[0m                 \u001b[0;32myield\u001b[0m \u001b[0mobj\u001b[0m\u001b[0;34m\u001b[0m\u001b[0;34m\u001b[0m\u001b[0m\n",
      "\u001b[0;32m/usr/local/lib/python3.10/dist-packages/tqdm/std.py\u001b[0m in \u001b[0;36m__iter__\u001b[0;34m(self)\u001b[0m\n\u001b[1;32m   1179\u001b[0m \u001b[0;34m\u001b[0m\u001b[0m\n\u001b[1;32m   1180\u001b[0m         \u001b[0;32mtry\u001b[0m\u001b[0;34m:\u001b[0m\u001b[0;34m\u001b[0m\u001b[0;34m\u001b[0m\u001b[0m\n\u001b[0;32m-> 1181\u001b[0;31m             \u001b[0;32mfor\u001b[0m \u001b[0mobj\u001b[0m \u001b[0;32min\u001b[0m \u001b[0miterable\u001b[0m\u001b[0;34m:\u001b[0m\u001b[0;34m\u001b[0m\u001b[0;34m\u001b[0m\u001b[0m\n\u001b[0m\u001b[1;32m   1182\u001b[0m                 \u001b[0;32myield\u001b[0m \u001b[0mobj\u001b[0m\u001b[0;34m\u001b[0m\u001b[0;34m\u001b[0m\u001b[0m\n\u001b[1;32m   1183\u001b[0m                 \u001b[0;31m# Update and possibly print the progressbar.\u001b[0m\u001b[0;34m\u001b[0m\u001b[0;34m\u001b[0m\u001b[0m\n",
      "\u001b[0;32m/usr/local/lib/python3.10/dist-packages/torch/utils/data/dataloader.py\u001b[0m in \u001b[0;36m__next__\u001b[0;34m(self)\u001b[0m\n\u001b[1;32m    699\u001b[0m                 \u001b[0;31m# TODO(https://github.com/pytorch/pytorch/issues/76750)\u001b[0m\u001b[0;34m\u001b[0m\u001b[0;34m\u001b[0m\u001b[0m\n\u001b[1;32m    700\u001b[0m                 \u001b[0mself\u001b[0m\u001b[0;34m.\u001b[0m\u001b[0m_reset\u001b[0m\u001b[0;34m(\u001b[0m\u001b[0;34m)\u001b[0m  \u001b[0;31m# type: ignore[call-arg]\u001b[0m\u001b[0;34m\u001b[0m\u001b[0;34m\u001b[0m\u001b[0m\n\u001b[0;32m--> 701\u001b[0;31m             \u001b[0mdata\u001b[0m \u001b[0;34m=\u001b[0m \u001b[0mself\u001b[0m\u001b[0;34m.\u001b[0m\u001b[0m_next_data\u001b[0m\u001b[0;34m(\u001b[0m\u001b[0;34m)\u001b[0m\u001b[0;34m\u001b[0m\u001b[0;34m\u001b[0m\u001b[0m\n\u001b[0m\u001b[1;32m    702\u001b[0m             \u001b[0mself\u001b[0m\u001b[0;34m.\u001b[0m\u001b[0m_num_yielded\u001b[0m \u001b[0;34m+=\u001b[0m \u001b[0;36m1\u001b[0m\u001b[0;34m\u001b[0m\u001b[0;34m\u001b[0m\u001b[0m\n\u001b[1;32m    703\u001b[0m             if (\n",
      "\u001b[0;32m/usr/local/lib/python3.10/dist-packages/torch/utils/data/dataloader.py\u001b[0m in \u001b[0;36m_next_data\u001b[0;34m(self)\u001b[0m\n\u001b[1;32m    755\u001b[0m     \u001b[0;32mdef\u001b[0m \u001b[0m_next_data\u001b[0m\u001b[0;34m(\u001b[0m\u001b[0mself\u001b[0m\u001b[0;34m)\u001b[0m\u001b[0;34m:\u001b[0m\u001b[0;34m\u001b[0m\u001b[0;34m\u001b[0m\u001b[0m\n\u001b[1;32m    756\u001b[0m         \u001b[0mindex\u001b[0m \u001b[0;34m=\u001b[0m \u001b[0mself\u001b[0m\u001b[0;34m.\u001b[0m\u001b[0m_next_index\u001b[0m\u001b[0;34m(\u001b[0m\u001b[0;34m)\u001b[0m  \u001b[0;31m# may raise StopIteration\u001b[0m\u001b[0;34m\u001b[0m\u001b[0;34m\u001b[0m\u001b[0m\n\u001b[0;32m--> 757\u001b[0;31m         \u001b[0mdata\u001b[0m \u001b[0;34m=\u001b[0m \u001b[0mself\u001b[0m\u001b[0;34m.\u001b[0m\u001b[0m_dataset_fetcher\u001b[0m\u001b[0;34m.\u001b[0m\u001b[0mfetch\u001b[0m\u001b[0;34m(\u001b[0m\u001b[0mindex\u001b[0m\u001b[0;34m)\u001b[0m  \u001b[0;31m# may raise StopIteration\u001b[0m\u001b[0;34m\u001b[0m\u001b[0;34m\u001b[0m\u001b[0m\n\u001b[0m\u001b[1;32m    758\u001b[0m         \u001b[0;32mif\u001b[0m \u001b[0mself\u001b[0m\u001b[0;34m.\u001b[0m\u001b[0m_pin_memory\u001b[0m\u001b[0;34m:\u001b[0m\u001b[0;34m\u001b[0m\u001b[0;34m\u001b[0m\u001b[0m\n\u001b[1;32m    759\u001b[0m             \u001b[0mdata\u001b[0m \u001b[0;34m=\u001b[0m \u001b[0m_utils\u001b[0m\u001b[0;34m.\u001b[0m\u001b[0mpin_memory\u001b[0m\u001b[0;34m.\u001b[0m\u001b[0mpin_memory\u001b[0m\u001b[0;34m(\u001b[0m\u001b[0mdata\u001b[0m\u001b[0;34m,\u001b[0m \u001b[0mself\u001b[0m\u001b[0;34m.\u001b[0m\u001b[0m_pin_memory_device\u001b[0m\u001b[0;34m)\u001b[0m\u001b[0;34m\u001b[0m\u001b[0;34m\u001b[0m\u001b[0m\n",
      "\u001b[0;32m/usr/local/lib/python3.10/dist-packages/torch/utils/data/_utils/fetch.py\u001b[0m in \u001b[0;36mfetch\u001b[0;34m(self, possibly_batched_index)\u001b[0m\n\u001b[1;32m     50\u001b[0m                 \u001b[0mdata\u001b[0m \u001b[0;34m=\u001b[0m \u001b[0mself\u001b[0m\u001b[0;34m.\u001b[0m\u001b[0mdataset\u001b[0m\u001b[0;34m.\u001b[0m\u001b[0m__getitems__\u001b[0m\u001b[0;34m(\u001b[0m\u001b[0mpossibly_batched_index\u001b[0m\u001b[0;34m)\u001b[0m\u001b[0;34m\u001b[0m\u001b[0;34m\u001b[0m\u001b[0m\n\u001b[1;32m     51\u001b[0m             \u001b[0;32melse\u001b[0m\u001b[0;34m:\u001b[0m\u001b[0;34m\u001b[0m\u001b[0;34m\u001b[0m\u001b[0m\n\u001b[0;32m---> 52\u001b[0;31m                 \u001b[0mdata\u001b[0m \u001b[0;34m=\u001b[0m \u001b[0;34m[\u001b[0m\u001b[0mself\u001b[0m\u001b[0;34m.\u001b[0m\u001b[0mdataset\u001b[0m\u001b[0;34m[\u001b[0m\u001b[0midx\u001b[0m\u001b[0;34m]\u001b[0m \u001b[0;32mfor\u001b[0m \u001b[0midx\u001b[0m \u001b[0;32min\u001b[0m \u001b[0mpossibly_batched_index\u001b[0m\u001b[0;34m]\u001b[0m\u001b[0;34m\u001b[0m\u001b[0;34m\u001b[0m\u001b[0m\n\u001b[0m\u001b[1;32m     53\u001b[0m         \u001b[0;32melse\u001b[0m\u001b[0;34m:\u001b[0m\u001b[0;34m\u001b[0m\u001b[0;34m\u001b[0m\u001b[0m\n\u001b[1;32m     54\u001b[0m             \u001b[0mdata\u001b[0m \u001b[0;34m=\u001b[0m \u001b[0mself\u001b[0m\u001b[0;34m.\u001b[0m\u001b[0mdataset\u001b[0m\u001b[0;34m[\u001b[0m\u001b[0mpossibly_batched_index\u001b[0m\u001b[0;34m]\u001b[0m\u001b[0;34m\u001b[0m\u001b[0;34m\u001b[0m\u001b[0m\n",
      "\u001b[0;32m/usr/local/lib/python3.10/dist-packages/torch/utils/data/_utils/fetch.py\u001b[0m in \u001b[0;36m<listcomp>\u001b[0;34m(.0)\u001b[0m\n\u001b[1;32m     50\u001b[0m                 \u001b[0mdata\u001b[0m \u001b[0;34m=\u001b[0m \u001b[0mself\u001b[0m\u001b[0;34m.\u001b[0m\u001b[0mdataset\u001b[0m\u001b[0;34m.\u001b[0m\u001b[0m__getitems__\u001b[0m\u001b[0;34m(\u001b[0m\u001b[0mpossibly_batched_index\u001b[0m\u001b[0;34m)\u001b[0m\u001b[0;34m\u001b[0m\u001b[0;34m\u001b[0m\u001b[0m\n\u001b[1;32m     51\u001b[0m             \u001b[0;32melse\u001b[0m\u001b[0;34m:\u001b[0m\u001b[0;34m\u001b[0m\u001b[0;34m\u001b[0m\u001b[0m\n\u001b[0;32m---> 52\u001b[0;31m                 \u001b[0mdata\u001b[0m \u001b[0;34m=\u001b[0m \u001b[0;34m[\u001b[0m\u001b[0mself\u001b[0m\u001b[0;34m.\u001b[0m\u001b[0mdataset\u001b[0m\u001b[0;34m[\u001b[0m\u001b[0midx\u001b[0m\u001b[0;34m]\u001b[0m \u001b[0;32mfor\u001b[0m \u001b[0midx\u001b[0m \u001b[0;32min\u001b[0m \u001b[0mpossibly_batched_index\u001b[0m\u001b[0;34m]\u001b[0m\u001b[0;34m\u001b[0m\u001b[0;34m\u001b[0m\u001b[0m\n\u001b[0m\u001b[1;32m     53\u001b[0m         \u001b[0;32melse\u001b[0m\u001b[0;34m:\u001b[0m\u001b[0;34m\u001b[0m\u001b[0;34m\u001b[0m\u001b[0m\n\u001b[1;32m     54\u001b[0m             \u001b[0mdata\u001b[0m \u001b[0;34m=\u001b[0m \u001b[0mself\u001b[0m\u001b[0;34m.\u001b[0m\u001b[0mdataset\u001b[0m\u001b[0;34m[\u001b[0m\u001b[0mpossibly_batched_index\u001b[0m\u001b[0;34m]\u001b[0m\u001b[0;34m\u001b[0m\u001b[0;34m\u001b[0m\u001b[0m\n",
      "\u001b[0;32m/usr/local/lib/python3.10/dist-packages/torch/utils/data/dataset.py\u001b[0m in \u001b[0;36m__getitem__\u001b[0;34m(self, index)\u001b[0m\n\u001b[1;32m    209\u001b[0m \u001b[0;34m\u001b[0m\u001b[0m\n\u001b[1;32m    210\u001b[0m     \u001b[0;32mdef\u001b[0m \u001b[0m__getitem__\u001b[0m\u001b[0;34m(\u001b[0m\u001b[0mself\u001b[0m\u001b[0;34m,\u001b[0m \u001b[0mindex\u001b[0m\u001b[0;34m)\u001b[0m\u001b[0;34m:\u001b[0m\u001b[0;34m\u001b[0m\u001b[0;34m\u001b[0m\u001b[0m\n\u001b[0;32m--> 211\u001b[0;31m         \u001b[0;32mreturn\u001b[0m \u001b[0mtuple\u001b[0m\u001b[0;34m(\u001b[0m\u001b[0mtensor\u001b[0m\u001b[0;34m[\u001b[0m\u001b[0mindex\u001b[0m\u001b[0;34m]\u001b[0m \u001b[0;32mfor\u001b[0m \u001b[0mtensor\u001b[0m \u001b[0;32min\u001b[0m \u001b[0mself\u001b[0m\u001b[0;34m.\u001b[0m\u001b[0mtensors\u001b[0m\u001b[0;34m)\u001b[0m\u001b[0;34m\u001b[0m\u001b[0;34m\u001b[0m\u001b[0m\n\u001b[0m\u001b[1;32m    212\u001b[0m \u001b[0;34m\u001b[0m\u001b[0m\n\u001b[1;32m    213\u001b[0m     \u001b[0;32mdef\u001b[0m \u001b[0m__len__\u001b[0m\u001b[0;34m(\u001b[0m\u001b[0mself\u001b[0m\u001b[0;34m)\u001b[0m\u001b[0;34m:\u001b[0m\u001b[0;34m\u001b[0m\u001b[0;34m\u001b[0m\u001b[0m\n",
      "\u001b[0;32m/usr/local/lib/python3.10/dist-packages/torch/utils/data/dataset.py\u001b[0m in \u001b[0;36m<genexpr>\u001b[0;34m(.0)\u001b[0m\n\u001b[1;32m    209\u001b[0m \u001b[0;34m\u001b[0m\u001b[0m\n\u001b[1;32m    210\u001b[0m     \u001b[0;32mdef\u001b[0m \u001b[0m__getitem__\u001b[0m\u001b[0;34m(\u001b[0m\u001b[0mself\u001b[0m\u001b[0;34m,\u001b[0m \u001b[0mindex\u001b[0m\u001b[0;34m)\u001b[0m\u001b[0;34m:\u001b[0m\u001b[0;34m\u001b[0m\u001b[0;34m\u001b[0m\u001b[0m\n\u001b[0;32m--> 211\u001b[0;31m         \u001b[0;32mreturn\u001b[0m \u001b[0mtuple\u001b[0m\u001b[0;34m(\u001b[0m\u001b[0mtensor\u001b[0m\u001b[0;34m[\u001b[0m\u001b[0mindex\u001b[0m\u001b[0;34m]\u001b[0m \u001b[0;32mfor\u001b[0m \u001b[0mtensor\u001b[0m \u001b[0;32min\u001b[0m \u001b[0mself\u001b[0m\u001b[0;34m.\u001b[0m\u001b[0mtensors\u001b[0m\u001b[0;34m)\u001b[0m\u001b[0;34m\u001b[0m\u001b[0;34m\u001b[0m\u001b[0m\n\u001b[0m\u001b[1;32m    212\u001b[0m \u001b[0;34m\u001b[0m\u001b[0m\n\u001b[1;32m    213\u001b[0m     \u001b[0;32mdef\u001b[0m \u001b[0m__len__\u001b[0m\u001b[0;34m(\u001b[0m\u001b[0mself\u001b[0m\u001b[0;34m)\u001b[0m\u001b[0;34m:\u001b[0m\u001b[0;34m\u001b[0m\u001b[0;34m\u001b[0m\u001b[0m\n",
      "\u001b[0;31mKeyboardInterrupt\u001b[0m: "
     ]
    }
   ],
   "source": [
    "device = torch.device(\"cuda\" if torch.cuda.is_available() else \"cpu\")\n",
    "\n",
    "input_dim = input_dim\n",
    "num_classes = len(cat_count_2)\n",
    "print(\"input_dim:\", input_dim, \"num_classes:\", num_classes)\n",
    "model = LogisticRegression(input_dim, num_classes)\n",
    "model.to(device)\n",
    " \n",
    "criterion = nn.CrossEntropyLoss()\n",
    "optimizer = optim.Adam(model.parameters(), lr=0.01)\n",
    "scheduler = torch.optim.lr_scheduler.StepLR(optimizer, step_size=1, gamma=0.1)\n",
    "\n",
    "num_epochs = 2\n",
    "\n",
    "\n",
    "train_test_model(model, train_dataloader, test_dataloader, val_dataloader, log_freq=1, optimizer=optimizer, criterion=criterion, scheduler=scheduler, num_epochs=2)"
   ]
  },
  {
   "cell_type": "markdown",
   "metadata": {},
   "source": [
    "### Save models"
   ]
  },
  {
   "cell_type": "code",
   "execution_count": 14,
   "metadata": {
    "execution": {
     "iopub.execute_input": "2025-02-17T17:32:06.856053Z",
     "iopub.status.busy": "2025-02-17T17:32:06.855750Z",
     "iopub.status.idle": "2025-02-17T17:32:07.220582Z",
     "shell.execute_reply": "2025-02-17T17:32:07.219887Z",
     "shell.execute_reply.started": "2025-02-17T17:32:06.856031Z"
    }
   },
   "outputs": [
    {
     "name": "stdout",
     "output_type": "stream",
     "text": [
      "The history saving thread hit an unexpected error (OperationalError('attempt to write a readonly database')).History will not be written to the database.\n"
     ]
    }
   ],
   "source": [
    "import pickle\n",
    "import os\n",
    "\n",
    "os.mkdir(r'C:\\Users\\User\\models')\n",
    "os.mkdir(r'C:\\Users\\User\\models\\1')\n",
    "with open(r'C:\\Users\\User\\models\\1\\le.pkl', 'wb') as file:\n",
    "    pickle.dump(le, file)\n",
    "file.close()\n",
    "with open(r'C:\\Users\\User\\models\\1\\tf-idf.pkl', 'wb') as file:\n",
    "    pickle.dump(tf_idf_vect, file)\n",
    "file.close()\n",
    "\n",
    "torch.save(model.state_dict(), r'C:\\Users\\User\\models\\1\\logic_reg.model')\n",
    "torch.save(optimizer.state_dict(), r'C:\\Users\\User\\models\\1\\optimizer.model')"
   ]
  },
  {
   "cell_type": "code",
   "execution_count": 55,
   "metadata": {
    "execution": {
     "iopub.execute_input": "2025-02-16T17:12:15.484870Z",
     "iopub.status.busy": "2025-02-16T17:12:15.484528Z",
     "iopub.status.idle": "2025-02-16T17:12:15.488931Z",
     "shell.execute_reply": "2025-02-16T17:12:15.487856Z",
     "shell.execute_reply.started": "2025-02-16T17:12:15.484845Z"
    }
   },
   "outputs": [],
   "source": [
    "torch.cuda.empty_cache()"
   ]
  },
  {
   "cell_type": "code",
   "execution_count": null,
   "metadata": {
    "execution": {
     "iopub.execute_input": "2025-02-17T17:38:42.613892Z",
     "iopub.status.busy": "2025-02-17T17:38:42.613550Z",
     "iopub.status.idle": "2025-02-17T17:38:51.069629Z",
     "shell.execute_reply": "2025-02-17T17:38:51.068537Z",
     "shell.execute_reply.started": "2025-02-17T17:38:42.613866Z"
    }
   },
   "outputs": [],
   "source": [
    "os.chdir(r'C:\\Users\\User\\models')\n",
    "os.system('zip -r models_2.zip 1')"
   ]
  },
  {
   "cell_type": "markdown",
   "metadata": {},
   "source": [
    "# Предсказания модели\n",
    "### load models"
   ]
  },
  {
   "cell_type": "code",
   "execution_count": 63,
   "metadata": {
    "execution": {
     "iopub.execute_input": "2025-02-17T18:43:08.842339Z",
     "iopub.status.busy": "2025-02-17T18:43:08.842031Z",
     "iopub.status.idle": "2025-02-17T18:43:09.076397Z",
     "shell.execute_reply": "2025-02-17T18:43:09.075526Z",
     "shell.execute_reply.started": "2025-02-17T18:43:08.842312Z"
    }
   },
   "outputs": [],
   "source": [
    "import torch\n",
    "import pickle\n",
    "\n",
    "class LogisticRegression(torch.nn.Module):\n",
    "    def __init__(self, input_dim, output_dim):\n",
    "        super(LogisticRegression, self).__init__()\n",
    "        self.linear = torch.nn.Linear(input_dim, output_dim)\n",
    "    \n",
    "    def forward(self, x):\n",
    "        return self.linear(x)\n",
    "\n",
    "input_dim = 5000\n",
    "output_dim = 2670\n",
    "device = \"cuda\" if torch.cuda.is_available() else \"cpu\"\n",
    "\n",
    "model_path = r'C:\\Users\\User\\models\\1\\logic_reg.model'\n",
    "tfidf_path = r'C:\\Users\\User\\models\\1\\tf-idf.pkl'\n",
    "le_path = r'C:\\Users\\User\\models\\1\\le.pkl'\n",
    "\n",
    "model = LogisticRegression(input_dim, output_dim)\n",
    "model.load_state_dict(torch.load(model_path, map_location=device, weights_only=True))\n",
    "model.to(device)\n",
    "model.eval()\n",
    "\n",
    "\n",
    "with open(tfidf_path, 'rb') as f:\n",
    "    tf_idf_vect = pickle.load(f)\n",
    "\n",
    "with open(le_path, 'rb') as f:\n",
    "    le = pickle.load(f)\n"
   ]
  },
  {
   "cell_type": "code",
   "execution_count": null,
   "metadata": {},
   "outputs": [],
   "source": [
    "    X_val = tfidf_vectorizer.transform(X_val)\n",
    "\n",
    "    X_train_coo = X_train.tocoo()\n",
    "    X_test_coo = X_test.tocoo()\n",
    "    X_val_coo = X_val.tocoo()\n",
    "    print('X_train starting...')\n",
    "\n",
    "    X_train_tensor = torch.sparse_coo_tensor(\n",
    "        torch.tensor(np.vstack((X_train_coo.row, X_train_coo.col))),\n",
    "        torch.tensor(X_train_coo.data),\n",
    "        X_train.shape,\n",
    "        dtype=torch.float32\n",
    "        ).to('cuda' if torch.cuda.is_available() else 'cpu'"
   ]
  },
  {
   "cell_type": "code",
   "execution_count": 64,
   "metadata": {
    "execution": {
     "iopub.execute_input": "2025-02-17T18:43:11.463916Z",
     "iopub.status.busy": "2025-02-17T18:43:11.463631Z",
     "iopub.status.idle": "2025-02-17T18:43:12.235125Z",
     "shell.execute_reply": "2025-02-17T18:43:12.234147Z",
     "shell.execute_reply.started": "2025-02-17T18:43:11.463895Z"
    }
   },
   "outputs": [
    {
     "data": {
      "application/vnd.jupyter.widget-view+json": {
       "model_id": "c09137184df4486ea0a3e2025598700f",
       "version_major": 2,
       "version_minor": 0
      },
      "text/plain": [
       "  0%|          | 0/6 [00:00<?, ?it/s]"
      ]
     },
     "metadata": {},
     "output_type": "display_data"
    },
    {
     "name": "stdout",
     "output_type": "stream",
     "text": [
      "input data: аврелий пойти кухня\n",
      "tensor([0.0070], device='cuda:0')\n",
      "class: unknown, prob: 0\n",
      "input data: пойти магаизна огурец купить капуста\n",
      "tensor([0.0070], device='cuda:0')\n",
      "class: unknown, prob: 0\n",
      "input data: нимешивать гранула 100мг 2г пакет № нимесулид обезболивать\n",
      "tensor([0.5576], device='cuda:0')\n",
      "class: НИМЕСУЛИД ГРАН 100 МГ (2 Г) №10, prob: 0.5575815439224243\n",
      "input data: 1 0 нимешивать гран д сусп д прием внутрь 100 мг пак 2 г №\n",
      "tensor([0.3681], device='cuda:0')\n",
      "class: НАЙЗ ГРАН 50 МГ/Г 100 МГ 2 Г №9, prob: 0.3680552542209625\n",
      "input data: 1 30 нимешивать 0 12 0 n30 пак гра\n",
      "tensor([0.2403], device='cuda:0')\n",
      "class: БИФИДУМБАКТЕРИН ПОР 850 МГ 500000000 КОЕ №30, prob: 0.24029411375522614\n",
      "input data: 1 30 нимешивать пак 100 мг №\n",
      "tensor([0.3759], device='cuda:0')\n",
      "class: НИМЕСУЛИД ГРАН 100 МГ (2 Г) №30, prob: 0.3759028911590576\n"
     ]
    }
   ],
   "source": [
    "import torch\n",
    "import torch.nn.functional as F\n",
    "\n",
    "\n",
    "def classify_data(model, tf_idf_vect, le, input_data, device, threshould=0.1):\n",
    "    model.eval()\n",
    "    \n",
    "    X = tf_idf_vect.transform([input_data])\n",
    "    X = X.tocoo()\n",
    "    X_tensor = torch.sparse_coo_tensor(\n",
    "        torch.tensor(np.vstack((X.row, X.col))),\n",
    "        torch.tensor(X.data),\n",
    "        X.shape,\n",
    "        dtype=torch.float32\n",
    "    ).to(device)\n",
    "    \n",
    "    with torch.no_grad():\n",
    "        output = model(X_tensor)\n",
    "        probabilities = F.softmax(output, dim=1)\n",
    "        max_prob, predicted_class = torch.max(probabilities, dim=1)\n",
    "        print(max_prob)\n",
    "        if max_prob.item() >= threshould:\n",
    "            return le.inverse_transform([predicted_class.item()])[0], max_prob.item()\n",
    "        else:\n",
    "            return \"unknown\", 0\n",
    "\n",
    "def classify_texts(model, tf_idf_vect, le, texts, device, threshould=0.1):\n",
    "    for input_data in preproc(texts):\n",
    "        print(f'input data: {input_data}')\n",
    "        classification, prob = classify_data(model, tf_idf_vect, le, input_data, device, threshould = threshould)\n",
    "        print(f'class: {classification}, prob: {prob}')\n",
    "\n",
    "input_data = ['Аврелий пошел на кухню', 'пошел в магаизн за огурцами, а купил капусту']\n",
    "input_data.extend(texts[:4])\n",
    "classify_texts(model, tf_idf_vect, le, input_data, device)"
   ]
  }
 ],
 "metadata": {
  "accelerator": "GPU",
  "colab": {
   "gpuType": "T4",
   "provenance": []
  },
  "kaggle": {
   "accelerator": "gpu",
   "dataSources": [
    {
     "datasetId": 6623501,
     "sourceId": 10689952,
     "sourceType": "datasetVersion"
    },
    {
     "datasetId": 6679345,
     "sourceId": 10767313,
     "sourceType": "datasetVersion"
    },
    {
     "isSourceIdPinned": true,
     "modelId": 244340,
     "modelInstanceId": 222578,
     "sourceId": 260350,
     "sourceType": "modelInstanceVersion"
    }
   ],
   "dockerImageVersionId": 30839,
   "isGpuEnabled": true,
   "isInternetEnabled": true,
   "language": "python",
   "sourceType": "notebook"
  },
  "kernelspec": {
   "display_name": "Python 3 (ipykernel)",
   "language": "python",
   "name": "python3"
  },
  "language_info": {
   "codemirror_mode": {
    "name": "ipython",
    "version": 3
   },
   "file_extension": ".py",
   "mimetype": "text/x-python",
   "name": "python",
   "nbconvert_exporter": "python",
   "pygments_lexer": "ipython3",
   "version": "3.11.4"
  },
  "widgets": {
   "application/vnd.jupyter.widget-state+json": {
    "0aa26366d3684ec5a21352bfe79cb8e3": {
     "model_module": "@jupyter-widgets/base",
     "model_module_version": "1.2.0",
     "model_name": "LayoutModel",
     "state": {
      "_model_module": "@jupyter-widgets/base",
      "_model_module_version": "1.2.0",
      "_model_name": "LayoutModel",
      "_view_count": null,
      "_view_module": "@jupyter-widgets/base",
      "_view_module_version": "1.2.0",
      "_view_name": "LayoutView",
      "align_content": null,
      "align_items": null,
      "align_self": null,
      "border": null,
      "bottom": null,
      "display": null,
      "flex": null,
      "flex_flow": null,
      "grid_area": null,
      "grid_auto_columns": null,
      "grid_auto_flow": null,
      "grid_auto_rows": null,
      "grid_column": null,
      "grid_gap": null,
      "grid_row": null,
      "grid_template_areas": null,
      "grid_template_columns": null,
      "grid_template_rows": null,
      "height": null,
      "justify_content": null,
      "justify_items": null,
      "left": null,
      "margin": null,
      "max_height": null,
      "max_width": null,
      "min_height": null,
      "min_width": null,
      "object_fit": null,
      "object_position": null,
      "order": null,
      "overflow": null,
      "overflow_x": null,
      "overflow_y": null,
      "padding": null,
      "right": null,
      "top": null,
      "visibility": null,
      "width": null
     }
    },
    "182a0ec5ad524127a7c27cd0ecd1e62b": {
     "model_module": "@jupyter-widgets/controls",
     "model_module_version": "1.5.0",
     "model_name": "FloatProgressModel",
     "state": {
      "_dom_classes": [],
      "_model_module": "@jupyter-widgets/controls",
      "_model_module_version": "1.5.0",
      "_model_name": "FloatProgressModel",
      "_view_count": null,
      "_view_module": "@jupyter-widgets/controls",
      "_view_module_version": "1.5.0",
      "_view_name": "ProgressView",
      "bar_style": "success",
      "description": "",
      "description_tooltip": null,
      "layout": "IPY_MODEL_0aa26366d3684ec5a21352bfe79cb8e3",
      "max": 1,
      "min": 0,
      "orientation": "horizontal",
      "style": "IPY_MODEL_5b7df4bf0f7047d7afa6a313d05e1c69",
      "value": 1
     }
    },
    "3016b1939d874a6bafc8644ef297b012": {
     "model_module": "@jupyter-widgets/base",
     "model_module_version": "1.2.0",
     "model_name": "LayoutModel",
     "state": {
      "_model_module": "@jupyter-widgets/base",
      "_model_module_version": "1.2.0",
      "_model_name": "LayoutModel",
      "_view_count": null,
      "_view_module": "@jupyter-widgets/base",
      "_view_module_version": "1.2.0",
      "_view_name": "LayoutView",
      "align_content": null,
      "align_items": null,
      "align_self": null,
      "border": null,
      "bottom": null,
      "display": null,
      "flex": null,
      "flex_flow": null,
      "grid_area": null,
      "grid_auto_columns": null,
      "grid_auto_flow": null,
      "grid_auto_rows": null,
      "grid_column": null,
      "grid_gap": null,
      "grid_row": null,
      "grid_template_areas": null,
      "grid_template_columns": null,
      "grid_template_rows": null,
      "height": null,
      "justify_content": null,
      "justify_items": null,
      "left": null,
      "margin": null,
      "max_height": null,
      "max_width": null,
      "min_height": null,
      "min_width": null,
      "object_fit": null,
      "object_position": null,
      "order": null,
      "overflow": null,
      "overflow_x": null,
      "overflow_y": null,
      "padding": null,
      "right": null,
      "top": null,
      "visibility": null,
      "width": null
     }
    },
    "4855d7b0cf63433bbebf2c1648c55543": {
     "model_module": "@jupyter-widgets/base",
     "model_module_version": "1.2.0",
     "model_name": "LayoutModel",
     "state": {
      "_model_module": "@jupyter-widgets/base",
      "_model_module_version": "1.2.0",
      "_model_name": "LayoutModel",
      "_view_count": null,
      "_view_module": "@jupyter-widgets/base",
      "_view_module_version": "1.2.0",
      "_view_name": "LayoutView",
      "align_content": null,
      "align_items": null,
      "align_self": null,
      "border": null,
      "bottom": null,
      "display": null,
      "flex": null,
      "flex_flow": null,
      "grid_area": null,
      "grid_auto_columns": null,
      "grid_auto_flow": null,
      "grid_auto_rows": null,
      "grid_column": null,
      "grid_gap": null,
      "grid_row": null,
      "grid_template_areas": null,
      "grid_template_columns": null,
      "grid_template_rows": null,
      "height": null,
      "justify_content": null,
      "justify_items": null,
      "left": null,
      "margin": null,
      "max_height": null,
      "max_width": null,
      "min_height": null,
      "min_width": null,
      "object_fit": null,
      "object_position": null,
      "order": null,
      "overflow": null,
      "overflow_x": null,
      "overflow_y": null,
      "padding": null,
      "right": null,
      "top": null,
      "visibility": null,
      "width": null
     }
    },
    "5b7df4bf0f7047d7afa6a313d05e1c69": {
     "model_module": "@jupyter-widgets/controls",
     "model_module_version": "1.5.0",
     "model_name": "ProgressStyleModel",
     "state": {
      "_model_module": "@jupyter-widgets/controls",
      "_model_module_version": "1.5.0",
      "_model_name": "ProgressStyleModel",
      "_view_count": null,
      "_view_module": "@jupyter-widgets/base",
      "_view_module_version": "1.2.0",
      "_view_name": "StyleView",
      "bar_color": null,
      "description_width": ""
     }
    },
    "8562a9cada434c208431a39c6479e8bb": {
     "model_module": "@jupyter-widgets/controls",
     "model_module_version": "1.5.0",
     "model_name": "DescriptionStyleModel",
     "state": {
      "_model_module": "@jupyter-widgets/controls",
      "_model_module_version": "1.5.0",
      "_model_name": "DescriptionStyleModel",
      "_view_count": null,
      "_view_module": "@jupyter-widgets/base",
      "_view_module_version": "1.2.0",
      "_view_name": "StyleView",
      "description_width": ""
     }
    },
    "8e036321f0774c798b9a9a693379d331": {
     "model_module": "@jupyter-widgets/base",
     "model_module_version": "1.2.0",
     "model_name": "LayoutModel",
     "state": {
      "_model_module": "@jupyter-widgets/base",
      "_model_module_version": "1.2.0",
      "_model_name": "LayoutModel",
      "_view_count": null,
      "_view_module": "@jupyter-widgets/base",
      "_view_module_version": "1.2.0",
      "_view_name": "LayoutView",
      "align_content": null,
      "align_items": null,
      "align_self": null,
      "border": null,
      "bottom": null,
      "display": null,
      "flex": null,
      "flex_flow": null,
      "grid_area": null,
      "grid_auto_columns": null,
      "grid_auto_flow": null,
      "grid_auto_rows": null,
      "grid_column": null,
      "grid_gap": null,
      "grid_row": null,
      "grid_template_areas": null,
      "grid_template_columns": null,
      "grid_template_rows": null,
      "height": null,
      "justify_content": null,
      "justify_items": null,
      "left": null,
      "margin": null,
      "max_height": null,
      "max_width": null,
      "min_height": null,
      "min_width": null,
      "object_fit": null,
      "object_position": null,
      "order": null,
      "overflow": null,
      "overflow_x": null,
      "overflow_y": null,
      "padding": null,
      "right": null,
      "top": null,
      "visibility": null,
      "width": null
     }
    },
    "8fde5133fe1b45fc80d7ce6a91ff15fe": {
     "model_module": "@jupyter-widgets/base",
     "model_module_version": "1.2.0",
     "model_name": "LayoutModel",
     "state": {
      "_model_module": "@jupyter-widgets/base",
      "_model_module_version": "1.2.0",
      "_model_name": "LayoutModel",
      "_view_count": null,
      "_view_module": "@jupyter-widgets/base",
      "_view_module_version": "1.2.0",
      "_view_name": "LayoutView",
      "align_content": null,
      "align_items": null,
      "align_self": null,
      "border": null,
      "bottom": null,
      "display": null,
      "flex": null,
      "flex_flow": null,
      "grid_area": null,
      "grid_auto_columns": null,
      "grid_auto_flow": null,
      "grid_auto_rows": null,
      "grid_column": null,
      "grid_gap": null,
      "grid_row": null,
      "grid_template_areas": null,
      "grid_template_columns": null,
      "grid_template_rows": null,
      "height": null,
      "justify_content": null,
      "justify_items": null,
      "left": null,
      "margin": null,
      "max_height": null,
      "max_width": null,
      "min_height": null,
      "min_width": null,
      "object_fit": null,
      "object_position": null,
      "order": null,
      "overflow": null,
      "overflow_x": null,
      "overflow_y": null,
      "padding": null,
      "right": null,
      "top": null,
      "visibility": null,
      "width": null
     }
    },
    "90756736b46e46af8f979c427fa18279": {
     "model_module": "@jupyter-widgets/controls",
     "model_module_version": "1.5.0",
     "model_name": "HBoxModel",
     "state": {
      "_dom_classes": [],
      "_model_module": "@jupyter-widgets/controls",
      "_model_module_version": "1.5.0",
      "_model_name": "HBoxModel",
      "_view_count": null,
      "_view_module": "@jupyter-widgets/controls",
      "_view_module_version": "1.5.0",
      "_view_name": "HBoxView",
      "box_style": "",
      "children": [
       "IPY_MODEL_febdaa20f6514e10877f9a6f1856b3a9",
       "IPY_MODEL_9f00170ed1074d23a63c7bbb6feb3f6c",
       "IPY_MODEL_ce046283174c478b841cbf986d73371a"
      ],
      "layout": "IPY_MODEL_8fde5133fe1b45fc80d7ce6a91ff15fe"
     }
    },
    "98e0706f48ff46d88b910f54596a5caa": {
     "model_module": "@jupyter-widgets/controls",
     "model_module_version": "1.5.0",
     "model_name": "HTMLModel",
     "state": {
      "_dom_classes": [],
      "_model_module": "@jupyter-widgets/controls",
      "_model_module_version": "1.5.0",
      "_model_name": "HTMLModel",
      "_view_count": null,
      "_view_module": "@jupyter-widgets/controls",
      "_view_module_version": "1.5.0",
      "_view_name": "HTMLView",
      "description": "",
      "description_tooltip": null,
      "layout": "IPY_MODEL_e568278444144635a9ba9222a88cae07",
      "placeholder": "​",
      "style": "IPY_MODEL_8562a9cada434c208431a39c6479e8bb",
      "value": " 1/1 [00:01&lt;00:00,  1.29s/it]"
     }
    },
    "9f00170ed1074d23a63c7bbb6feb3f6c": {
     "model_module": "@jupyter-widgets/controls",
     "model_module_version": "1.5.0",
     "model_name": "FloatProgressModel",
     "state": {
      "_dom_classes": [],
      "_model_module": "@jupyter-widgets/controls",
      "_model_module_version": "1.5.0",
      "_model_name": "FloatProgressModel",
      "_view_count": null,
      "_view_module": "@jupyter-widgets/controls",
      "_view_module_version": "1.5.0",
      "_view_name": "ProgressView",
      "bar_style": "success",
      "description": "",
      "description_tooltip": null,
      "layout": "IPY_MODEL_3016b1939d874a6bafc8644ef297b012",
      "max": 56198,
      "min": 0,
      "orientation": "horizontal",
      "style": "IPY_MODEL_e4fdbb4f8888480488694d141f6355a6",
      "value": 56198
     }
    },
    "b977263145c9466191a7fd34f55a5e45": {
     "model_module": "@jupyter-widgets/controls",
     "model_module_version": "1.5.0",
     "model_name": "DescriptionStyleModel",
     "state": {
      "_model_module": "@jupyter-widgets/controls",
      "_model_module_version": "1.5.0",
      "_model_name": "DescriptionStyleModel",
      "_view_count": null,
      "_view_module": "@jupyter-widgets/base",
      "_view_module_version": "1.2.0",
      "_view_name": "StyleView",
      "description_width": ""
     }
    },
    "ba13b93150ba4107bb70905e8aa4ed02": {
     "model_module": "@jupyter-widgets/controls",
     "model_module_version": "1.5.0",
     "model_name": "DescriptionStyleModel",
     "state": {
      "_model_module": "@jupyter-widgets/controls",
      "_model_module_version": "1.5.0",
      "_model_name": "DescriptionStyleModel",
      "_view_count": null,
      "_view_module": "@jupyter-widgets/base",
      "_view_module_version": "1.2.0",
      "_view_name": "StyleView",
      "description_width": ""
     }
    },
    "ce046283174c478b841cbf986d73371a": {
     "model_module": "@jupyter-widgets/controls",
     "model_module_version": "1.5.0",
     "model_name": "HTMLModel",
     "state": {
      "_dom_classes": [],
      "_model_module": "@jupyter-widgets/controls",
      "_model_module_version": "1.5.0",
      "_model_name": "HTMLModel",
      "_view_count": null,
      "_view_module": "@jupyter-widgets/controls",
      "_view_module_version": "1.5.0",
      "_view_name": "HTMLView",
      "description": "",
      "description_tooltip": null,
      "layout": "IPY_MODEL_da0b74012fb8427fa3d84a74c851a80c",
      "placeholder": "​",
      "style": "IPY_MODEL_e093c67c04c6463a9df4e894b3f6e1bd",
      "value": " 56198/56198 [01:07&lt;00:00, 963.87it/s]"
     }
    },
    "da0b74012fb8427fa3d84a74c851a80c": {
     "model_module": "@jupyter-widgets/base",
     "model_module_version": "1.2.0",
     "model_name": "LayoutModel",
     "state": {
      "_model_module": "@jupyter-widgets/base",
      "_model_module_version": "1.2.0",
      "_model_name": "LayoutModel",
      "_view_count": null,
      "_view_module": "@jupyter-widgets/base",
      "_view_module_version": "1.2.0",
      "_view_name": "LayoutView",
      "align_content": null,
      "align_items": null,
      "align_self": null,
      "border": null,
      "bottom": null,
      "display": null,
      "flex": null,
      "flex_flow": null,
      "grid_area": null,
      "grid_auto_columns": null,
      "grid_auto_flow": null,
      "grid_auto_rows": null,
      "grid_column": null,
      "grid_gap": null,
      "grid_row": null,
      "grid_template_areas": null,
      "grid_template_columns": null,
      "grid_template_rows": null,
      "height": null,
      "justify_content": null,
      "justify_items": null,
      "left": null,
      "margin": null,
      "max_height": null,
      "max_width": null,
      "min_height": null,
      "min_width": null,
      "object_fit": null,
      "object_position": null,
      "order": null,
      "overflow": null,
      "overflow_x": null,
      "overflow_y": null,
      "padding": null,
      "right": null,
      "top": null,
      "visibility": null,
      "width": null
     }
    },
    "e093c67c04c6463a9df4e894b3f6e1bd": {
     "model_module": "@jupyter-widgets/controls",
     "model_module_version": "1.5.0",
     "model_name": "DescriptionStyleModel",
     "state": {
      "_model_module": "@jupyter-widgets/controls",
      "_model_module_version": "1.5.0",
      "_model_name": "DescriptionStyleModel",
      "_view_count": null,
      "_view_module": "@jupyter-widgets/base",
      "_view_module_version": "1.2.0",
      "_view_name": "StyleView",
      "description_width": ""
     }
    },
    "e4fdbb4f8888480488694d141f6355a6": {
     "model_module": "@jupyter-widgets/controls",
     "model_module_version": "1.5.0",
     "model_name": "ProgressStyleModel",
     "state": {
      "_model_module": "@jupyter-widgets/controls",
      "_model_module_version": "1.5.0",
      "_model_name": "ProgressStyleModel",
      "_view_count": null,
      "_view_module": "@jupyter-widgets/base",
      "_view_module_version": "1.2.0",
      "_view_name": "StyleView",
      "bar_color": null,
      "description_width": ""
     }
    },
    "e568278444144635a9ba9222a88cae07": {
     "model_module": "@jupyter-widgets/base",
     "model_module_version": "1.2.0",
     "model_name": "LayoutModel",
     "state": {
      "_model_module": "@jupyter-widgets/base",
      "_model_module_version": "1.2.0",
      "_model_name": "LayoutModel",
      "_view_count": null,
      "_view_module": "@jupyter-widgets/base",
      "_view_module_version": "1.2.0",
      "_view_name": "LayoutView",
      "align_content": null,
      "align_items": null,
      "align_self": null,
      "border": null,
      "bottom": null,
      "display": null,
      "flex": null,
      "flex_flow": null,
      "grid_area": null,
      "grid_auto_columns": null,
      "grid_auto_flow": null,
      "grid_auto_rows": null,
      "grid_column": null,
      "grid_gap": null,
      "grid_row": null,
      "grid_template_areas": null,
      "grid_template_columns": null,
      "grid_template_rows": null,
      "height": null,
      "justify_content": null,
      "justify_items": null,
      "left": null,
      "margin": null,
      "max_height": null,
      "max_width": null,
      "min_height": null,
      "min_width": null,
      "object_fit": null,
      "object_position": null,
      "order": null,
      "overflow": null,
      "overflow_x": null,
      "overflow_y": null,
      "padding": null,
      "right": null,
      "top": null,
      "visibility": null,
      "width": null
     }
    },
    "eb5a52ac790d4dc38dfae031cbec76e5": {
     "model_module": "@jupyter-widgets/base",
     "model_module_version": "1.2.0",
     "model_name": "LayoutModel",
     "state": {
      "_model_module": "@jupyter-widgets/base",
      "_model_module_version": "1.2.0",
      "_model_name": "LayoutModel",
      "_view_count": null,
      "_view_module": "@jupyter-widgets/base",
      "_view_module_version": "1.2.0",
      "_view_name": "LayoutView",
      "align_content": null,
      "align_items": null,
      "align_self": null,
      "border": null,
      "bottom": null,
      "display": null,
      "flex": null,
      "flex_flow": null,
      "grid_area": null,
      "grid_auto_columns": null,
      "grid_auto_flow": null,
      "grid_auto_rows": null,
      "grid_column": null,
      "grid_gap": null,
      "grid_row": null,
      "grid_template_areas": null,
      "grid_template_columns": null,
      "grid_template_rows": null,
      "height": null,
      "justify_content": null,
      "justify_items": null,
      "left": null,
      "margin": null,
      "max_height": null,
      "max_width": null,
      "min_height": null,
      "min_width": null,
      "object_fit": null,
      "object_position": null,
      "order": null,
      "overflow": null,
      "overflow_x": null,
      "overflow_y": null,
      "padding": null,
      "right": null,
      "top": null,
      "visibility": null,
      "width": null
     }
    },
    "f4d8a87507b34c1292a1c4eab00adcaf": {
     "model_module": "@jupyter-widgets/controls",
     "model_module_version": "1.5.0",
     "model_name": "HBoxModel",
     "state": {
      "_dom_classes": [],
      "_model_module": "@jupyter-widgets/controls",
      "_model_module_version": "1.5.0",
      "_model_name": "HBoxModel",
      "_view_count": null,
      "_view_module": "@jupyter-widgets/controls",
      "_view_module_version": "1.5.0",
      "_view_name": "HBoxView",
      "box_style": "",
      "children": [
       "IPY_MODEL_f730ffca6fba423fb443ee52d08d66c5",
       "IPY_MODEL_182a0ec5ad524127a7c27cd0ecd1e62b",
       "IPY_MODEL_98e0706f48ff46d88b910f54596a5caa"
      ],
      "layout": "IPY_MODEL_eb5a52ac790d4dc38dfae031cbec76e5"
     }
    },
    "f730ffca6fba423fb443ee52d08d66c5": {
     "model_module": "@jupyter-widgets/controls",
     "model_module_version": "1.5.0",
     "model_name": "HTMLModel",
     "state": {
      "_dom_classes": [],
      "_model_module": "@jupyter-widgets/controls",
      "_model_module_version": "1.5.0",
      "_model_name": "HTMLModel",
      "_view_count": null,
      "_view_module": "@jupyter-widgets/controls",
      "_view_module_version": "1.5.0",
      "_view_name": "HTMLView",
      "description": "",
      "description_tooltip": null,
      "layout": "IPY_MODEL_8e036321f0774c798b9a9a693379d331",
      "placeholder": "​",
      "style": "IPY_MODEL_b977263145c9466191a7fd34f55a5e45",
      "value": "100%"
     }
    },
    "febdaa20f6514e10877f9a6f1856b3a9": {
     "model_module": "@jupyter-widgets/controls",
     "model_module_version": "1.5.0",
     "model_name": "HTMLModel",
     "state": {
      "_dom_classes": [],
      "_model_module": "@jupyter-widgets/controls",
      "_model_module_version": "1.5.0",
      "_model_name": "HTMLModel",
      "_view_count": null,
      "_view_module": "@jupyter-widgets/controls",
      "_view_module_version": "1.5.0",
      "_view_name": "HTMLView",
      "description": "",
      "description_tooltip": null,
      "layout": "IPY_MODEL_4855d7b0cf63433bbebf2c1648c55543",
      "placeholder": "​",
      "style": "IPY_MODEL_ba13b93150ba4107bb70905e8aa4ed02",
      "value": "100%"
     }
    }
   }
  }
 },
 "nbformat": 4,
 "nbformat_minor": 4
}
